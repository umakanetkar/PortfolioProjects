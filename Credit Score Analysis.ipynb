{
 "cells": [
  {
   "cell_type": "markdown",
   "id": "a96ccdff",
   "metadata": {},
   "source": [
    "# <u> Final Project: Analysis on Credit Score"
   ]
  },
  {
   "cell_type": "markdown",
   "id": "28193638",
   "metadata": {},
   "source": [
    "# 1. Importing Packages"
   ]
  },
  {
   "cell_type": "code",
   "execution_count": 1,
   "id": "0df28d62",
   "metadata": {},
   "outputs": [
    {
     "name": "stdout",
     "output_type": "stream",
     "text": [
      "%pylab is deprecated, use %matplotlib inline and import the required libraries.\n",
      "Populating the interactive namespace from numpy and matplotlib\n"
     ]
    },
    {
     "name": "stderr",
     "output_type": "stream",
     "text": [
      "C:\\Users\\praka\\anaconda3\\lib\\site-packages\\IPython\\core\\magics\\pylab.py:162: UserWarning: pylab import has clobbered these variables: ['datetime']\n",
      "`%matplotlib` prevents importing * from pylab and numpy\n",
      "  warn(\"pylab import has clobbered these variables: %s\"  % clobbered +\n"
     ]
    }
   ],
   "source": [
    "import pandas as pd\n",
    "import numpy as np\n",
    "import seaborn as sns\n",
    "from datetime import datetime\n",
    "from IPython.display import Image  \n",
    "import pydotplus\n",
    "%pylab inline\n",
    "\n",
    "import sklearn as sk\n",
    "import sklearn.tree as tree\n",
    "\n",
    "import warnings\n",
    "warnings.filterwarnings('ignore')"
   ]
  },
  {
   "cell_type": "code",
   "execution_count": 2,
   "id": "87d8dbab",
   "metadata": {},
   "outputs": [],
   "source": [
    "pd.set_option('display.max_columns',None)\n",
    "pd.set_option('display.float_format', lambda x: '%.3f' % x)"
   ]
  },
  {
   "cell_type": "code",
   "execution_count": 3,
   "id": "b6059aeb",
   "metadata": {},
   "outputs": [],
   "source": [
    "# print all the outputs in a cell\n",
    "from IPython.core.interactiveshell import InteractiveShell\n",
    "InteractiveShell.ast_node_interactivity = \"all\""
   ]
  },
  {
   "cell_type": "markdown",
   "id": "28ecf7c2",
   "metadata": {},
   "source": [
    "# 2. Reading Dataset"
   ]
  },
  {
   "cell_type": "code",
   "execution_count": 4,
   "id": "e1318a45",
   "metadata": {},
   "outputs": [],
   "source": [
    "df = pd.read_csv('train.csv')"
   ]
  },
  {
   "cell_type": "code",
   "execution_count": 5,
   "id": "5b45d63e",
   "metadata": {
    "scrolled": true
   },
   "outputs": [
    {
     "data": {
      "text/plain": [
       "100000"
      ]
     },
     "execution_count": 5,
     "metadata": {},
     "output_type": "execute_result"
    }
   ],
   "source": [
    "#Making a copy of dataset\n",
    "df2 = df.copy()\n",
    "len(df2)"
   ]
  },
  {
   "cell_type": "markdown",
   "id": "03a6053d",
   "metadata": {},
   "source": [
    "## Data Description"
   ]
  },
  {
   "cell_type": "markdown",
   "id": "b02d5b55",
   "metadata": {},
   "source": [
    "The dataset has entries related to lot of Credit related information gathered for many years. We are trying to build a machine learning model to <b> classify the credit scores into the categories of Good, Standard and Poor. </b>\n",
    "\n",
    "We will analyse the data to find conclusions on how one can improve his/her credit score.\n",
    "    \n",
    "Following are the variables that we have in our dataset\n",
    "\n",
    "* <b>ID</b>: Represents a unique identification number of the entry\n",
    "\n",
    "* <b>Customer_ID</b>: Represents a unique identification of the person\n",
    "\n",
    "* <b>Month</b>: Represents the month of the entry\n",
    "\n",
    "* <b>Name</b>: Represents the name of a person\n",
    "\n",
    "* <b>Age</b>: Represents the age of the person\n",
    "\n",
    "* <b>SSN</b>: Represents the social security number of a person (Unique identifier)\n",
    "\n",
    "* <b>Occupation</b>: Represents the occupation of the person\n",
    "\n",
    "* <b>Annual Income</b>: Represents the annual income of the\n",
    "\n",
    "* <b>Monthly Inhand Salary</b>: Represents the monthly base salary of a person\n",
    "\n",
    "* <b>Number of Bank Accounts</b>: Represents the number of bank accounts a person holds\n",
    "\n",
    "* <b>Number of Credit Cards</b>: Represents the number of other credit cards held by a person\n",
    "\n",
    "* <b>Interest Rate</b>: Represents the interest rate on credit card\n",
    "\n",
    "* <b>Number of Loans</b>: Represents the number of loans taken from the bank\n",
    "\n",
    "* <b>Types of Loan</b>: Represents the types of loan taken by a person\n",
    "\n",
    "* <b>Delay from due date</b>: Represents the average number of day\n",
    "\n",
    "* <b>Number of delayed payment</b>: Represents the average number of payments delayed by a person\n",
    "\n",
    "* <b>Changed Credit Limit</b>: Represents the percentage change in credit card limit\n",
    "\n",
    "* <b>Number of credit inquiries</b>: Represents the number of credit card inquiries\n",
    "\n",
    "* <b>Credit Mix</b>: Represents the classification of the mix of credits\n",
    "\n",
    "* <b>Outstanding Debt</b>: Represents the remaining debt to be paid (in USD)\n",
    "\n",
    "* <b>Credit Utilization Ratio</b>: Represents the utilization ratio of credit card i.e the sum of bank balances divided by sum of credit limits\n",
    "\n",
    "* <b>Credit History Age</b>: Represents the months of credit history the person has\n",
    "\n",
    "* <b>Payment of Minimum Amount</b>: Represents whether the minimum amount was paid by the person or not\n",
    "\n",
    "* <b>Total EMI per month</b>: Represents the amount of monthly EMI payments (in USD)\n",
    "\n",
    "* <b>Amount invested monthly</b>: Represents the monthly amount invested by the customer (in USD)\n",
    "\n",
    "* <b>Payment Behaviour</b>: Represents the payment behavior of the customer\n",
    "\n",
    "* <b>Monthly Balance</b>: Represents the monthly balance amount of the customer (in USD)"
   ]
  },
  {
   "cell_type": "markdown",
   "id": "47b6a5de",
   "metadata": {},
   "source": [
    "# 3. Understanding the Data"
   ]
  },
  {
   "cell_type": "code",
   "execution_count": 6,
   "id": "77a14043",
   "metadata": {},
   "outputs": [
    {
     "data": {
      "text/plain": [
       "(100000, 28)"
      ]
     },
     "execution_count": 6,
     "metadata": {},
     "output_type": "execute_result"
    }
   ],
   "source": [
    "df2.shape"
   ]
  },
  {
   "cell_type": "markdown",
   "id": "dbf80f13",
   "metadata": {},
   "source": [
    "The dataset contains 100,000 rows and 28 columns."
   ]
  },
  {
   "cell_type": "code",
   "execution_count": 7,
   "id": "fb7dd45f",
   "metadata": {
    "scrolled": true
   },
   "outputs": [
    {
     "name": "stdout",
     "output_type": "stream",
     "text": [
      "<class 'pandas.core.frame.DataFrame'>\n",
      "RangeIndex: 100000 entries, 0 to 99999\n",
      "Data columns (total 28 columns):\n",
      " #   Column                    Non-Null Count   Dtype  \n",
      "---  ------                    --------------   -----  \n",
      " 0   ID                        100000 non-null  object \n",
      " 1   Customer_ID               100000 non-null  object \n",
      " 2   Month                     100000 non-null  object \n",
      " 3   Name                      90015 non-null   object \n",
      " 4   Age                       100000 non-null  object \n",
      " 5   SSN                       100000 non-null  object \n",
      " 6   Occupation                100000 non-null  object \n",
      " 7   Annual_Income             100000 non-null  object \n",
      " 8   Monthly_Inhand_Salary     84998 non-null   float64\n",
      " 9   Num_Bank_Accounts         100000 non-null  int64  \n",
      " 10  Num_Credit_Card           100000 non-null  int64  \n",
      " 11  Interest_Rate             100000 non-null  int64  \n",
      " 12  Num_of_Loan               100000 non-null  object \n",
      " 13  Type_of_Loan              88592 non-null   object \n",
      " 14  Delay_from_due_date       100000 non-null  int64  \n",
      " 15  Num_of_Delayed_Payment    92998 non-null   object \n",
      " 16  Changed_Credit_Limit      100000 non-null  object \n",
      " 17  Num_Credit_Inquiries      98035 non-null   float64\n",
      " 18  Credit_Mix                100000 non-null  object \n",
      " 19  Outstanding_Debt          100000 non-null  object \n",
      " 20  Credit_Utilization_Ratio  100000 non-null  float64\n",
      " 21  Credit_History_Age        90970 non-null   object \n",
      " 22  Payment_of_Min_Amount     100000 non-null  object \n",
      " 23  Total_EMI_per_month       100000 non-null  float64\n",
      " 24  Amount_invested_monthly   95521 non-null   object \n",
      " 25  Payment_Behaviour         100000 non-null  object \n",
      " 26  Monthly_Balance           98800 non-null   object \n",
      " 27  Credit_Score              100000 non-null  object \n",
      "dtypes: float64(4), int64(4), object(20)\n",
      "memory usage: 21.4+ MB\n"
     ]
    }
   ],
   "source": [
    "df2.info()"
   ]
  },
  {
   "cell_type": "markdown",
   "id": "ee19c85b",
   "metadata": {},
   "source": [
    "The above information of the dataset shows the number of null values in each column and the datatype of each column."
   ]
  },
  {
   "cell_type": "code",
   "execution_count": 8,
   "id": "8d730d75",
   "metadata": {},
   "outputs": [
    {
     "data": {
      "text/html": [
       "<div>\n",
       "<style scoped>\n",
       "    .dataframe tbody tr th:only-of-type {\n",
       "        vertical-align: middle;\n",
       "    }\n",
       "\n",
       "    .dataframe tbody tr th {\n",
       "        vertical-align: top;\n",
       "    }\n",
       "\n",
       "    .dataframe thead th {\n",
       "        text-align: right;\n",
       "    }\n",
       "</style>\n",
       "<table border=\"1\" class=\"dataframe\">\n",
       "  <thead>\n",
       "    <tr style=\"text-align: right;\">\n",
       "      <th></th>\n",
       "      <th>ID</th>\n",
       "      <th>Customer_ID</th>\n",
       "      <th>Month</th>\n",
       "      <th>Name</th>\n",
       "      <th>Age</th>\n",
       "      <th>SSN</th>\n",
       "      <th>Occupation</th>\n",
       "      <th>Annual_Income</th>\n",
       "      <th>Monthly_Inhand_Salary</th>\n",
       "      <th>Num_Bank_Accounts</th>\n",
       "      <th>Num_Credit_Card</th>\n",
       "      <th>Interest_Rate</th>\n",
       "      <th>Num_of_Loan</th>\n",
       "      <th>Type_of_Loan</th>\n",
       "      <th>Delay_from_due_date</th>\n",
       "      <th>Num_of_Delayed_Payment</th>\n",
       "      <th>Changed_Credit_Limit</th>\n",
       "      <th>Num_Credit_Inquiries</th>\n",
       "      <th>Credit_Mix</th>\n",
       "      <th>Outstanding_Debt</th>\n",
       "      <th>Credit_Utilization_Ratio</th>\n",
       "      <th>Credit_History_Age</th>\n",
       "      <th>Payment_of_Min_Amount</th>\n",
       "      <th>Total_EMI_per_month</th>\n",
       "      <th>Amount_invested_monthly</th>\n",
       "      <th>Payment_Behaviour</th>\n",
       "      <th>Monthly_Balance</th>\n",
       "      <th>Credit_Score</th>\n",
       "    </tr>\n",
       "  </thead>\n",
       "  <tbody>\n",
       "    <tr>\n",
       "      <th>0</th>\n",
       "      <td>0x1602</td>\n",
       "      <td>CUS_0xd40</td>\n",
       "      <td>January</td>\n",
       "      <td>Aaron Maashoh</td>\n",
       "      <td>23</td>\n",
       "      <td>821-00-0265</td>\n",
       "      <td>Scientist</td>\n",
       "      <td>19114.12</td>\n",
       "      <td>1824.843</td>\n",
       "      <td>3</td>\n",
       "      <td>4</td>\n",
       "      <td>3</td>\n",
       "      <td>4</td>\n",
       "      <td>Auto Loan, Credit-Builder Loan, Personal Loan,...</td>\n",
       "      <td>3</td>\n",
       "      <td>7</td>\n",
       "      <td>11.27</td>\n",
       "      <td>4.000</td>\n",
       "      <td>_</td>\n",
       "      <td>809.98</td>\n",
       "      <td>26.823</td>\n",
       "      <td>22 Years and 1 Months</td>\n",
       "      <td>No</td>\n",
       "      <td>49.575</td>\n",
       "      <td>80.41529543900253</td>\n",
       "      <td>High_spent_Small_value_payments</td>\n",
       "      <td>312.49408867943663</td>\n",
       "      <td>Good</td>\n",
       "    </tr>\n",
       "    <tr>\n",
       "      <th>1</th>\n",
       "      <td>0x1603</td>\n",
       "      <td>CUS_0xd40</td>\n",
       "      <td>February</td>\n",
       "      <td>Aaron Maashoh</td>\n",
       "      <td>23</td>\n",
       "      <td>821-00-0265</td>\n",
       "      <td>Scientist</td>\n",
       "      <td>19114.12</td>\n",
       "      <td>NaN</td>\n",
       "      <td>3</td>\n",
       "      <td>4</td>\n",
       "      <td>3</td>\n",
       "      <td>4</td>\n",
       "      <td>Auto Loan, Credit-Builder Loan, Personal Loan,...</td>\n",
       "      <td>-1</td>\n",
       "      <td>NaN</td>\n",
       "      <td>11.27</td>\n",
       "      <td>4.000</td>\n",
       "      <td>Good</td>\n",
       "      <td>809.98</td>\n",
       "      <td>31.945</td>\n",
       "      <td>NaN</td>\n",
       "      <td>No</td>\n",
       "      <td>49.575</td>\n",
       "      <td>118.28022162236736</td>\n",
       "      <td>Low_spent_Large_value_payments</td>\n",
       "      <td>284.62916249607184</td>\n",
       "      <td>Good</td>\n",
       "    </tr>\n",
       "  </tbody>\n",
       "</table>\n",
       "</div>"
      ],
      "text/plain": [
       "       ID Customer_ID     Month           Name Age          SSN Occupation  \\\n",
       "0  0x1602   CUS_0xd40   January  Aaron Maashoh  23  821-00-0265  Scientist   \n",
       "1  0x1603   CUS_0xd40  February  Aaron Maashoh  23  821-00-0265  Scientist   \n",
       "\n",
       "  Annual_Income  Monthly_Inhand_Salary  Num_Bank_Accounts  Num_Credit_Card  \\\n",
       "0      19114.12               1824.843                  3                4   \n",
       "1      19114.12                    NaN                  3                4   \n",
       "\n",
       "   Interest_Rate Num_of_Loan  \\\n",
       "0              3           4   \n",
       "1              3           4   \n",
       "\n",
       "                                        Type_of_Loan  Delay_from_due_date  \\\n",
       "0  Auto Loan, Credit-Builder Loan, Personal Loan,...                    3   \n",
       "1  Auto Loan, Credit-Builder Loan, Personal Loan,...                   -1   \n",
       "\n",
       "  Num_of_Delayed_Payment Changed_Credit_Limit  Num_Credit_Inquiries  \\\n",
       "0                      7                11.27                 4.000   \n",
       "1                    NaN                11.27                 4.000   \n",
       "\n",
       "  Credit_Mix Outstanding_Debt  Credit_Utilization_Ratio  \\\n",
       "0          _           809.98                    26.823   \n",
       "1       Good           809.98                    31.945   \n",
       "\n",
       "      Credit_History_Age Payment_of_Min_Amount  Total_EMI_per_month  \\\n",
       "0  22 Years and 1 Months                    No               49.575   \n",
       "1                    NaN                    No               49.575   \n",
       "\n",
       "  Amount_invested_monthly                Payment_Behaviour  \\\n",
       "0       80.41529543900253  High_spent_Small_value_payments   \n",
       "1      118.28022162236736   Low_spent_Large_value_payments   \n",
       "\n",
       "      Monthly_Balance Credit_Score  \n",
       "0  312.49408867943663         Good  \n",
       "1  284.62916249607184         Good  "
      ]
     },
     "execution_count": 8,
     "metadata": {},
     "output_type": "execute_result"
    }
   ],
   "source": [
    "df2.head(2)"
   ]
  },
  {
   "cell_type": "code",
   "execution_count": 9,
   "id": "08076ab9",
   "metadata": {},
   "outputs": [
    {
     "data": {
      "text/plain": [
       "ID                                                                     0x1602\n",
       "Customer_ID                                                         CUS_0xd40\n",
       "Month                                                                 January\n",
       "Name                                                            Aaron Maashoh\n",
       "Age                                                                        23\n",
       "SSN                                                               821-00-0265\n",
       "Occupation                                                          Scientist\n",
       "Annual_Income                                                        19114.12\n",
       "Monthly_Inhand_Salary                                                1824.843\n",
       "Num_Bank_Accounts                                                           3\n",
       "Num_Credit_Card                                                             4\n",
       "Interest_Rate                                                               3\n",
       "Num_of_Loan                                                                 4\n",
       "Type_of_Loan                Auto Loan, Credit-Builder Loan, Personal Loan,...\n",
       "Delay_from_due_date                                                         3\n",
       "Num_of_Delayed_Payment                                                      7\n",
       "Changed_Credit_Limit                                                    11.27\n",
       "Num_Credit_Inquiries                                                    4.000\n",
       "Credit_Mix                                                                  _\n",
       "Outstanding_Debt                                                       809.98\n",
       "Credit_Utilization_Ratio                                               26.823\n",
       "Credit_History_Age                                      22 Years and 1 Months\n",
       "Payment_of_Min_Amount                                                      No\n",
       "Total_EMI_per_month                                                    49.575\n",
       "Amount_invested_monthly                                     80.41529543900253\n",
       "Payment_Behaviour                             High_spent_Small_value_payments\n",
       "Monthly_Balance                                            312.49408867943663\n",
       "Credit_Score                                                             Good\n",
       "Name: 0, dtype: object"
      ]
     },
     "execution_count": 9,
     "metadata": {},
     "output_type": "execute_result"
    }
   ],
   "source": [
    "df2.iloc[0]"
   ]
  },
  {
   "cell_type": "code",
   "execution_count": 10,
   "id": "026c8247",
   "metadata": {},
   "outputs": [],
   "source": [
    "col_list = df2.columns.to_list()"
   ]
  },
  {
   "cell_type": "code",
   "execution_count": 11,
   "id": "a67399d8",
   "metadata": {
    "scrolled": true
   },
   "outputs": [
    {
     "name": "stdout",
     "output_type": "stream",
     "text": [
      "ID : ['0x1602' '0x1603' '0x1604' ... '0x25feb' '0x25fec' '0x25fed'] \n",
      "\n",
      "Customer_ID : ['CUS_0xd40' 'CUS_0x21b1' 'CUS_0x2dbc' ... 'CUS_0xaf61' 'CUS_0x8600'\n",
      " 'CUS_0x942c'] \n",
      "\n",
      "Month : ['January' 'February' 'March' 'April' 'May' 'June' 'July' 'August'] \n",
      "\n",
      "Name : ['Aaron Maashoh' nan 'Rick Rothackerj' ... 'Chris Wickhamm'\n",
      " 'Sarah McBridec' 'Nicks'] \n",
      "\n",
      "Age : ['23' '-500' '28_' ... '4808_' '2263' '1342'] \n",
      "\n",
      "SSN : ['821-00-0265' '#F%$D@*&8' '004-07-5839' ... '133-16-7738' '031-35-0942'\n",
      " '078-73-5990'] \n",
      "\n",
      "Occupation : ['Scientist' '_______' 'Teacher' 'Engineer' 'Entrepreneur' 'Developer'\n",
      " 'Lawyer' 'Media_Manager' 'Doctor' 'Journalist' 'Manager' 'Accountant'\n",
      " 'Musician' 'Mechanic' 'Writer' 'Architect'] \n",
      "\n",
      "Annual_Income : ['19114.12' '34847.84' '34847.84_' ... '20002.88' '39628.99' '39628.99_'] \n",
      "\n",
      "Monthly_Inhand_Salary : [1824.84333333           nan 3037.98666667 ... 3097.00833333 1929.90666667\n",
      " 3359.41583333] \n",
      "\n",
      "Num_Bank_Accounts : [   3    2    1    7    4    0    8    5    6    9   10 1414 1231   67\n",
      "  572 1488   91  528 1647 1696 1338  649  889 1668  685  857  975 1496\n",
      " 1534 1620   37 1388 1429 1332 1588  120 1777 1096  803  494  744 1139\n",
      "  831 1613  741  121  665 1748 1644  823 1356 1651   87  711  450  210\n",
      " 1671 1722  648  672 1662 1495  510  666  429 1131 1434  980 1026  526\n",
      "  718 1300 1312 1315  501 1566  480 1042  322  628 1016  333 1265  791\n",
      "  427  563  905 1190 1036 1611   38  619  555 1769  280  752 1201  812\n",
      " 1487  222  212 1019 1222  610 1714 1308  525 1158 1115 1616  754 1601\n",
      "  797 1577  521  703  933  959  809 1089 1656 1113 1715  964 1533 1789\n",
      "  871  434 1295  565 1724  603  677  541  698 1101  464 1539 1462 1011\n",
      " 1257 1727   45  244 1266  897  535  484  331  675  826  946 1675  105\n",
      " 1327  845  549  473  710  527  908   68 1628  371  445 1168  868  687\n",
      "  455 1003   26 1526  618  598  351 1342 1783  683 1557 1335  416 1747\n",
      "  137 1475  373  338  942  170  973 1605 1478  386 1448 1033 1225  596\n",
      " 1731 1214 1481 1105  580  347  108  148 1001 1467 1114 1000  632  246\n",
      " 1032 1394  689  482 1303  720  574  588 1358  650  708  179  844 1140\n",
      "  335   60  732 1494 1436  820   28 1576  818  794  731  534  556  691\n",
      " 1197 1155 1255 1763  769 1124  819  318 1418  882   61  264  194 1798\n",
      "  611  840  505 1110  719 1065  195  584  550 1014 1022  903  976   31\n",
      "  417 1423 1148  616  786 1424   55 1061 1293  342   43 1540  488 1122\n",
      " 1274 1075  722 1268   41  814 1564 1390 1141  497  224 1135  441  374\n",
      "   74  314 1408  475 1015  681 1236   59 1425 1637 1240  299 1657 1123\n",
      " 1091 1264 1561 1632 1562  305 1318 1217 1699 1070  864 1391  112  860\n",
      "  595  229 1624 1051  821 1794 1565  397 1368 1353  508 1725 1413 1239\n",
      "  847 1317  570   -1  302  456  198  122  832  167 1547 1666 1241  275\n",
      "  566 1779  201  334 1169  834 1174 1040  530 1676 1468 1093  706  489\n",
      " 1592  688  830 1784 1543 1600 1178  228  483 1501  950  548  870 1211\n",
      "  604  804  129  540 1702 1636 1680 1443 1252  499  180  702  885 1652\n",
      "  795  938  833 1654 1793  303 1621 1516 1138   32  160 1491   83  423\n",
      "  928  339  931  243 1756  583 1695  274  955  430 1247  490  726  987\n",
      "   42 1626 1470 1739  887  211  385 1221  753  324  406 1677 1567  785\n",
      "  182 1079  184 1771 1048 1069  561  589 1634   70 1371  647 1153  239\n",
      "  801 1279 1287  425 1589  929 1511 1765 1047 1005 1337  981 1766  805\n",
      " 1574 1638  186   99  288 1650  974  996 1595 1594  865  203 1440  448\n",
      "  285   94  875  916 1733  240  330   79   82  135 1043  142 1235 1569\n",
      " 1741 1461  560 1551  409  418 1017  892  354  124  935  313 1363  232\n",
      " 1200 1184 1432 1479 1407 1080 1719 1024  970  761  158  312 1060  684\n",
      "  696 1520 1352 1502  936  485  350 1560 1166 1013   34 1691  715 1570\n",
      " 1751 1503 1194 1558  411  298  260  308  796 1442  912 1256  746  435\n",
      "  620 1774 1181 1323  837  307 1430   53 1447  259  921  328 1034  353\n",
      "  822  654  829  609  166  136  172 1306 1028  808  270 1072  514  156\n",
      " 1331 1630  462 1310 1210  265   50 1355  394 1393  226  991  368 1018\n",
      " 1037  627 1744  523  894  944 1730 1076 1094 1617  449  678 1164   30\n",
      "  817 1568  607  709 1230  606 1480   29 1522 1670   49  626 1641 1712\n",
      " 1370 1782  119 1137 1277   35  947  851 1041 1583 1536  575  196  143\n",
      "   33  383   57  621  230  162  352 1504 1250   39  511 1364  918 1665\n",
      "  734 1320  316  771  705 1435  304  116 1553  424  493 1530 1195 1604\n",
      "  624 1599  782 1606 1622 1285  657 1275 1291 1402  420  932  468  442\n",
      " 1145   93 1218  283  292  927 1711 1422  364 1398  594  789 1350  676\n",
      "  216 1012 1426  717 1095 1786  850  777  375  356  701 1325  290 1775\n",
      "  467 1365 1549  848 1453   84 1458  888  770 1591  582   40 1261 1764\n",
      " 1067  145  471  476 1128  967  622  641  539  858  295 1395 1517 1297\n",
      " 1126  926  157 1377  993  125  340  271 1669  272  979  707  564  997\n",
      "  447 1578 1465  415  714 1276   18 1316  587  245  446  978 1002 1631\n",
      "  341 1307  524 1267  103  242 1378 1328 1294 1309  724  197  999  547\n",
      " 1100 1456   77 1506 1472  460   11 1420  218 1253  392  670 1321  100\n",
      " 1205  443   92  811  774  159 1770  972 1157 1102  217  358 1473  440\n",
      "  140 1361  481  512 1117  300 1263 1581  901 1298  310  637  758 1734\n",
      " 1288  326 1678 1444 1344 1379  828  982  104  317 1529 1627  115  645\n",
      " 1404  940 1305 1049 1645 1466  175 1165 1419 1031  581 1580  854  725\n",
      " 1655 1134  569 1387 1381 1760  360 1735 1146 1411  969 1281  591  327\n",
      "  466  667  147  109  784 1396 1349  839 1284  802   97  281 1382 1039\n",
      " 1483  376 1249 1207 1213 1219 1345 1523  949 1063  983  886 1151  992\n",
      " 1107 1314  151   69 1489  695  738  444 1525  825  506  518 1077 1354\n",
      "  713  690  861 1389  968  421  907  205  856   72  651  161  867  971\n",
      " 1078   64 1701  546 1216   27 1709  193 1528  957  577  346 1416  396\n",
      " 1182  652 1083 1778  680 1754 1544 1703  636  472  453  463   75  756\n",
      "  296  891  813  474  697] \n",
      "\n",
      "Num_Credit_Card : [   4 1385    5 ...  955 1430  679] \n",
      "\n",
      "Interest_Rate : [   3    6    8 ... 1347  387 5729] \n",
      "\n",
      "Num_of_Loan : ['4' '1' '3' '967' '-100' '0' '0_' '2' '3_' '2_' '7' '5' '5_' '6' '8' '8_'\n",
      " '9' '9_' '4_' '7_' '1_' '1464' '6_' '622' '352' '472' '1017' '945' '146'\n",
      " '563' '341' '444' '720' '1485' '49' '737' '1106' '466' '728' '313' '843'\n",
      " '597_' '617' '119' '663' '640' '92_' '1019' '501' '1302' '39' '716' '848'\n",
      " '931' '1214' '186' '424' '1001' '1110' '1152' '457' '1433' '1187' '52'\n",
      " '1480' '1047' '1035' '1347_' '33' '193' '699' '329' '1451' '484' '132'\n",
      " '649' '995' '545' '684' '1135' '1094' '1204' '654' '58' '348' '614'\n",
      " '1363' '323' '1406' '1348' '430' '153' '1461' '905' '1312' '1424' '1154'\n",
      " '95' '1353' '1228' '819' '1006' '795' '359' '1209' '590' '696' '1185_'\n",
      " '1465' '911' '1181' '70' '816' '1369' '143' '1416' '455' '55' '1096'\n",
      " '1474' '420' '1131' '904' '89' '1259' '527' '1241' '449' '983' '418'\n",
      " '319' '23' '238' '638' '138' '235_' '280' '1070' '1484' '274' '494'\n",
      " '1459_' '404' '1354' '1495' '1391' '601' '1313' '1319' '898' '231' '752'\n",
      " '174' '961' '1046' '834' '284' '438' '288' '1463' '1151' '719' '198'\n",
      " '1015' '855' '841' '392' '1444' '103' '1320_' '745' '172' '252' '630_'\n",
      " '241' '31' '405' '1217' '1030' '1257' '137' '157' '164' '1088' '1236'\n",
      " '777' '1048' '613' '330' '1439' '321' '661' '952' '939' '562' '1202'\n",
      " '302' '943' '394' '955' '1318' '936' '781' '100' '1329' '1365' '860'\n",
      " '217' '191' '32' '282' '351' '1387' '757' '416' '833' '359_' '292'\n",
      " '1225_' '1227' '639' '859' '243' '267' '510' '332' '996' '597' '311'\n",
      " '492' '820' '336' '123' '540' '131_' '1311_' '1441' '895' '891' '50'\n",
      " '940' '935' '596' '29' '1182' '1129_' '1014' '251' '365' '291' '1447'\n",
      " '742' '1085' '148' '462' '832' '881' '1225' '1412' '785_' '1127' '910'\n",
      " '538' '999' '733' '101' '237' '87' '659' '633' '387' '447' '629' '831'\n",
      " '1384' '773' '621' '1419' '289' '143_' '285' '1393' '1131_' '27_' '1359'\n",
      " '1482' '1189' '1294' '201' '579' '814' '141' '1320' '581' '1171_' '295'\n",
      " '290' '433' '679' '1040' '1054' '1430' '1023' '1077' '1457' '1150' '701'\n",
      " '1382' '889' '437' '372' '1222' '126' '1159' '868' '19' '1297' '227_'\n",
      " '190' '809' '1216' '1074' '571' '520' '1274' '1340' '991' '316' '697'\n",
      " '926' '873' '1002' '378_' '65' '875' '867' '548' '652' '1372' '606'\n",
      " '1036' '1300' '17' '1178' '802' '1219_' '1271' '1137' '1496' '439' '196'\n",
      " '636' '192' '228' '1053' '229' '753' '1296' '1371' '254' '863' '464'\n",
      " '515' '838' '1160' '1289' '1298' '799' '182' '574' '527_' '242' '415'\n",
      " '869' '958' '54' '1265' '656' '275' '778' '208' '147' '350' '507' '463'\n",
      " '497' '1129' '927' '653' '662' '529' '635' '1027_' '897' '1039' '227'\n",
      " '1345' '924' '696_' '1279' '546' '1112' '1210' '526' '300' '1103' '504'\n",
      " '136' '1400' '78' '686' '1091' '344' '215' '84' '628' '1470' '968' '1478'\n",
      " '83' '1196' '1307' '1132_' '1008' '917' '657' '56' '18' '41' '801' '978'\n",
      " '216' '349' '966'] \n",
      "\n",
      "Type_of_Loan : ['Auto Loan, Credit-Builder Loan, Personal Loan, and Home Equity Loan'\n",
      " 'Credit-Builder Loan' 'Auto Loan, Auto Loan, and Not Specified' ...\n",
      " 'Home Equity Loan, Auto Loan, Auto Loan, and Auto Loan'\n",
      " 'Payday Loan, Student Loan, Mortgage Loan, and Not Specified'\n",
      " 'Personal Loan, Auto Loan, Mortgage Loan, Student Loan, and Student Loan'] \n",
      "\n",
      "Delay_from_due_date : [ 3 -1  5  6  8  7 13 10  0  4  9  1 12 11 30 31 34 27 14  2 -2 16 17 15\n",
      " 23 22 21 18 19 52 51 48 53 26 43 28 25 20 47 46 49 24 61 29 50 58 45 59\n",
      " 55 56 57 54 62 65 64 67 36 41 33 32 39 44 42 60 35 38 -3 63 40 37 -5 -4\n",
      " 66] \n",
      "\n",
      "Num_of_Delayed_Payment : ['7' nan '4' '8_' '6' '1' '-1' '3_' '0' '8' '5' '3' '9' '12' '15' '17'\n",
      " '10' '2' '2_' '11' '14' '20' '22' '13' '13_' '14_' '16' '12_' '18' '19'\n",
      " '23' '24' '21' '3318' '3083' '22_' '1338' '4_' '26' '11_' '3104' '21_'\n",
      " '25' '10_' '183_' '9_' '1106' '834' '19_' '24_' '17_' '23_' '2672' '20_'\n",
      " '2008' '-3' '538' '6_' '1_' '16_' '27' '-2' '3478' '2420' '15_' '707'\n",
      " '708' '26_' '18_' '3815' '28' '5_' '1867' '2250' '1463' '25_' '7_' '4126'\n",
      " '2882' '1941' '2655' '2628' '132' '3069' '306' '0_' '3539' '3684' '1823'\n",
      " '4128' '1946' '827' '2297' '2566' '904' '182' '929' '3568' '2503' '1552'\n",
      " '2812' '1697' '3764' '851' '3905' '923' '88' '1668' '3253' '808' '2689'\n",
      " '3858' '642' '3457' '1402' '1732' '3154' '847' '3037' '2204' '3103'\n",
      " '1063' '2056' '1282' '1841' '2569_' '211' '793' '3484' '411' '3491'\n",
      " '2072' '3050' '1049' '2162' '3402' '2753' '27_' '1718' '1014' '3260'\n",
      " '3855' '84' '2311' '3251' '1832' '4069' '3010' '733' '4241' '166' '2461'\n",
      " '1749' '3200' '663_' '2185' '4161' '3009' '359' '2015' '1523' '594'\n",
      " '1079' '1199' '186' '1015' '1989' '281' '559' '2165' '1509' '3545' '779'\n",
      " '192' '4311' '-2_' '2323' '1471' '1538' '3529' '439' '3456' '3040' '2697'\n",
      " '3179' '1332' '3175' '3112' '829' '4022' '3870' '4023' '531' '1511'\n",
      " '3092' '3191' '2400' '3621' '3536' '544' '1864' '28_' '142' '2300' '264'\n",
      " '72' '497' '398' '2222' '3960' '1473' '3043' '4216' '2903' '2658' '-1_'\n",
      " '4042' '1323_' '2184' '921' '1328' '3404' '2438' '809' '47' '1996' '4164'\n",
      " '1370' '1204' '2167' '4011' '2590' '2594' '2533' '1663' '1018' '2919'\n",
      " '3458' '3316' '2589' '2801' '3355' '2529' '2488' '4266' '1243' '739'\n",
      " '845' '4107' '1884' '337' '2660' '290' '674' '2450' '3738' '1792' '2823'\n",
      " '2570' '775' '960' '482' '1706' '2493' '3623' '3031' '2794_' '2219_'\n",
      " '758_' '1849' '3559' '4096' '3726' '1953' '2657' '4043' '2938' '4384'\n",
      " '1647' '2694' '3533' '519' '2677' '2413' '-3_' '4139' '2609' '4326'\n",
      " '4211' '823' '3011' '1608' '2860' '4219' '4047' '1531' '742' '52' '4024'\n",
      " '1673' '49' '2243' '1685' '1869' '2587' '3489' '749' '1164' '2616' '848_'\n",
      " '4134' '1530' '1502' '4075' '3845' '1060' '2573' '2128' '328' '640'\n",
      " '2585' '2230' '1795' '1180' '1534' '3739' '3313' '4191' '996' '372'\n",
      " '3340' '3177' '602' '787' '4135' '3878' '4059' '1218' '4051' '1766'\n",
      " '1359' '3107' '585' '1263' '2511' '709' '3632' '4077' '2943' '2793'\n",
      " '3245' '2317' '1640' '2237_' '3819' '252' '3978' '1498' '1833' '2737'\n",
      " '1192' '1481' '700' '271' '2286' '273' '1215' '3944' '2070' '1478' '3749'\n",
      " '871' '2508' '2959' '130' '294' '3097_' '3511' '415' '2196' '2138' '2149'\n",
      " '1874' '1553' '3847' '3222' '1222' '2907' '3051' '98' '1598' '416' '2314'\n",
      " '2955' '1691' '1450' '2021' '1636' '80' '3708' '195' '320' '2945' '1911'\n",
      " '3416' '3796' '4159' '2255' '938' '4397' '3776' '2148' '1994' '853'\n",
      " '1178' '1633' '196' '3864' '714' '1687' '1034' '468' '1337' '2044' '1541'\n",
      " '3661' '1211' '2645' '2007' '102' '1891' '3162' '3142' '2566_' '2766'\n",
      " '3881' '2728' '2671' '1952' '3580' '2705' '4251' '3840_' '972' '3119'\n",
      " '3502' '4185' '2954' '683' '1614' '1572' '4302' '3447' '1852' '2131'\n",
      " '1900' '1699' '133' '2018' '2127' '508' '210' '577' '1664' '2604' '1411'\n",
      " '2351' '867' '1371' '2352' '1191' '905' '4053' '3869' '933' '3660' '3300'\n",
      " '3629' '3208' '2142' '2521' '450' '583' '876' '121' '3919' '2560' '2578'\n",
      " '2060' '813' '1236' '1489' '4360' '1154' '2544' '4172' '2924' '426'\n",
      " '4270' '2768' '3909' '3951' '2712' '2498' '3171' '1750' '197' '2569'\n",
      " '265' '4293' '887' '2707' '2397' '4337' '4249' '2751' '2950' '1859' '107'\n",
      " '2348' '2506' '2810' '2873' '1301' '2262' '1890' '3078' '3865' '3268'\n",
      " '2777' '3105' '1278' '3793' '2276' '2879' '4298' '2141' '223' '2239'\n",
      " '846' '1862' '2756' '1181' '1184' '2617' '3972' '2334' '3900' '2759'\n",
      " '4169' '2280' '2492' '2729' '3750' '1825' '309' '2431' '3099' '2080'\n",
      " '2279' '2666' '3722' '1976' '529' '1985' '3060' '4278' '3212' '46' '3148'\n",
      " '3467' '4231' '3790' '473' '1536' '3955' '2324' '2381' '1177' '371'\n",
      " '2896' '3880' '2991' '4319' '1061' '662' '4144' '693' '2006' '3115'\n",
      " '2278_' '3751' '1861' '4262' '2913' '2615' '3492' '800' '3766' '384'\n",
      " '3407' '1087' '3329' '1086' '2216' '1087_' '2457' '3522' '3274' '3488'\n",
      " '2854' '238' '351' '3706' '4280' '4095' '2926' '1329' '3370' '283' '1392'\n",
      " '1743' '2429' '974' '3156' '1133' '4388' '3243' '4282' '2523' '4281'\n",
      " '3415' '2001' '441' '94' '3499' '969' '3368' '106' '1004' '2638' '3946'\n",
      " '2956' '4324' '85' '4113' '819' '615' '1172' '2553' '1765' '3495' '2820'\n",
      " '4239' '4340' '1295_' '2636' '4295' '1653' '1325' '1879' '1096' '1735'\n",
      " '3584' '1073' '1975' '3827' '2552' '3754' '2378' '532' '926' '2376'\n",
      " '3636' '3763' '778' '2621' '804' '754' '2418' '4019' '3926' '3861_'\n",
      " '3574' '175' '162' '2834' '3765' '2354' '523' '2274' '1606' '1443' '1354'\n",
      " '2142_' '1422' '2278' '1045' '4106' '3155' '666' '659' '3229' '1216'\n",
      " '2076' '1473_' '2384' '1954' '719' '2534' '4002' '541' '2875' '4344'\n",
      " '2081' '3894' '1256' '676' '4178' '399' '86' '1571' '4037' '1967' '4005'\n",
      " '3216' '1150' '2591' '1801' '3721' '1775' '2260' '3707' '4292' '1820'\n",
      " '145' '1480' '1850' '430' '217' '3920_' '1389' '1579' '3391' '2385'\n",
      " '3336' '3392' '3688' '221' '2047'] \n",
      "\n",
      "Changed_Credit_Limit : ['11.27' '_' '6.27' ... '17.509999999999998' '25.16' '21.17'] \n",
      "\n",
      "Num_Credit_Inquiries : [   4.    2.    3. ... 1361.  310.   74.] \n",
      "\n",
      "Credit_Mix : ['_' 'Good' 'Standard' 'Bad'] \n",
      "\n",
      "Outstanding_Debt : ['809.98' '605.03' '1303.01' ... '3571.7_' '3571.7' '502.38'] \n",
      "\n"
     ]
    },
    {
     "name": "stdout",
     "output_type": "stream",
     "text": [
      "Credit_Utilization_Ratio : [26.82261962 31.94496006 28.60935202 ... 41.25552226 33.63820798\n",
      " 34.19246265] \n",
      "\n",
      "Credit_History_Age : ['22 Years and 1 Months' nan '22 Years and 3 Months'\n",
      " '22 Years and 4 Months' '22 Years and 5 Months' '22 Years and 6 Months'\n",
      " '22 Years and 7 Months' '26 Years and 7 Months' '26 Years and 8 Months'\n",
      " '26 Years and 9 Months' '26 Years and 10 Months' '26 Years and 11 Months'\n",
      " '27 Years and 0 Months' '27 Years and 1 Months' '27 Years and 2 Months'\n",
      " '17 Years and 9 Months' '17 Years and 10 Months' '17 Years and 11 Months'\n",
      " '18 Years and 1 Months' '18 Years and 2 Months' '18 Years and 3 Months'\n",
      " '18 Years and 4 Months' '17 Years and 3 Months' '17 Years and 4 Months'\n",
      " '17 Years and 5 Months' '17 Years and 6 Months' '17 Years and 7 Months'\n",
      " '17 Years and 8 Months' '30 Years and 8 Months' '30 Years and 9 Months'\n",
      " '30 Years and 10 Months' '30 Years and 11 Months' '31 Years and 0 Months'\n",
      " '31 Years and 1 Months' '31 Years and 2 Months' '31 Years and 3 Months'\n",
      " '32 Years and 0 Months' '32 Years and 2 Months' '32 Years and 3 Months'\n",
      " '32 Years and 5 Months' '32 Years and 6 Months' '30 Years and 7 Months'\n",
      " '14 Years and 8 Months' '14 Years and 9 Months' '14 Years and 10 Months'\n",
      " '14 Years and 11 Months' '15 Years and 0 Months' '15 Years and 1 Months'\n",
      " '15 Years and 2 Months' '21 Years and 4 Months' '21 Years and 5 Months'\n",
      " '21 Years and 6 Months' '21 Years and 7 Months' '21 Years and 8 Months'\n",
      " '21 Years and 9 Months' '21 Years and 10 Months' '21 Years and 11 Months'\n",
      " '26 Years and 6 Months' '19 Years and 2 Months' '19 Years and 3 Months'\n",
      " '19 Years and 4 Months' '19 Years and 5 Months' '19 Years and 6 Months'\n",
      " '19 Years and 7 Months' '19 Years and 8 Months' '25 Years and 5 Months'\n",
      " '25 Years and 6 Months' '25 Years and 7 Months' '25 Years and 8 Months'\n",
      " '25 Years and 9 Months' '25 Years and 10 Months' '25 Years and 11 Months'\n",
      " '26 Years and 0 Months' '27 Years and 3 Months' '27 Years and 4 Months'\n",
      " '27 Years and 5 Months' '8 Years and 11 Months' '9 Years and 0 Months'\n",
      " '9 Years and 1 Months' '9 Years and 2 Months' '9 Years and 3 Months'\n",
      " '9 Years and 4 Months' '9 Years and 6 Months' '18 Years and 5 Months'\n",
      " '18 Years and 6 Months' '18 Years and 8 Months' '18 Years and 9 Months'\n",
      " '16 Years and 10 Months' '16 Years and 11 Months' '17 Years and 0 Months'\n",
      " '17 Years and 1 Months' '17 Years and 2 Months' '29 Years and 2 Months'\n",
      " '29 Years and 3 Months' '29 Years and 4 Months' '29 Years and 6 Months'\n",
      " '29 Years and 8 Months' '29 Years and 9 Months' '6 Years and 5 Months'\n",
      " '6 Years and 6 Months' '6 Years and 7 Months' '6 Years and 8 Months'\n",
      " '6 Years and 9 Months' '6 Years and 10 Months' '6 Years and 11 Months'\n",
      " '7 Years and 0 Months' '27 Years and 6 Months' '27 Years and 7 Months'\n",
      " '27 Years and 8 Months' '27 Years and 9 Months' '18 Years and 7 Months'\n",
      " '19 Years and 9 Months' '19 Years and 10 Months' '10 Years and 1 Months'\n",
      " '10 Years and 2 Months' '10 Years and 3 Months' '10 Years and 4 Months'\n",
      " '10 Years and 5 Months' '10 Years and 6 Months' '10 Years and 7 Months'\n",
      " '10 Years and 8 Months' '32 Years and 9 Months' '32 Years and 10 Months'\n",
      " '32 Years and 11 Months' '33 Years and 0 Months' '33 Years and 1 Months'\n",
      " '33 Years and 4 Months' '12 Years and 3 Months' '12 Years and 4 Months'\n",
      " '12 Years and 5 Months' '12 Years and 6 Months' '12 Years and 7 Months'\n",
      " '12 Years and 8 Months' '12 Years and 10 Months' '12 Years and 9 Months'\n",
      " '13 Years and 8 Months' '13 Years and 11 Months' '14 Years and 0 Months'\n",
      " '14 Years and 1 Months' '14 Years and 2 Months' '14 Years and 3 Months'\n",
      " '30 Years and 3 Months' '30 Years and 4 Months' '30 Years and 5 Months'\n",
      " '30 Years and 6 Months' '8 Years and 9 Months' '8 Years and 10 Months'\n",
      " '18 Years and 10 Months' '18 Years and 11 Months' '19 Years and 0 Months'\n",
      " '19 Years and 1 Months' '8 Years and 8 Months' '13 Years and 1 Months'\n",
      " '13 Years and 2 Months' '13 Years and 3 Months' '13 Years and 5 Months'\n",
      " '13 Years and 6 Months' '13 Years and 7 Months' '22 Years and 0 Months'\n",
      " '26 Years and 1 Months' '26 Years and 2 Months' '13 Years and 4 Months'\n",
      " '13 Years and 9 Months' '27 Years and 11 Months' '28 Years and 0 Months'\n",
      " '28 Years and 1 Months' '28 Years and 2 Months' '28 Years and 3 Months'\n",
      " '28 Years and 4 Months' '28 Years and 5 Months' '28 Years and 6 Months'\n",
      " '7 Years and 10 Months' '7 Years and 11 Months' '8 Years and 0 Months'\n",
      " '8 Years and 1 Months' '8 Years and 2 Months' '8 Years and 3 Months'\n",
      " '8 Years and 4 Months' '8 Years and 5 Months' '24 Years and 3 Months'\n",
      " '24 Years and 4 Months' '24 Years and 5 Months' '24 Years and 6 Months'\n",
      " '24 Years and 7 Months' '24 Years and 8 Months' '24 Years and 9 Months'\n",
      " '1 Years and 2 Months' '1 Years and 3 Months' '1 Years and 4 Months'\n",
      " '1 Years and 5 Months' '1 Years and 6 Months' '1 Years and 7 Months'\n",
      " '1 Years and 8 Months' '10 Years and 11 Months' '11 Years and 0 Months'\n",
      " '11 Years and 1 Months' '11 Years and 2 Months' '11 Years and 3 Months'\n",
      " '11 Years and 4 Months' '11 Years and 5 Months' '11 Years and 6 Months'\n",
      " '19 Years and 11 Months' '20 Years and 0 Months' '20 Years and 1 Months'\n",
      " '10 Years and 9 Months' '10 Years and 10 Months' '14 Years and 4 Months'\n",
      " '14 Years and 5 Months' '14 Years and 6 Months' '20 Years and 8 Months'\n",
      " '20 Years and 9 Months' '20 Years and 10 Months' '20 Years and 11 Months'\n",
      " '21 Years and 0 Months' '21 Years and 1 Months' '21 Years and 2 Months'\n",
      " '21 Years and 3 Months' '0 Years and 4 Months' '0 Years and 5 Months'\n",
      " '0 Years and 6 Months' '0 Years and 8 Months' '0 Years and 9 Months'\n",
      " '0 Years and 10 Months' '31 Years and 7 Months' '31 Years and 8 Months'\n",
      " '31 Years and 9 Months' '31 Years and 10 Months' '31 Years and 11 Months'\n",
      " '32 Years and 1 Months' '12 Years and 11 Months' '13 Years and 0 Months'\n",
      " '27 Years and 10 Months' '11 Years and 7 Months' '11 Years and 8 Months'\n",
      " '11 Years and 9 Months' '11 Years and 10 Months' '24 Years and 10 Months'\n",
      " '24 Years and 11 Months' '25 Years and 0 Months' '25 Years and 1 Months'\n",
      " '25 Years and 2 Months' '25 Years and 3 Months' '18 Years and 0 Months'\n",
      " '31 Years and 4 Months' '31 Years and 5 Months' '31 Years and 6 Months'\n",
      " '5 Years and 2 Months' '5 Years and 3 Months' '5 Years and 4 Months'\n",
      " '5 Years and 5 Months' '5 Years and 6 Months' '5 Years and 7 Months'\n",
      " '5 Years and 8 Months' '5 Years and 9 Months' '2 Years and 11 Months'\n",
      " '3 Years and 0 Months' '3 Years and 1 Months' '3 Years and 2 Months'\n",
      " '3 Years and 3 Months' '3 Years and 4 Months' '3 Years and 5 Months'\n",
      " '3 Years and 6 Months' '16 Years and 4 Months' '16 Years and 5 Months'\n",
      " '16 Years and 6 Months' '16 Years and 7 Months' '16 Years and 8 Months'\n",
      " '16 Years and 9 Months' '22 Years and 11 Months' '23 Years and 0 Months'\n",
      " '23 Years and 2 Months' '23 Years and 3 Months' '23 Years and 4 Months'\n",
      " '23 Years and 5 Months' '23 Years and 6 Months' '8 Years and 6 Months'\n",
      " '8 Years and 7 Months' '4 Years and 5 Months' '4 Years and 6 Months'\n",
      " '4 Years and 7 Months' '4 Years and 8 Months' '4 Years and 9 Months'\n",
      " '4 Years and 10 Months' '4 Years and 11 Months' '5 Years and 0 Months'\n",
      " '32 Years and 8 Months' '33 Years and 2 Months' '33 Years and 3 Months'\n",
      " '12 Years and 2 Months' '32 Years and 4 Months' '29 Years and 11 Months'\n",
      " '30 Years and 0 Months' '30 Years and 2 Months' '26 Years and 3 Months'\n",
      " '26 Years and 4 Months' '26 Years and 5 Months' '7 Years and 6 Months'\n",
      " '7 Years and 7 Months' '7 Years and 8 Months' '7 Years and 9 Months'\n",
      " '28 Years and 7 Months' '28 Years and 8 Months' '28 Years and 9 Months'\n",
      " '28 Years and 10 Months' '29 Years and 5 Months' '29 Years and 7 Months'\n",
      " '20 Years and 2 Months' '20 Years and 3 Months' '20 Years and 4 Months'\n",
      " '20 Years and 5 Months' '20 Years and 6 Months' '20 Years and 7 Months'\n",
      " '28 Years and 11 Months' '29 Years and 0 Months' '13 Years and 10 Months'\n",
      " '1 Years and 9 Months' '1 Years and 10 Months' '1 Years and 11 Months'\n",
      " '33 Years and 5 Months' '33 Years and 6 Months' '33 Years and 7 Months'\n",
      " '33 Years and 8 Months' '29 Years and 1 Months' '5 Years and 1 Months'\n",
      " '5 Years and 10 Months' '5 Years and 11 Months' '6 Years and 0 Months'\n",
      " '6 Years and 1 Months' '6 Years and 2 Months' '6 Years and 3 Months'\n",
      " '22 Years and 9 Months' '22 Years and 10 Months' '23 Years and 1 Months'\n",
      " '22 Years and 2 Months' '15 Years and 4 Months' '15 Years and 5 Months'\n",
      " '15 Years and 6 Months' '15 Years and 7 Months' '15 Years and 8 Months'\n",
      " '15 Years and 9 Months' '15 Years and 10 Months' '15 Years and 11 Months'\n",
      " '2 Years and 3 Months' '2 Years and 4 Months' '2 Years and 5 Months'\n",
      " '2 Years and 6 Months' '2 Years and 7 Months' '2 Years and 8 Months'\n",
      " '2 Years and 9 Months' '2 Years and 10 Months' '2 Years and 0 Months'\n",
      " '16 Years and 2 Months' '16 Years and 3 Months' '22 Years and 8 Months'\n",
      " '9 Years and 5 Months' '9 Years and 7 Months' '9 Years and 8 Months'\n",
      " '9 Years and 9 Months' '11 Years and 11 Months' '12 Years and 0 Months'\n",
      " '12 Years and 1 Months' '24 Years and 2 Months' '16 Years and 0 Months'\n",
      " '16 Years and 1 Months' '14 Years and 7 Months' '25 Years and 4 Months'\n",
      " '15 Years and 3 Months' '7 Years and 1 Months' '7 Years and 2 Months'\n",
      " '7 Years and 3 Months' '7 Years and 4 Months' '7 Years and 5 Months'\n",
      " '23 Years and 7 Months' '23 Years and 8 Months' '23 Years and 9 Months'\n",
      " '30 Years and 1 Months' '29 Years and 10 Months' '9 Years and 10 Months'\n",
      " '9 Years and 11 Months' '10 Years and 0 Months' '2 Years and 2 Months'\n",
      " '23 Years and 10 Months' '23 Years and 11 Months' '24 Years and 0 Months'\n",
      " '24 Years and 1 Months' '6 Years and 4 Months' '0 Years and 1 Months'\n",
      " '0 Years and 2 Months' '0 Years and 3 Months' '0 Years and 7 Months'\n",
      " '3 Years and 8 Months' '32 Years and 7 Months' '3 Years and 7 Months'\n",
      " '3 Years and 9 Months' '3 Years and 10 Months' '0 Years and 11 Months'\n",
      " '1 Years and 0 Months' '1 Years and 1 Months' '4 Years and 4 Months'\n",
      " '3 Years and 11 Months' '4 Years and 0 Months' '4 Years and 1 Months'\n",
      " '4 Years and 2 Months' '4 Years and 3 Months' '2 Years and 1 Months'] \n",
      "\n",
      "Payment_of_Min_Amount : ['No' 'NM' 'Yes'] \n",
      "\n",
      "Total_EMI_per_month : [4.95749492e+01 1.88162146e+01 2.46992319e+02 ... 1.21120000e+04\n",
      " 3.51040226e+01 5.86380000e+04] \n",
      "\n",
      "Amount_invested_monthly : ['80.41529543900253' '118.28022162236736' '81.699521264648' ...\n",
      " '24.02847744864441' '251.67258219721603' '167.1638651610451'] \n",
      "\n",
      "Payment_Behaviour : ['High_spent_Small_value_payments' 'Low_spent_Large_value_payments'\n",
      " 'Low_spent_Medium_value_payments' 'Low_spent_Small_value_payments'\n",
      " 'High_spent_Medium_value_payments' '!@9#%8'\n",
      " 'High_spent_Large_value_payments'] \n",
      "\n",
      "Monthly_Balance : ['312.49408867943663' '284.62916249607184' '331.2098628537912' ...\n",
      " 516.8090832742814 319.1649785257098 393.6736955618808] \n",
      "\n",
      "Credit_Score : ['Good' 'Standard' 'Poor'] \n",
      "\n"
     ]
    }
   ],
   "source": [
    "for i in col_list:\n",
    "    print(i,':',df2[i].unique(),'\\n')"
   ]
  },
  {
   "cell_type": "markdown",
   "id": "0e149ff9",
   "metadata": {},
   "source": [
    "In this dataset for every person we have one entry per month for about 7-8 months. \n",
    "\n",
    "<b>SSN and Customer ID </b> are unique identifiers which are further used for Data Cleaning Process. \n",
    "\n",
    "In few columns we have some data entry errors. Going further in Data cleaning we are deciding the range of the values in that column based on the value count results. "
   ]
  },
  {
   "cell_type": "markdown",
   "id": "d11f09d6",
   "metadata": {},
   "source": [
    "# 4. Data Cleaning"
   ]
  },
  {
   "cell_type": "markdown",
   "id": "4aac4b33",
   "metadata": {},
   "source": [
    "#### Checking Null Values"
   ]
  },
  {
   "cell_type": "code",
   "execution_count": 12,
   "id": "0dc05a1d",
   "metadata": {},
   "outputs": [
    {
     "data": {
      "text/plain": [
       "ID                              0\n",
       "Customer_ID                     0\n",
       "Month                           0\n",
       "Name                         9985\n",
       "Age                             0\n",
       "SSN                             0\n",
       "Occupation                      0\n",
       "Annual_Income                   0\n",
       "Monthly_Inhand_Salary       15002\n",
       "Num_Bank_Accounts               0\n",
       "Num_Credit_Card                 0\n",
       "Interest_Rate                   0\n",
       "Num_of_Loan                     0\n",
       "Type_of_Loan                11408\n",
       "Delay_from_due_date             0\n",
       "Num_of_Delayed_Payment       7002\n",
       "Changed_Credit_Limit            0\n",
       "Num_Credit_Inquiries         1965\n",
       "Credit_Mix                      0\n",
       "Outstanding_Debt                0\n",
       "Credit_Utilization_Ratio        0\n",
       "Credit_History_Age           9030\n",
       "Payment_of_Min_Amount           0\n",
       "Total_EMI_per_month             0\n",
       "Amount_invested_monthly      4479\n",
       "Payment_Behaviour               0\n",
       "Monthly_Balance              1200\n",
       "Credit_Score                    0\n",
       "dtype: int64"
      ]
     },
     "execution_count": 12,
     "metadata": {},
     "output_type": "execute_result"
    }
   ],
   "source": [
    "df2.isna().sum()"
   ]
  },
  {
   "cell_type": "code",
   "execution_count": 13,
   "id": "b1a08bee",
   "metadata": {},
   "outputs": [
    {
     "data": {
      "text/plain": [
       "8"
      ]
     },
     "execution_count": 13,
     "metadata": {},
     "output_type": "execute_result"
    }
   ],
   "source": [
    "df2.isna().any().sum() "
   ]
  },
  {
   "cell_type": "markdown",
   "id": "48902f70",
   "metadata": {},
   "source": [
    " We have <b> 8 columns </b> that contains null values which must be cleaned. "
   ]
  },
  {
   "cell_type": "markdown",
   "id": "feca5bce",
   "metadata": {},
   "source": [
    "#### Removing Underscore from all the columns that have underscores with the values"
   ]
  },
  {
   "cell_type": "code",
   "execution_count": 14,
   "id": "83e57260",
   "metadata": {},
   "outputs": [],
   "source": [
    "df2['Num_of_Delayed_Payment'] = df2.Num_of_Delayed_Payment.str.strip('_')\n",
    "df2['Monthly_Balance'] = df2.Monthly_Balance.str.strip('_')\n",
    "df2['Amount_invested_monthly'] = df2.Amount_invested_monthly.str.strip('_')\n",
    "df2['Annual_Income'] = df2.Annual_Income.str.strip('_')\n",
    "df2['Num_of_Loan'] = df2.Num_of_Loan.str.strip('_')\n",
    "df2['Changed_Credit_Limit'] = df2.Changed_Credit_Limit.str.strip('_')\n",
    "df2['Outstanding_Debt'] = df2.Outstanding_Debt.str.strip('_')\n",
    "df2['Age'] = df2.Age.str.strip('_')"
   ]
  },
  {
   "cell_type": "markdown",
   "id": "5e8b6aae",
   "metadata": {},
   "source": [
    "#### Changing the existing numerical columns to it's actual Data type from string."
   ]
  },
  {
   "cell_type": "code",
   "execution_count": 15,
   "id": "33448b00",
   "metadata": {},
   "outputs": [],
   "source": [
    "df2.Monthly_Balance = df2.Monthly_Balance.astype(float)\n",
    "df2.Amount_invested_monthly = df2.Amount_invested_monthly.astype(float)\n",
    "df2.Age = df2.Age.astype(int)"
   ]
  },
  {
   "cell_type": "markdown",
   "id": "08081475",
   "metadata": {},
   "source": [
    "#### Updating the SSN column "
   ]
  },
  {
   "cell_type": "code",
   "execution_count": 16,
   "id": "d95b6d36",
   "metadata": {
    "scrolled": true
   },
   "outputs": [
    {
     "data": {
      "text/plain": [
       "array(['821-00-0265', '#F%$D@*&8', '004-07-5839', ..., '133-16-7738',\n",
       "       '031-35-0942', '078-73-5990'], dtype=object)"
      ]
     },
     "execution_count": 16,
     "metadata": {},
     "output_type": "execute_result"
    }
   ],
   "source": [
    "df2.SSN.unique()"
   ]
  },
  {
   "cell_type": "markdown",
   "id": "4d72f566",
   "metadata": {},
   "source": [
    "#### We have some junk values in SSN"
   ]
  },
  {
   "cell_type": "code",
   "execution_count": 17,
   "id": "c70c5051",
   "metadata": {
    "scrolled": false
   },
   "outputs": [
    {
     "data": {
      "text/plain": [
       "5572"
      ]
     },
     "execution_count": 17,
     "metadata": {},
     "output_type": "execute_result"
    }
   ],
   "source": [
    "len(df2[df2.SSN == '#F%$D@*&8'])"
   ]
  },
  {
   "cell_type": "markdown",
   "id": "6181d36f",
   "metadata": {},
   "source": [
    "For cleaning SSN column, we are doing a group by function on Customer ID and SSN together taking the max of Monthly Inhand Salary, Num of credit Inquiries and mean of Amount invested monthly and monthly balance. In Monthly Inhand Salary and Num of credit Inquiries column for each customer ID for different months we either have nan or a value so we have taken the maximum.In Amount invested monthly and monthly balance column for each customer ID for different months we have nan and other values so we have taken the mean. "
   ]
  },
  {
   "cell_type": "code",
   "execution_count": 18,
   "id": "98ad2a70",
   "metadata": {},
   "outputs": [],
   "source": [
    "#creating a temporary table for the groupby result\n",
    "lookup = df2.groupby(['Customer_ID','SSN'],as_index = False).agg({'Monthly_Inhand_Salary':'max',\\\n",
    "                         'Num_Credit_Inquiries':'max', 'Monthly_Balance':'mean', 'Amount_invested_monthly':'mean'})\\\n",
    "                        .rename(columns = {'Monthly_Inhand_Salary':'MIS_Max', \\\n",
    "                         'Num_Credit_Inquiries':'NCI_Max','Monthly_Balance':'MB_Mean', 'Amount_invested_monthly':'AIM_Mean'})"
   ]
  },
  {
   "cell_type": "code",
   "execution_count": 19,
   "id": "3275e036",
   "metadata": {},
   "outputs": [
    {
     "data": {
      "text/html": [
       "<div>\n",
       "<style scoped>\n",
       "    .dataframe tbody tr th:only-of-type {\n",
       "        vertical-align: middle;\n",
       "    }\n",
       "\n",
       "    .dataframe tbody tr th {\n",
       "        vertical-align: top;\n",
       "    }\n",
       "\n",
       "    .dataframe thead th {\n",
       "        text-align: right;\n",
       "    }\n",
       "</style>\n",
       "<table border=\"1\" class=\"dataframe\">\n",
       "  <thead>\n",
       "    <tr style=\"text-align: right;\">\n",
       "      <th></th>\n",
       "      <th>Customer_ID</th>\n",
       "      <th>SSN</th>\n",
       "    </tr>\n",
       "  </thead>\n",
       "  <tbody>\n",
       "    <tr>\n",
       "      <th>5</th>\n",
       "      <td>CUS_0xd40</td>\n",
       "      <td>821-00-0265</td>\n",
       "    </tr>\n",
       "    <tr>\n",
       "      <th>6</th>\n",
       "      <td>CUS_0xd40</td>\n",
       "      <td>821-00-0265</td>\n",
       "    </tr>\n",
       "    <tr>\n",
       "      <th>7</th>\n",
       "      <td>CUS_0xd40</td>\n",
       "      <td>#F%$D@*&amp;8</td>\n",
       "    </tr>\n",
       "    <tr>\n",
       "      <th>8</th>\n",
       "      <td>CUS_0x21b1</td>\n",
       "      <td>004-07-5839</td>\n",
       "    </tr>\n",
       "    <tr>\n",
       "      <th>9</th>\n",
       "      <td>CUS_0x21b1</td>\n",
       "      <td>004-07-5839</td>\n",
       "    </tr>\n",
       "  </tbody>\n",
       "</table>\n",
       "</div>"
      ],
      "text/plain": [
       "  Customer_ID          SSN\n",
       "5   CUS_0xd40  821-00-0265\n",
       "6   CUS_0xd40  821-00-0265\n",
       "7   CUS_0xd40    #F%$D@*&8\n",
       "8  CUS_0x21b1  004-07-5839\n",
       "9  CUS_0x21b1  004-07-5839"
      ]
     },
     "execution_count": 19,
     "metadata": {},
     "output_type": "execute_result"
    }
   ],
   "source": [
    "df2[5:10][['Customer_ID','SSN']]"
   ]
  },
  {
   "cell_type": "code",
   "execution_count": 20,
   "id": "cf2612a0",
   "metadata": {},
   "outputs": [],
   "source": [
    "# taking only correct SSN\n",
    "lookup = lookup[lookup.SSN != '#F%$D@*&8']"
   ]
  },
  {
   "cell_type": "code",
   "execution_count": 21,
   "id": "2ebfbec2",
   "metadata": {},
   "outputs": [],
   "source": [
    "#Merging the dataframes\n",
    "df_ssn_update = df2.merge(lookup, left_on = 'Customer_ID', right_on = 'Customer_ID', how = 'left')"
   ]
  },
  {
   "cell_type": "code",
   "execution_count": 22,
   "id": "adbc4ba1",
   "metadata": {},
   "outputs": [
    {
     "data": {
      "text/html": [
       "<div>\n",
       "<style scoped>\n",
       "    .dataframe tbody tr th:only-of-type {\n",
       "        vertical-align: middle;\n",
       "    }\n",
       "\n",
       "    .dataframe tbody tr th {\n",
       "        vertical-align: top;\n",
       "    }\n",
       "\n",
       "    .dataframe thead th {\n",
       "        text-align: right;\n",
       "    }\n",
       "</style>\n",
       "<table border=\"1\" class=\"dataframe\">\n",
       "  <thead>\n",
       "    <tr style=\"text-align: right;\">\n",
       "      <th></th>\n",
       "      <th>Customer_ID</th>\n",
       "      <th>SSN_x</th>\n",
       "      <th>SSN_y</th>\n",
       "    </tr>\n",
       "  </thead>\n",
       "  <tbody>\n",
       "    <tr>\n",
       "      <th>5</th>\n",
       "      <td>CUS_0xd40</td>\n",
       "      <td>821-00-0265</td>\n",
       "      <td>821-00-0265</td>\n",
       "    </tr>\n",
       "    <tr>\n",
       "      <th>6</th>\n",
       "      <td>CUS_0xd40</td>\n",
       "      <td>821-00-0265</td>\n",
       "      <td>821-00-0265</td>\n",
       "    </tr>\n",
       "    <tr>\n",
       "      <th>7</th>\n",
       "      <td>CUS_0xd40</td>\n",
       "      <td>#F%$D@*&amp;8</td>\n",
       "      <td>821-00-0265</td>\n",
       "    </tr>\n",
       "    <tr>\n",
       "      <th>8</th>\n",
       "      <td>CUS_0x21b1</td>\n",
       "      <td>004-07-5839</td>\n",
       "      <td>004-07-5839</td>\n",
       "    </tr>\n",
       "    <tr>\n",
       "      <th>9</th>\n",
       "      <td>CUS_0x21b1</td>\n",
       "      <td>004-07-5839</td>\n",
       "      <td>004-07-5839</td>\n",
       "    </tr>\n",
       "  </tbody>\n",
       "</table>\n",
       "</div>"
      ],
      "text/plain": [
       "  Customer_ID        SSN_x        SSN_y\n",
       "5   CUS_0xd40  821-00-0265  821-00-0265\n",
       "6   CUS_0xd40  821-00-0265  821-00-0265\n",
       "7   CUS_0xd40    #F%$D@*&8  821-00-0265\n",
       "8  CUS_0x21b1  004-07-5839  004-07-5839\n",
       "9  CUS_0x21b1  004-07-5839  004-07-5839"
      ]
     },
     "execution_count": 22,
     "metadata": {},
     "output_type": "execute_result"
    }
   ],
   "source": [
    "df_ssn_update[5:10][['Customer_ID','SSN_x','SSN_y']]"
   ]
  },
  {
   "cell_type": "code",
   "execution_count": 23,
   "id": "dfff8872",
   "metadata": {},
   "outputs": [],
   "source": [
    "#Now SSN_y column has the correct SSN"
   ]
  },
  {
   "cell_type": "code",
   "execution_count": 24,
   "id": "19cab54a",
   "metadata": {
    "scrolled": true
   },
   "outputs": [
    {
     "data": {
      "text/html": [
       "<div>\n",
       "<style scoped>\n",
       "    .dataframe tbody tr th:only-of-type {\n",
       "        vertical-align: middle;\n",
       "    }\n",
       "\n",
       "    .dataframe tbody tr th {\n",
       "        vertical-align: top;\n",
       "    }\n",
       "\n",
       "    .dataframe thead th {\n",
       "        text-align: right;\n",
       "    }\n",
       "</style>\n",
       "<table border=\"1\" class=\"dataframe\">\n",
       "  <thead>\n",
       "    <tr style=\"text-align: right;\">\n",
       "      <th></th>\n",
       "      <th>ID</th>\n",
       "      <th>Customer_ID</th>\n",
       "      <th>Month</th>\n",
       "      <th>Name</th>\n",
       "      <th>Age</th>\n",
       "      <th>SSN_x</th>\n",
       "      <th>Occupation</th>\n",
       "      <th>Annual_Income</th>\n",
       "      <th>Monthly_Inhand_Salary</th>\n",
       "      <th>Num_Bank_Accounts</th>\n",
       "      <th>Num_Credit_Card</th>\n",
       "      <th>Interest_Rate</th>\n",
       "      <th>Num_of_Loan</th>\n",
       "      <th>Type_of_Loan</th>\n",
       "      <th>Delay_from_due_date</th>\n",
       "      <th>Num_of_Delayed_Payment</th>\n",
       "      <th>Changed_Credit_Limit</th>\n",
       "      <th>Num_Credit_Inquiries</th>\n",
       "      <th>Credit_Mix</th>\n",
       "      <th>Outstanding_Debt</th>\n",
       "      <th>Credit_Utilization_Ratio</th>\n",
       "      <th>Credit_History_Age</th>\n",
       "      <th>Payment_of_Min_Amount</th>\n",
       "      <th>Total_EMI_per_month</th>\n",
       "      <th>Amount_invested_monthly</th>\n",
       "      <th>Payment_Behaviour</th>\n",
       "      <th>Monthly_Balance</th>\n",
       "      <th>Credit_Score</th>\n",
       "      <th>SSN_y</th>\n",
       "      <th>MIS_Max</th>\n",
       "      <th>NCI_Max</th>\n",
       "      <th>MB_Mean</th>\n",
       "      <th>AIM_Mean</th>\n",
       "    </tr>\n",
       "  </thead>\n",
       "  <tbody>\n",
       "  </tbody>\n",
       "</table>\n",
       "</div>"
      ],
      "text/plain": [
       "Empty DataFrame\n",
       "Columns: [ID, Customer_ID, Month, Name, Age, SSN_x, Occupation, Annual_Income, Monthly_Inhand_Salary, Num_Bank_Accounts, Num_Credit_Card, Interest_Rate, Num_of_Loan, Type_of_Loan, Delay_from_due_date, Num_of_Delayed_Payment, Changed_Credit_Limit, Num_Credit_Inquiries, Credit_Mix, Outstanding_Debt, Credit_Utilization_Ratio, Credit_History_Age, Payment_of_Min_Amount, Total_EMI_per_month, Amount_invested_monthly, Payment_Behaviour, Monthly_Balance, Credit_Score, SSN_y, MIS_Max, NCI_Max, MB_Mean, AIM_Mean]\n",
       "Index: []"
      ]
     },
     "execution_count": 24,
     "metadata": {},
     "output_type": "execute_result"
    }
   ],
   "source": [
    "df_ssn_update[df_ssn_update['SSN_y' ]== '#F%$D@*&8']"
   ]
  },
  {
   "cell_type": "code",
   "execution_count": 25,
   "id": "83a01d5d",
   "metadata": {},
   "outputs": [],
   "source": [
    "#dropping SSN_x\n",
    "df_ssn_update = df_ssn_update.drop(columns = ['SSN_x'],axis = 1)"
   ]
  },
  {
   "cell_type": "code",
   "execution_count": 26,
   "id": "dd2392dc",
   "metadata": {},
   "outputs": [
    {
     "data": {
      "text/plain": [
       "100000"
      ]
     },
     "execution_count": 26,
     "metadata": {},
     "output_type": "execute_result"
    }
   ],
   "source": [
    "len(df_ssn_update)"
   ]
  },
  {
   "cell_type": "code",
   "execution_count": 27,
   "id": "d12361d5",
   "metadata": {},
   "outputs": [],
   "source": [
    "#Replacing Nan value to 0 in some columns to use it for cleaning\n",
    "df_ssn_update.Monthly_Inhand_Salary.replace(to_replace=NaN, value=0, inplace=True)\n",
    "df_ssn_update.Num_Credit_Inquiries.replace(to_replace=NaN, value=0, inplace=True)\n",
    "df_ssn_update.Monthly_Balance.fillna(0,inplace=True)\n",
    "df_ssn_update.MB_Mean.fillna(0,inplace=True)"
   ]
  },
  {
   "cell_type": "markdown",
   "id": "284d187c",
   "metadata": {},
   "source": [
    "#### Updating the Monthly Inhand Salary"
   ]
  },
  {
   "cell_type": "code",
   "execution_count": 28,
   "id": "f6a172e9",
   "metadata": {},
   "outputs": [],
   "source": [
    "df_ssn_update['Monthly_Inhand_Salary'] = df_ssn_update.apply(lambda x: x.Monthly_Inhand_Salary \\\n",
    "                                                        if x.Monthly_Inhand_Salary > 0 else x.MIS_Max , axis = 1)"
   ]
  },
  {
   "cell_type": "code",
   "execution_count": 29,
   "id": "4605d2bd",
   "metadata": {},
   "outputs": [],
   "source": [
    "#dropping the added column\n",
    "df_ssn_update = df_ssn_update.drop(columns = ['MIS_Max'],axis = 1)"
   ]
  },
  {
   "cell_type": "markdown",
   "id": "a3d0ca40",
   "metadata": {},
   "source": [
    "#### Updating the Number of Credit Inquiries column"
   ]
  },
  {
   "cell_type": "code",
   "execution_count": 30,
   "id": "e2fe1e6b",
   "metadata": {},
   "outputs": [],
   "source": [
    "df_ssn_update['Num_Credit_Inquiries'] = df_ssn_update.apply(lambda x: x.Num_Credit_Inquiries \\\n",
    "                                                        if x.Num_Credit_Inquiries > 0 else x.NCI_Max , axis = 1)\n",
    "#dropping the added column\n",
    "df_ssn_update = df_ssn_update.drop(columns = ['NCI_Max'],axis = 1)"
   ]
  },
  {
   "cell_type": "markdown",
   "id": "4a49b9cc",
   "metadata": {},
   "source": [
    "#### Replacing the Nan in No of Delayed payment column "
   ]
  },
  {
   "cell_type": "code",
   "execution_count": 31,
   "id": "efcee051",
   "metadata": {},
   "outputs": [],
   "source": [
    "#Replace nan in this column with 0\n",
    "df_ssn_update.Num_of_Delayed_Payment.fillna(0,inplace=True)"
   ]
  },
  {
   "cell_type": "markdown",
   "id": "5d9ab3b1",
   "metadata": {},
   "source": [
    "#### Updating the Monthly balance column"
   ]
  },
  {
   "cell_type": "code",
   "execution_count": 32,
   "id": "aae10a87",
   "metadata": {},
   "outputs": [],
   "source": [
    "df_ssn_update['Monthly_Balance'] = df_ssn_update.apply(lambda x: x.Monthly_Balance \\\n",
    "                                                        if x.Monthly_Balance > 0 else x.MB_Mean , axis = 1)"
   ]
  },
  {
   "cell_type": "code",
   "execution_count": 33,
   "id": "f1b5d4c0",
   "metadata": {},
   "outputs": [],
   "source": [
    "#dropping the added column\n",
    "df_ssn_update = df_ssn_update.drop(columns = ['MB_Mean'],axis = 1)"
   ]
  },
  {
   "cell_type": "markdown",
   "id": "69d12c09",
   "metadata": {},
   "source": [
    "#### Updating the Amount_invested_monthly column"
   ]
  },
  {
   "cell_type": "code",
   "execution_count": 34,
   "id": "80dd18b3",
   "metadata": {},
   "outputs": [],
   "source": [
    "df_ssn_update['Amount_invested_monthly'] = df_ssn_update.apply(lambda x: x.Amount_invested_monthly \\\n",
    "                                                        if x.Amount_invested_monthly > 0 else x.AIM_Mean , axis = 1)"
   ]
  },
  {
   "cell_type": "code",
   "execution_count": 35,
   "id": "e307997c",
   "metadata": {},
   "outputs": [],
   "source": [
    "#dropping the added column\n",
    "df_ssn_update = df_ssn_update.drop(columns = ['AIM_Mean'],axis = 1)"
   ]
  },
  {
   "cell_type": "code",
   "execution_count": 36,
   "id": "bb874bd2",
   "metadata": {},
   "outputs": [
    {
     "data": {
      "text/plain": [
       "ID                              0\n",
       "Customer_ID                     0\n",
       "Month                           0\n",
       "Name                         9985\n",
       "Age                             0\n",
       "Occupation                      0\n",
       "Annual_Income                   0\n",
       "Monthly_Inhand_Salary           0\n",
       "Num_Bank_Accounts               0\n",
       "Num_Credit_Card                 0\n",
       "Interest_Rate                   0\n",
       "Num_of_Loan                     0\n",
       "Type_of_Loan                11408\n",
       "Delay_from_due_date             0\n",
       "Num_of_Delayed_Payment          0\n",
       "Changed_Credit_Limit            0\n",
       "Num_Credit_Inquiries            0\n",
       "Credit_Mix                      0\n",
       "Outstanding_Debt                0\n",
       "Credit_Utilization_Ratio        0\n",
       "Credit_History_Age           9030\n",
       "Payment_of_Min_Amount           0\n",
       "Total_EMI_per_month             0\n",
       "Amount_invested_monthly         0\n",
       "Payment_Behaviour               0\n",
       "Monthly_Balance                 0\n",
       "Credit_Score                    0\n",
       "SSN_y                           0\n",
       "dtype: int64"
      ]
     },
     "execution_count": 36,
     "metadata": {},
     "output_type": "execute_result"
    }
   ],
   "source": [
    "df_ssn_update.isna().sum()"
   ]
  },
  {
   "cell_type": "markdown",
   "id": "a5ba533a",
   "metadata": {},
   "source": [
    "#### Now all the null values in the numeric columns are cleaned"
   ]
  },
  {
   "cell_type": "code",
   "execution_count": 37,
   "id": "c9eb6435",
   "metadata": {},
   "outputs": [
    {
     "data": {
      "text/html": [
       "<div>\n",
       "<style scoped>\n",
       "    .dataframe tbody tr th:only-of-type {\n",
       "        vertical-align: middle;\n",
       "    }\n",
       "\n",
       "    .dataframe tbody tr th {\n",
       "        vertical-align: top;\n",
       "    }\n",
       "\n",
       "    .dataframe thead th {\n",
       "        text-align: right;\n",
       "    }\n",
       "</style>\n",
       "<table border=\"1\" class=\"dataframe\">\n",
       "  <thead>\n",
       "    <tr style=\"text-align: right;\">\n",
       "      <th></th>\n",
       "      <th>Customer_ID</th>\n",
       "      <th>Name</th>\n",
       "    </tr>\n",
       "  </thead>\n",
       "  <tbody>\n",
       "    <tr>\n",
       "      <th>16</th>\n",
       "      <td>CUS_0x2dbc</td>\n",
       "      <td>Langep</td>\n",
       "    </tr>\n",
       "    <tr>\n",
       "      <th>11872</th>\n",
       "      <td>CUS_0xaf95</td>\n",
       "      <td>Langep</td>\n",
       "    </tr>\n",
       "    <tr>\n",
       "      <th>44856</th>\n",
       "      <td>CUS_0x109d</td>\n",
       "      <td>Langep</td>\n",
       "    </tr>\n",
       "    <tr>\n",
       "      <th>53272</th>\n",
       "      <td>CUS_0x4854</td>\n",
       "      <td>Langep</td>\n",
       "    </tr>\n",
       "    <tr>\n",
       "      <th>61376</th>\n",
       "      <td>CUS_0xba1c</td>\n",
       "      <td>Langep</td>\n",
       "    </tr>\n",
       "    <tr>\n",
       "      <th>76872</th>\n",
       "      <td>CUS_0x7a96</td>\n",
       "      <td>Langep</td>\n",
       "    </tr>\n",
       "  </tbody>\n",
       "</table>\n",
       "</div>"
      ],
      "text/plain": [
       "      Customer_ID    Name\n",
       "16     CUS_0x2dbc  Langep\n",
       "11872  CUS_0xaf95  Langep\n",
       "44856  CUS_0x109d  Langep\n",
       "53272  CUS_0x4854  Langep\n",
       "61376  CUS_0xba1c  Langep\n",
       "76872  CUS_0x7a96  Langep"
      ]
     },
     "execution_count": 37,
     "metadata": {},
     "output_type": "execute_result"
    }
   ],
   "source": [
    "df_ssn_update[df_ssn_update.Name == 'Langep'][['Customer_ID','Name']].drop_duplicates()"
   ]
  },
  {
   "cell_type": "markdown",
   "id": "34e0da5a",
   "metadata": {},
   "source": [
    "Name is not the unique identifier so we are dropping name column"
   ]
  },
  {
   "cell_type": "code",
   "execution_count": 38,
   "id": "53b25e23",
   "metadata": {},
   "outputs": [],
   "source": [
    "df_ssn_update = df_ssn_update.drop(columns = ['Name'],axis = 1)"
   ]
  },
  {
   "cell_type": "code",
   "execution_count": 39,
   "id": "1df5271a",
   "metadata": {},
   "outputs": [],
   "source": [
    "#After cleaning numerical columns we are creating a copy of the cleaned dataframe\n",
    "df_clean = df_ssn_update.copy()"
   ]
  },
  {
   "cell_type": "code",
   "execution_count": 40,
   "id": "1fc0d263",
   "metadata": {},
   "outputs": [
    {
     "data": {
      "text/plain": [
       "100000"
      ]
     },
     "execution_count": 40,
     "metadata": {},
     "output_type": "execute_result"
    }
   ],
   "source": [
    "len(df_clean)"
   ]
  },
  {
   "cell_type": "markdown",
   "id": "f2284170",
   "metadata": {},
   "source": [
    "#### We have some data entry errors in age columns"
   ]
  },
  {
   "cell_type": "code",
   "execution_count": 41,
   "id": "96297907",
   "metadata": {},
   "outputs": [
    {
     "data": {
      "text/plain": [
       "-500"
      ]
     },
     "execution_count": 41,
     "metadata": {},
     "output_type": "execute_result"
    },
    {
     "data": {
      "text/plain": [
       "8698"
      ]
     },
     "execution_count": 41,
     "metadata": {},
     "output_type": "execute_result"
    }
   ],
   "source": [
    "df_clean.Age.min()\n",
    "df_clean.Age.max()"
   ]
  },
  {
   "cell_type": "code",
   "execution_count": 42,
   "id": "e29c3545",
   "metadata": {},
   "outputs": [
    {
     "data": {
      "text/html": [
       "<div>\n",
       "<style scoped>\n",
       "    .dataframe tbody tr th:only-of-type {\n",
       "        vertical-align: middle;\n",
       "    }\n",
       "\n",
       "    .dataframe tbody tr th {\n",
       "        vertical-align: top;\n",
       "    }\n",
       "\n",
       "    .dataframe thead th {\n",
       "        text-align: right;\n",
       "    }\n",
       "</style>\n",
       "<table border=\"1\" class=\"dataframe\">\n",
       "  <thead>\n",
       "    <tr style=\"text-align: right;\">\n",
       "      <th></th>\n",
       "      <th>Customer_ID</th>\n",
       "      <th>SSN_y</th>\n",
       "      <th>Age</th>\n",
       "    </tr>\n",
       "  </thead>\n",
       "  <tbody>\n",
       "    <tr>\n",
       "      <th>0</th>\n",
       "      <td>CUS_0xd40</td>\n",
       "      <td>821-00-0265</td>\n",
       "      <td>23</td>\n",
       "    </tr>\n",
       "    <tr>\n",
       "      <th>1</th>\n",
       "      <td>CUS_0xd40</td>\n",
       "      <td>821-00-0265</td>\n",
       "      <td>23</td>\n",
       "    </tr>\n",
       "    <tr>\n",
       "      <th>2</th>\n",
       "      <td>CUS_0xd40</td>\n",
       "      <td>821-00-0265</td>\n",
       "      <td>-500</td>\n",
       "    </tr>\n",
       "    <tr>\n",
       "      <th>3</th>\n",
       "      <td>CUS_0xd40</td>\n",
       "      <td>821-00-0265</td>\n",
       "      <td>23</td>\n",
       "    </tr>\n",
       "    <tr>\n",
       "      <th>4</th>\n",
       "      <td>CUS_0xd40</td>\n",
       "      <td>821-00-0265</td>\n",
       "      <td>23</td>\n",
       "    </tr>\n",
       "    <tr>\n",
       "      <th>5</th>\n",
       "      <td>CUS_0xd40</td>\n",
       "      <td>821-00-0265</td>\n",
       "      <td>23</td>\n",
       "    </tr>\n",
       "    <tr>\n",
       "      <th>6</th>\n",
       "      <td>CUS_0xd40</td>\n",
       "      <td>821-00-0265</td>\n",
       "      <td>23</td>\n",
       "    </tr>\n",
       "    <tr>\n",
       "      <th>7</th>\n",
       "      <td>CUS_0xd40</td>\n",
       "      <td>821-00-0265</td>\n",
       "      <td>23</td>\n",
       "    </tr>\n",
       "  </tbody>\n",
       "</table>\n",
       "</div>"
      ],
      "text/plain": [
       "  Customer_ID        SSN_y  Age\n",
       "0   CUS_0xd40  821-00-0265   23\n",
       "1   CUS_0xd40  821-00-0265   23\n",
       "2   CUS_0xd40  821-00-0265 -500\n",
       "3   CUS_0xd40  821-00-0265   23\n",
       "4   CUS_0xd40  821-00-0265   23\n",
       "5   CUS_0xd40  821-00-0265   23\n",
       "6   CUS_0xd40  821-00-0265   23\n",
       "7   CUS_0xd40  821-00-0265   23"
      ]
     },
     "execution_count": 42,
     "metadata": {},
     "output_type": "execute_result"
    }
   ],
   "source": [
    "df_clean[df_clean.Customer_ID == 'CUS_0xd40'][['Customer_ID','SSN_y','Age']]"
   ]
  },
  {
   "cell_type": "code",
   "execution_count": 43,
   "id": "e465b22c",
   "metadata": {},
   "outputs": [],
   "source": [
    "# Creating a temp dataframe with correct ages\n",
    "df_age = df_clean[((df_clean.Age).astype(int)>-1) & ((df_clean.Age).astype(int)<100)]"
   ]
  },
  {
   "cell_type": "code",
   "execution_count": 44,
   "id": "b1778946",
   "metadata": {},
   "outputs": [],
   "source": [
    "df_age = df_age[['SSN_y','Age']]"
   ]
  },
  {
   "cell_type": "code",
   "execution_count": 45,
   "id": "ae69bed0",
   "metadata": {},
   "outputs": [
    {
     "data": {
      "text/plain": [
       "14"
      ]
     },
     "execution_count": 45,
     "metadata": {},
     "output_type": "execute_result"
    },
    {
     "data": {
      "text/plain": [
       "99"
      ]
     },
     "execution_count": 45,
     "metadata": {},
     "output_type": "execute_result"
    }
   ],
   "source": [
    "df_age.Age.min()\n",
    "df_age.Age.max()"
   ]
  },
  {
   "cell_type": "code",
   "execution_count": 46,
   "id": "812c7c13",
   "metadata": {},
   "outputs": [],
   "source": [
    "df_age = df_age.drop_duplicates()\n",
    "df_age = df_age.drop_duplicates(subset = ['SSN_y'])"
   ]
  },
  {
   "cell_type": "markdown",
   "id": "07ea9343",
   "metadata": {},
   "source": [
    "#### Updating the age column with crct age"
   ]
  },
  {
   "cell_type": "code",
   "execution_count": 47,
   "id": "45137291",
   "metadata": {},
   "outputs": [],
   "source": [
    "df_clean = df_clean.merge(df_age, left_on = 'SSN_y', right_on = 'SSN_y', how = 'left')"
   ]
  },
  {
   "cell_type": "code",
   "execution_count": 48,
   "id": "a0b1ba36",
   "metadata": {},
   "outputs": [],
   "source": [
    "df_clean['Age_x'] = df_clean.apply(lambda x: x.Age_y \\\n",
    "                                                        if ((x.Age_x > 100) | (x.Age_x <0)) else x.Age_x , axis = 1)"
   ]
  },
  {
   "cell_type": "code",
   "execution_count": 49,
   "id": "b335248f",
   "metadata": {},
   "outputs": [
    {
     "data": {
      "text/html": [
       "<div>\n",
       "<style scoped>\n",
       "    .dataframe tbody tr th:only-of-type {\n",
       "        vertical-align: middle;\n",
       "    }\n",
       "\n",
       "    .dataframe tbody tr th {\n",
       "        vertical-align: top;\n",
       "    }\n",
       "\n",
       "    .dataframe thead th {\n",
       "        text-align: right;\n",
       "    }\n",
       "</style>\n",
       "<table border=\"1\" class=\"dataframe\">\n",
       "  <thead>\n",
       "    <tr style=\"text-align: right;\">\n",
       "      <th></th>\n",
       "      <th>Customer_ID</th>\n",
       "      <th>SSN_y</th>\n",
       "      <th>Age_x</th>\n",
       "      <th>Age_y</th>\n",
       "    </tr>\n",
       "  </thead>\n",
       "  <tbody>\n",
       "    <tr>\n",
       "      <th>0</th>\n",
       "      <td>CUS_0xd40</td>\n",
       "      <td>821-00-0265</td>\n",
       "      <td>23</td>\n",
       "      <td>23</td>\n",
       "    </tr>\n",
       "    <tr>\n",
       "      <th>1</th>\n",
       "      <td>CUS_0xd40</td>\n",
       "      <td>821-00-0265</td>\n",
       "      <td>23</td>\n",
       "      <td>23</td>\n",
       "    </tr>\n",
       "    <tr>\n",
       "      <th>2</th>\n",
       "      <td>CUS_0xd40</td>\n",
       "      <td>821-00-0265</td>\n",
       "      <td>23</td>\n",
       "      <td>23</td>\n",
       "    </tr>\n",
       "    <tr>\n",
       "      <th>3</th>\n",
       "      <td>CUS_0xd40</td>\n",
       "      <td>821-00-0265</td>\n",
       "      <td>23</td>\n",
       "      <td>23</td>\n",
       "    </tr>\n",
       "    <tr>\n",
       "      <th>4</th>\n",
       "      <td>CUS_0xd40</td>\n",
       "      <td>821-00-0265</td>\n",
       "      <td>23</td>\n",
       "      <td>23</td>\n",
       "    </tr>\n",
       "    <tr>\n",
       "      <th>5</th>\n",
       "      <td>CUS_0xd40</td>\n",
       "      <td>821-00-0265</td>\n",
       "      <td>23</td>\n",
       "      <td>23</td>\n",
       "    </tr>\n",
       "    <tr>\n",
       "      <th>6</th>\n",
       "      <td>CUS_0xd40</td>\n",
       "      <td>821-00-0265</td>\n",
       "      <td>23</td>\n",
       "      <td>23</td>\n",
       "    </tr>\n",
       "    <tr>\n",
       "      <th>7</th>\n",
       "      <td>CUS_0xd40</td>\n",
       "      <td>821-00-0265</td>\n",
       "      <td>23</td>\n",
       "      <td>23</td>\n",
       "    </tr>\n",
       "  </tbody>\n",
       "</table>\n",
       "</div>"
      ],
      "text/plain": [
       "  Customer_ID        SSN_y  Age_x  Age_y\n",
       "0   CUS_0xd40  821-00-0265     23     23\n",
       "1   CUS_0xd40  821-00-0265     23     23\n",
       "2   CUS_0xd40  821-00-0265     23     23\n",
       "3   CUS_0xd40  821-00-0265     23     23\n",
       "4   CUS_0xd40  821-00-0265     23     23\n",
       "5   CUS_0xd40  821-00-0265     23     23\n",
       "6   CUS_0xd40  821-00-0265     23     23\n",
       "7   CUS_0xd40  821-00-0265     23     23"
      ]
     },
     "execution_count": 49,
     "metadata": {},
     "output_type": "execute_result"
    }
   ],
   "source": [
    "df_clean[df_clean.Customer_ID == 'CUS_0xd40'][['Customer_ID','SSN_y','Age_x','Age_y']]"
   ]
  },
  {
   "cell_type": "code",
   "execution_count": 50,
   "id": "880d69a5",
   "metadata": {},
   "outputs": [],
   "source": [
    "#dropping and renaming the columns\n",
    "df_clean = df_clean.drop(columns = ['Age_y'],axis = 1)\n",
    "df_clean.rename(columns = {'Age_x':'Age'}, inplace = True)"
   ]
  },
  {
   "cell_type": "code",
   "execution_count": 51,
   "id": "c78dc3e7",
   "metadata": {},
   "outputs": [],
   "source": [
    "#deleting the temporary table created\n",
    "del(df_age)"
   ]
  },
  {
   "cell_type": "markdown",
   "id": "031c9f63",
   "metadata": {},
   "source": [
    "#### Cleaning Payment Behavior column"
   ]
  },
  {
   "cell_type": "code",
   "execution_count": 52,
   "id": "5c66987c",
   "metadata": {},
   "outputs": [
    {
     "data": {
      "text/plain": [
       "array(['High_spent_Small_value_payments',\n",
       "       'Low_spent_Large_value_payments',\n",
       "       'Low_spent_Medium_value_payments',\n",
       "       'Low_spent_Small_value_payments',\n",
       "       'High_spent_Medium_value_payments', '!@9#%8',\n",
       "       'High_spent_Large_value_payments'], dtype=object)"
      ]
     },
     "execution_count": 52,
     "metadata": {},
     "output_type": "execute_result"
    }
   ],
   "source": [
    "df_clean['Payment_Behaviour'].unique()"
   ]
  },
  {
   "cell_type": "code",
   "execution_count": 53,
   "id": "c9fe8253",
   "metadata": {},
   "outputs": [],
   "source": [
    "# taking only the correct payment behavior values\n",
    "df_pb = df_clean[df_clean['Payment_Behaviour'] != '!@9#%8'][['SSN_y','Payment_Behaviour']]"
   ]
  },
  {
   "cell_type": "code",
   "execution_count": 54,
   "id": "438e2bac",
   "metadata": {},
   "outputs": [
    {
     "data": {
      "text/html": [
       "<div>\n",
       "<style scoped>\n",
       "    .dataframe tbody tr th:only-of-type {\n",
       "        vertical-align: middle;\n",
       "    }\n",
       "\n",
       "    .dataframe tbody tr th {\n",
       "        vertical-align: top;\n",
       "    }\n",
       "\n",
       "    .dataframe thead th {\n",
       "        text-align: right;\n",
       "    }\n",
       "</style>\n",
       "<table border=\"1\" class=\"dataframe\">\n",
       "  <thead>\n",
       "    <tr style=\"text-align: right;\">\n",
       "      <th></th>\n",
       "      <th>SSN_y</th>\n",
       "      <th>Payment_Behaviour</th>\n",
       "    </tr>\n",
       "  </thead>\n",
       "  <tbody>\n",
       "    <tr>\n",
       "      <th>0</th>\n",
       "      <td>821-00-0265</td>\n",
       "      <td>High_spent_Small_value_payments</td>\n",
       "    </tr>\n",
       "    <tr>\n",
       "      <th>1</th>\n",
       "      <td>821-00-0265</td>\n",
       "      <td>Low_spent_Large_value_payments</td>\n",
       "    </tr>\n",
       "  </tbody>\n",
       "</table>\n",
       "</div>"
      ],
      "text/plain": [
       "         SSN_y                Payment_Behaviour\n",
       "0  821-00-0265  High_spent_Small_value_payments\n",
       "1  821-00-0265   Low_spent_Large_value_payments"
      ]
     },
     "execution_count": 54,
     "metadata": {},
     "output_type": "execute_result"
    }
   ],
   "source": [
    "df_pb.head(2)"
   ]
  },
  {
   "cell_type": "code",
   "execution_count": 55,
   "id": "afe5b485",
   "metadata": {},
   "outputs": [],
   "source": [
    "df_pb = df_pb.drop_duplicates()\n",
    "df_pb = df_pb.drop_duplicates(subset = ['SSN_y'])"
   ]
  },
  {
   "cell_type": "markdown",
   "id": "81caa4f7",
   "metadata": {},
   "source": [
    "#### Updating with correct values"
   ]
  },
  {
   "cell_type": "code",
   "execution_count": 56,
   "id": "ea43ffde",
   "metadata": {},
   "outputs": [],
   "source": [
    "df_clean= df_clean.merge(df_pb, left_on = 'SSN_y', right_on = 'SSN_y', how = 'left')"
   ]
  },
  {
   "cell_type": "code",
   "execution_count": 57,
   "id": "2dab8547",
   "metadata": {
    "scrolled": true
   },
   "outputs": [],
   "source": [
    "#Renaming and removing the columns \n",
    "df_clean.rename(columns = {'Payment_Behaviour_y':'Payment_Behaviour'}, inplace = True)\n",
    "df_clean = df_clean.drop(columns = ['Payment_Behaviour_x'],axis = 1)"
   ]
  },
  {
   "cell_type": "markdown",
   "id": "5a96d36f",
   "metadata": {},
   "source": [
    "#### Now we are cleaning occupation column. we have some blanks in this column"
   ]
  },
  {
   "cell_type": "code",
   "execution_count": 58,
   "id": "9f0a23d4",
   "metadata": {
    "scrolled": true
   },
   "outputs": [
    {
     "data": {
      "text/plain": [
       "array(['Scientist', '_______', 'Teacher', 'Engineer', 'Entrepreneur',\n",
       "       'Developer', 'Lawyer', 'Media_Manager', 'Doctor', 'Journalist',\n",
       "       'Manager', 'Accountant', 'Musician', 'Mechanic', 'Writer',\n",
       "       'Architect'], dtype=object)"
      ]
     },
     "execution_count": 58,
     "metadata": {},
     "output_type": "execute_result"
    }
   ],
   "source": [
    "df_clean.Occupation.unique()"
   ]
  },
  {
   "cell_type": "markdown",
   "id": "c4e80edb",
   "metadata": {},
   "source": [
    "#### Creating a dummy dataframe with correct occupations"
   ]
  },
  {
   "cell_type": "code",
   "execution_count": 59,
   "id": "2e0a163b",
   "metadata": {},
   "outputs": [],
   "source": [
    "df_occu = df_clean[df_clean.Occupation!= '_______'][['SSN_y','Occupation']]"
   ]
  },
  {
   "cell_type": "code",
   "execution_count": 60,
   "id": "a1c17f85",
   "metadata": {},
   "outputs": [
    {
     "data": {
      "text/plain": [
       "array(['Scientist', 'Teacher', 'Engineer', 'Entrepreneur', 'Developer',\n",
       "       'Lawyer', 'Media_Manager', 'Doctor', 'Journalist', 'Manager',\n",
       "       'Accountant', 'Musician', 'Mechanic', 'Writer', 'Architect'],\n",
       "      dtype=object)"
      ]
     },
     "execution_count": 60,
     "metadata": {},
     "output_type": "execute_result"
    }
   ],
   "source": [
    "df_occu.Occupation.unique()"
   ]
  },
  {
   "cell_type": "code",
   "execution_count": 61,
   "id": "da4d256b",
   "metadata": {},
   "outputs": [],
   "source": [
    "df_occu = df_occu.drop_duplicates()\n",
    "df_occu = df_occu.drop_duplicates(subset = ['SSN_y'])"
   ]
  },
  {
   "cell_type": "markdown",
   "id": "95a38e04",
   "metadata": {},
   "source": [
    "#### Updating the occupation with correct occupation for each unique ssn"
   ]
  },
  {
   "cell_type": "code",
   "execution_count": 62,
   "id": "a1f0393a",
   "metadata": {},
   "outputs": [],
   "source": [
    "df_clean = df_clean.merge(df_occu, left_on = 'SSN_y', right_on = 'SSN_y', how = 'left')"
   ]
  },
  {
   "cell_type": "code",
   "execution_count": 63,
   "id": "ea6b115c",
   "metadata": {},
   "outputs": [],
   "source": [
    "#dropping and renaming extra columns\n",
    "df_clean = df_clean.drop(columns = ['Occupation_x'],axis = 1)\n",
    "df_clean.rename(columns = {'Occupation_y':'Occupation'}, inplace = True)"
   ]
  },
  {
   "cell_type": "code",
   "execution_count": 64,
   "id": "71740c8f",
   "metadata": {},
   "outputs": [],
   "source": [
    "#deleting temp dataframe\n",
    "del(df_occu) "
   ]
  },
  {
   "cell_type": "markdown",
   "id": "440777c1",
   "metadata": {},
   "source": [
    "#### Now we have some underscore in credit mix column"
   ]
  },
  {
   "cell_type": "code",
   "execution_count": 65,
   "id": "0aa4f713",
   "metadata": {},
   "outputs": [
    {
     "data": {
      "text/plain": [
       "array(['_', 'Good', 'Standard', 'Bad'], dtype=object)"
      ]
     },
     "execution_count": 65,
     "metadata": {},
     "output_type": "execute_result"
    }
   ],
   "source": [
    "df_clean.Credit_Mix.unique()"
   ]
  },
  {
   "cell_type": "markdown",
   "id": "5054c448",
   "metadata": {},
   "source": [
    "#### Creating a dummy dataframe with correct values"
   ]
  },
  {
   "cell_type": "code",
   "execution_count": 66,
   "id": "b54dc650",
   "metadata": {},
   "outputs": [],
   "source": [
    "df_cm = df_clean[df_clean.Credit_Mix!= '_'][['SSN_y','Credit_Mix']]"
   ]
  },
  {
   "cell_type": "code",
   "execution_count": 67,
   "id": "492c235f",
   "metadata": {},
   "outputs": [
    {
     "data": {
      "text/plain": [
       "array(['Good', 'Standard', 'Bad'], dtype=object)"
      ]
     },
     "execution_count": 67,
     "metadata": {},
     "output_type": "execute_result"
    }
   ],
   "source": [
    "df_cm.Credit_Mix.unique()"
   ]
  },
  {
   "cell_type": "code",
   "execution_count": 68,
   "id": "a1bef005",
   "metadata": {},
   "outputs": [],
   "source": [
    "df_cm = df_cm.drop_duplicates()\n",
    "df_cm = df_cm.drop_duplicates(subset = ['SSN_y'])"
   ]
  },
  {
   "cell_type": "markdown",
   "id": "5d771c41",
   "metadata": {},
   "source": [
    "#### Updating correct values"
   ]
  },
  {
   "cell_type": "code",
   "execution_count": 69,
   "id": "33482e4c",
   "metadata": {},
   "outputs": [],
   "source": [
    "df_clean = df_clean.merge(df_cm, left_on = 'SSN_y', right_on = 'SSN_y', how = 'left')"
   ]
  },
  {
   "cell_type": "code",
   "execution_count": 70,
   "id": "52f117e2",
   "metadata": {},
   "outputs": [],
   "source": [
    "#removing and renaming columns\n",
    "df_clean = df_clean.drop(columns = ['Credit_Mix_x'],axis = 1)\n",
    "df_clean.rename(columns = {'Credit_Mix_y':'Credit_Mix'}, inplace = True)"
   ]
  },
  {
   "cell_type": "code",
   "execution_count": 71,
   "id": "4e7f4fc8",
   "metadata": {},
   "outputs": [],
   "source": [
    "del(df_cm) #deleting temporary columns"
   ]
  },
  {
   "cell_type": "markdown",
   "id": "f0e270f2",
   "metadata": {},
   "source": [
    "#### We have some empty rows in Changed_Credit_Limit"
   ]
  },
  {
   "cell_type": "code",
   "execution_count": 72,
   "id": "239262e0",
   "metadata": {},
   "outputs": [
    {
     "data": {
      "text/plain": [
       "2091"
      ]
     },
     "execution_count": 72,
     "metadata": {},
     "output_type": "execute_result"
    }
   ],
   "source": [
    "len(df_clean[df_clean.Changed_Credit_Limit == ''])"
   ]
  },
  {
   "cell_type": "markdown",
   "id": "ae6b5abf",
   "metadata": {},
   "source": [
    "#### Taking the correct values"
   ]
  },
  {
   "cell_type": "code",
   "execution_count": 73,
   "id": "f2f78bb3",
   "metadata": {},
   "outputs": [],
   "source": [
    "df_ccl = df_clean[df_clean.Changed_Credit_Limit!= ''][['SSN_y','Changed_Credit_Limit']]"
   ]
  },
  {
   "cell_type": "code",
   "execution_count": 74,
   "id": "1de63455",
   "metadata": {},
   "outputs": [],
   "source": [
    "df_ccl = df_ccl.drop_duplicates()\n",
    "df_ccl = df_ccl.drop_duplicates(subset = ['SSN_y'])"
   ]
  },
  {
   "cell_type": "markdown",
   "id": "a64ad4a3",
   "metadata": {},
   "source": [
    "#### Updating the correct Changed_Credit_Limit values using SSN"
   ]
  },
  {
   "cell_type": "code",
   "execution_count": 75,
   "id": "2b625395",
   "metadata": {},
   "outputs": [],
   "source": [
    "df_clean = df_clean.merge(df_ccl, left_on = 'SSN_y', right_on = 'SSN_y', how = 'left')"
   ]
  },
  {
   "cell_type": "code",
   "execution_count": 76,
   "id": "3c45c4f9",
   "metadata": {},
   "outputs": [],
   "source": [
    "#Dropping and Renaming columns\n",
    "df_clean = df_clean.drop(columns = ['Changed_Credit_Limit_x'],axis = 1)\n",
    "df_clean.rename(columns = {'Changed_Credit_Limit_y':'Changed_Credit_Limit'}, inplace = True)"
   ]
  },
  {
   "cell_type": "code",
   "execution_count": 77,
   "id": "5952590b",
   "metadata": {},
   "outputs": [
    {
     "data": {
      "text/plain": [
       "0"
      ]
     },
     "execution_count": 77,
     "metadata": {},
     "output_type": "execute_result"
    }
   ],
   "source": [
    "len(df_clean[df_clean.Changed_Credit_Limit == ''])"
   ]
  },
  {
   "cell_type": "code",
   "execution_count": 78,
   "id": "19825c37",
   "metadata": {},
   "outputs": [],
   "source": [
    "del(df_ccl) #deleting temporary table"
   ]
  },
  {
   "cell_type": "markdown",
   "id": "1a04aaeb",
   "metadata": {},
   "source": [
    "#### Credit history Age we have months and year. We are splitting the columns and converting it to total number of months"
   ]
  },
  {
   "cell_type": "code",
   "execution_count": 79,
   "id": "7880706e",
   "metadata": {},
   "outputs": [],
   "source": [
    "df_clean['Credit_History_Age'] = df_clean.Credit_History_Age.str.rstrip(' Months')"
   ]
  },
  {
   "cell_type": "code",
   "execution_count": 80,
   "id": "866e8e71",
   "metadata": {},
   "outputs": [],
   "source": [
    "df_CHA = df_clean.Credit_History_Age.str.split(\" Years and \",expand=True).rename(columns={0: 'Credit_history_years', 1: 'Credit_history_months'})"
   ]
  },
  {
   "cell_type": "code",
   "execution_count": 81,
   "id": "2073306a",
   "metadata": {},
   "outputs": [],
   "source": [
    "df_CHA['Credit_history_total_months'] = (df_CHA.Credit_history_months).astype(float) + ((df_CHA.Credit_history_years).astype(float))*12"
   ]
  },
  {
   "cell_type": "code",
   "execution_count": 82,
   "id": "d2d818aa",
   "metadata": {},
   "outputs": [],
   "source": [
    "df_clean['Credit_History_Age'] = df_CHA.Credit_history_total_months\n",
    "df_CHA  = df_CHA.Credit_history_total_months"
   ]
  },
  {
   "cell_type": "markdown",
   "id": "9d595870",
   "metadata": {},
   "source": [
    "#### Now for credit history age in order to replace nan by correct values we have to add 1 to a person's previous month credit history age. To do that we are shifting that column once"
   ]
  },
  {
   "cell_type": "code",
   "execution_count": 83,
   "id": "9b55fc19",
   "metadata": {},
   "outputs": [],
   "source": [
    "df_CHA = df_CHA.shift(1)"
   ]
  },
  {
   "cell_type": "code",
   "execution_count": 84,
   "id": "2ec8fe5d",
   "metadata": {},
   "outputs": [],
   "source": [
    "df_clean['CHA_Up'] = df_CHA"
   ]
  },
  {
   "cell_type": "code",
   "execution_count": 85,
   "id": "c5de7293",
   "metadata": {},
   "outputs": [],
   "source": [
    "df_clean.Credit_History_Age.fillna(0,inplace=True)"
   ]
  },
  {
   "cell_type": "code",
   "execution_count": 86,
   "id": "b7f3a40d",
   "metadata": {},
   "outputs": [],
   "source": [
    "#changing the datatype of the column\n",
    "df_clean.Credit_History_Age = df_clean.Credit_History_Age.astype(float)"
   ]
  },
  {
   "cell_type": "markdown",
   "id": "15bf2903",
   "metadata": {},
   "source": [
    "#### Replacing the correct credit history age using SSN"
   ]
  },
  {
   "cell_type": "code",
   "execution_count": 87,
   "id": "f85da5c8",
   "metadata": {},
   "outputs": [],
   "source": [
    "df_clean['Credit_History_Age'] = df_clean.apply(lambda x: x.Credit_History_Age \\\n",
    "                                                        if x.Credit_History_Age > 0 else x.CHA_Up + 1 , axis = 1)"
   ]
  },
  {
   "cell_type": "markdown",
   "id": "139078d4",
   "metadata": {},
   "source": [
    "#### Still we have few nan because there are nan value continuously. So we are shifting and increasing the credit history age accordingly. i.e., if we shift once we will add 1 to the age to fill the nan, if we shift twice then we will add two to the credit history age and etc. This step will be done untill all the values are cleared"
   ]
  },
  {
   "cell_type": "code",
   "execution_count": 88,
   "id": "e951e5a4",
   "metadata": {},
   "outputs": [],
   "source": [
    "df_clean.CHA_Up = df_clean.CHA_Up.shift(1)"
   ]
  },
  {
   "cell_type": "code",
   "execution_count": 89,
   "id": "9298059e",
   "metadata": {},
   "outputs": [],
   "source": [
    "df_clean['Credit_History_Age'] = df_clean.apply(lambda x: x.Credit_History_Age \\\n",
    "                                                        if x.Credit_History_Age > 0 else x.CHA_Up + 2 , axis = 1)"
   ]
  },
  {
   "cell_type": "code",
   "execution_count": 90,
   "id": "89dca781",
   "metadata": {},
   "outputs": [
    {
     "data": {
      "text/plain": [
       "72"
      ]
     },
     "execution_count": 90,
     "metadata": {},
     "output_type": "execute_result"
    }
   ],
   "source": [
    "df_clean.Credit_History_Age.isna().sum()"
   ]
  },
  {
   "cell_type": "markdown",
   "id": "679d25e0",
   "metadata": {},
   "source": [
    "#### Now our nans are reduced to 72"
   ]
  },
  {
   "cell_type": "code",
   "execution_count": 91,
   "id": "7e368103",
   "metadata": {},
   "outputs": [],
   "source": [
    "df_clean.CHA_Up = df_clean.CHA_Up.shift(1)"
   ]
  },
  {
   "cell_type": "code",
   "execution_count": 92,
   "id": "2162b337",
   "metadata": {},
   "outputs": [],
   "source": [
    "df_clean['Credit_History_Age'] = df_clean.apply(lambda x: x.Credit_History_Age \\\n",
    "                                                        if x.Credit_History_Age > 0 else x.CHA_Up + 3 , axis = 1)"
   ]
  },
  {
   "cell_type": "code",
   "execution_count": 93,
   "id": "6ca05ed4",
   "metadata": {},
   "outputs": [
    {
     "data": {
      "text/plain": [
       "6"
      ]
     },
     "execution_count": 93,
     "metadata": {},
     "output_type": "execute_result"
    }
   ],
   "source": [
    "df_clean.Credit_History_Age.isna().sum()"
   ]
  },
  {
   "cell_type": "code",
   "execution_count": 94,
   "id": "c789a9bf",
   "metadata": {},
   "outputs": [],
   "source": [
    "df_clean.CHA_Up = df_clean.CHA_Up.shift(1)"
   ]
  },
  {
   "cell_type": "code",
   "execution_count": 95,
   "id": "5160be4c",
   "metadata": {},
   "outputs": [],
   "source": [
    "df_clean['Credit_History_Age'] = df_clean.apply(lambda x: x.Credit_History_Age \\\n",
    "                                                        if x.Credit_History_Age > 0 else x.CHA_Up + 4 , axis = 1)"
   ]
  },
  {
   "cell_type": "code",
   "execution_count": 96,
   "id": "b7bcc8ce",
   "metadata": {},
   "outputs": [
    {
     "data": {
      "text/plain": [
       "1"
      ]
     },
     "execution_count": 96,
     "metadata": {},
     "output_type": "execute_result"
    }
   ],
   "source": [
    "df_clean.Credit_History_Age.isna().sum()"
   ]
  },
  {
   "cell_type": "code",
   "execution_count": 97,
   "id": "7867b9a3",
   "metadata": {},
   "outputs": [],
   "source": [
    "df_clean.CHA_Up = df_clean.CHA_Up.shift(1)"
   ]
  },
  {
   "cell_type": "code",
   "execution_count": 98,
   "id": "291b1838",
   "metadata": {},
   "outputs": [],
   "source": [
    "df_clean['Credit_History_Age'] = df_clean.apply(lambda x: x.Credit_History_Age \\\n",
    "                                                        if x.Credit_History_Age > 0 else x.CHA_Up + 5 , axis = 1)"
   ]
  },
  {
   "cell_type": "code",
   "execution_count": 99,
   "id": "1e260137",
   "metadata": {},
   "outputs": [
    {
     "data": {
      "text/plain": [
       "0"
      ]
     },
     "execution_count": 99,
     "metadata": {},
     "output_type": "execute_result"
    }
   ],
   "source": [
    "df_clean.Credit_History_Age.isna().sum()"
   ]
  },
  {
   "cell_type": "markdown",
   "id": "82d46273",
   "metadata": {},
   "source": [
    "#### Now the total Nan's are 0"
   ]
  },
  {
   "cell_type": "code",
   "execution_count": 100,
   "id": "009caa2e",
   "metadata": {},
   "outputs": [],
   "source": [
    "#dropping the columns\n",
    "df_clean = df_clean.drop(columns = ['CHA_Up'],axis = 1)"
   ]
  },
  {
   "cell_type": "code",
   "execution_count": 101,
   "id": "976cb97a",
   "metadata": {},
   "outputs": [],
   "source": [
    "del(df_CHA) #deleting temp table"
   ]
  },
  {
   "cell_type": "markdown",
   "id": "de3610b7",
   "metadata": {},
   "source": [
    "#### We have some high interest rates which can be Data Entry Errors. So we are cleaning those errors."
   ]
  },
  {
   "cell_type": "code",
   "execution_count": 102,
   "id": "fd2a395e",
   "metadata": {},
   "outputs": [
    {
     "data": {
      "text/html": [
       "<div>\n",
       "<style scoped>\n",
       "    .dataframe tbody tr th:only-of-type {\n",
       "        vertical-align: middle;\n",
       "    }\n",
       "\n",
       "    .dataframe tbody tr th {\n",
       "        vertical-align: top;\n",
       "    }\n",
       "\n",
       "    .dataframe thead th {\n",
       "        text-align: right;\n",
       "    }\n",
       "</style>\n",
       "<table border=\"1\" class=\"dataframe\">\n",
       "  <thead>\n",
       "    <tr style=\"text-align: right;\">\n",
       "      <th></th>\n",
       "      <th>Customer_ID</th>\n",
       "      <th>Interest_Rate</th>\n",
       "    </tr>\n",
       "  </thead>\n",
       "  <tbody>\n",
       "    <tr>\n",
       "      <th>71640</th>\n",
       "      <td>CUS_0x3fd9</td>\n",
       "      <td>17</td>\n",
       "    </tr>\n",
       "    <tr>\n",
       "      <th>71641</th>\n",
       "      <td>CUS_0x3fd9</td>\n",
       "      <td>5797</td>\n",
       "    </tr>\n",
       "    <tr>\n",
       "      <th>71642</th>\n",
       "      <td>CUS_0x3fd9</td>\n",
       "      <td>17</td>\n",
       "    </tr>\n",
       "    <tr>\n",
       "      <th>71643</th>\n",
       "      <td>CUS_0x3fd9</td>\n",
       "      <td>17</td>\n",
       "    </tr>\n",
       "    <tr>\n",
       "      <th>71644</th>\n",
       "      <td>CUS_0x3fd9</td>\n",
       "      <td>3037</td>\n",
       "    </tr>\n",
       "  </tbody>\n",
       "</table>\n",
       "</div>"
      ],
      "text/plain": [
       "      Customer_ID  Interest_Rate\n",
       "71640  CUS_0x3fd9             17\n",
       "71641  CUS_0x3fd9           5797\n",
       "71642  CUS_0x3fd9             17\n",
       "71643  CUS_0x3fd9             17\n",
       "71644  CUS_0x3fd9           3037"
      ]
     },
     "execution_count": 102,
     "metadata": {},
     "output_type": "execute_result"
    }
   ],
   "source": [
    "df_clean[df_clean.Customer_ID == 'CUS_0x3fd9'].head()[['Customer_ID','Interest_Rate']]"
   ]
  },
  {
   "cell_type": "code",
   "execution_count": 103,
   "id": "5fb129a3",
   "metadata": {
    "scrolled": true
   },
   "outputs": [
    {
     "data": {
      "text/plain": [
       "1"
      ]
     },
     "execution_count": 103,
     "metadata": {},
     "output_type": "execute_result"
    },
    {
     "data": {
      "text/plain": [
       "5797"
      ]
     },
     "execution_count": 103,
     "metadata": {},
     "output_type": "execute_result"
    }
   ],
   "source": [
    "df_clean.Interest_Rate.min()\n",
    "\n",
    "df_clean.Interest_Rate.max()"
   ]
  },
  {
   "cell_type": "code",
   "execution_count": 104,
   "id": "76584462",
   "metadata": {},
   "outputs": [],
   "source": [
    "df_IR = df_clean[((df_clean.Interest_Rate).astype(int)<51)][['SSN_y','Interest_Rate']]"
   ]
  },
  {
   "cell_type": "code",
   "execution_count": 105,
   "id": "772a17a7",
   "metadata": {},
   "outputs": [],
   "source": [
    "df_IR = df_IR.drop_duplicates()\n",
    "df_IR = df_IR.drop_duplicates(subset = ['SSN_y'])"
   ]
  },
  {
   "cell_type": "code",
   "execution_count": 106,
   "id": "c5a080ac",
   "metadata": {},
   "outputs": [],
   "source": [
    "df_clean = df_clean.merge(df_IR, left_on = 'SSN_y', right_on = 'SSN_y', how = 'left')"
   ]
  },
  {
   "cell_type": "code",
   "execution_count": 107,
   "id": "d4413400",
   "metadata": {},
   "outputs": [
    {
     "data": {
      "text/html": [
       "<div>\n",
       "<style scoped>\n",
       "    .dataframe tbody tr th:only-of-type {\n",
       "        vertical-align: middle;\n",
       "    }\n",
       "\n",
       "    .dataframe tbody tr th {\n",
       "        vertical-align: top;\n",
       "    }\n",
       "\n",
       "    .dataframe thead th {\n",
       "        text-align: right;\n",
       "    }\n",
       "</style>\n",
       "<table border=\"1\" class=\"dataframe\">\n",
       "  <thead>\n",
       "    <tr style=\"text-align: right;\">\n",
       "      <th></th>\n",
       "      <th>Customer_ID</th>\n",
       "      <th>Interest_Rate_x</th>\n",
       "      <th>Interest_Rate_y</th>\n",
       "    </tr>\n",
       "  </thead>\n",
       "  <tbody>\n",
       "    <tr>\n",
       "      <th>71640</th>\n",
       "      <td>CUS_0x3fd9</td>\n",
       "      <td>17</td>\n",
       "      <td>17</td>\n",
       "    </tr>\n",
       "    <tr>\n",
       "      <th>71641</th>\n",
       "      <td>CUS_0x3fd9</td>\n",
       "      <td>5797</td>\n",
       "      <td>17</td>\n",
       "    </tr>\n",
       "    <tr>\n",
       "      <th>71642</th>\n",
       "      <td>CUS_0x3fd9</td>\n",
       "      <td>17</td>\n",
       "      <td>17</td>\n",
       "    </tr>\n",
       "    <tr>\n",
       "      <th>71643</th>\n",
       "      <td>CUS_0x3fd9</td>\n",
       "      <td>17</td>\n",
       "      <td>17</td>\n",
       "    </tr>\n",
       "    <tr>\n",
       "      <th>71644</th>\n",
       "      <td>CUS_0x3fd9</td>\n",
       "      <td>3037</td>\n",
       "      <td>17</td>\n",
       "    </tr>\n",
       "  </tbody>\n",
       "</table>\n",
       "</div>"
      ],
      "text/plain": [
       "      Customer_ID  Interest_Rate_x  Interest_Rate_y\n",
       "71640  CUS_0x3fd9               17               17\n",
       "71641  CUS_0x3fd9             5797               17\n",
       "71642  CUS_0x3fd9               17               17\n",
       "71643  CUS_0x3fd9               17               17\n",
       "71644  CUS_0x3fd9             3037               17"
      ]
     },
     "execution_count": 107,
     "metadata": {},
     "output_type": "execute_result"
    }
   ],
   "source": [
    "df_clean[df_clean.Customer_ID == 'CUS_0x3fd9'].head()[['Customer_ID','Interest_Rate_x','Interest_Rate_y']]"
   ]
  },
  {
   "cell_type": "code",
   "execution_count": 108,
   "id": "b6b74bda",
   "metadata": {},
   "outputs": [],
   "source": [
    "#Renaming and Dropping the columns\n",
    "df_clean = df_clean.drop(columns = ['Interest_Rate_x'],axis = 1)\n",
    "df_clean.rename(columns = {'Interest_Rate_y':'Interest_Rate'}, inplace = True)"
   ]
  },
  {
   "cell_type": "code",
   "execution_count": 109,
   "id": "2daf1abd",
   "metadata": {},
   "outputs": [],
   "source": [
    "#deleting the temporary table\n",
    "del(df_IR)"
   ]
  },
  {
   "cell_type": "markdown",
   "id": "6bb404cc",
   "metadata": {},
   "source": [
    "#### We have some data entry errors in Num of Bank Accounts colums as well. So We are cleaning those errors."
   ]
  },
  {
   "cell_type": "code",
   "execution_count": 110,
   "id": "d2afe5c0",
   "metadata": {},
   "outputs": [
    {
     "data": {
      "text/plain": [
       "1798"
      ]
     },
     "execution_count": 110,
     "metadata": {},
     "output_type": "execute_result"
    }
   ],
   "source": [
    "df_clean.Num_Bank_Accounts.max()"
   ]
  },
  {
   "cell_type": "code",
   "execution_count": 111,
   "id": "8dd3a00b",
   "metadata": {
    "scrolled": false
   },
   "outputs": [
    {
     "data": {
      "text/html": [
       "<div>\n",
       "<style scoped>\n",
       "    .dataframe tbody tr th:only-of-type {\n",
       "        vertical-align: middle;\n",
       "    }\n",
       "\n",
       "    .dataframe tbody tr th {\n",
       "        vertical-align: top;\n",
       "    }\n",
       "\n",
       "    .dataframe thead th {\n",
       "        text-align: right;\n",
       "    }\n",
       "</style>\n",
       "<table border=\"1\" class=\"dataframe\">\n",
       "  <thead>\n",
       "    <tr style=\"text-align: right;\">\n",
       "      <th></th>\n",
       "      <th>Customer_ID</th>\n",
       "      <th>SSN_y</th>\n",
       "      <th>Num_Bank_Accounts</th>\n",
       "    </tr>\n",
       "  </thead>\n",
       "  <tbody>\n",
       "    <tr>\n",
       "      <th>30330</th>\n",
       "      <td>CUS_0x4f2a</td>\n",
       "      <td>807-03-5415</td>\n",
       "      <td>-1</td>\n",
       "    </tr>\n",
       "    <tr>\n",
       "      <th>30331</th>\n",
       "      <td>CUS_0x4f2a</td>\n",
       "      <td>807-03-5415</td>\n",
       "      <td>-1</td>\n",
       "    </tr>\n",
       "    <tr>\n",
       "      <th>30332</th>\n",
       "      <td>CUS_0x4f2a</td>\n",
       "      <td>807-03-5415</td>\n",
       "      <td>-1</td>\n",
       "    </tr>\n",
       "    <tr>\n",
       "      <th>30333</th>\n",
       "      <td>CUS_0x4f2a</td>\n",
       "      <td>807-03-5415</td>\n",
       "      <td>-1</td>\n",
       "    </tr>\n",
       "    <tr>\n",
       "      <th>30334</th>\n",
       "      <td>CUS_0x4f2a</td>\n",
       "      <td>807-03-5415</td>\n",
       "      <td>-1</td>\n",
       "    </tr>\n",
       "  </tbody>\n",
       "</table>\n",
       "</div>"
      ],
      "text/plain": [
       "      Customer_ID        SSN_y  Num_Bank_Accounts\n",
       "30330  CUS_0x4f2a  807-03-5415                 -1\n",
       "30331  CUS_0x4f2a  807-03-5415                 -1\n",
       "30332  CUS_0x4f2a  807-03-5415                 -1\n",
       "30333  CUS_0x4f2a  807-03-5415                 -1\n",
       "30334  CUS_0x4f2a  807-03-5415                 -1"
      ]
     },
     "execution_count": 111,
     "metadata": {},
     "output_type": "execute_result"
    }
   ],
   "source": [
    "df_clean[df_clean.Num_Bank_Accounts == df_clean.Num_Bank_Accounts.min()].head()[['Customer_ID','SSN_y','Num_Bank_Accounts']]"
   ]
  },
  {
   "cell_type": "code",
   "execution_count": 112,
   "id": "f9755e8e",
   "metadata": {},
   "outputs": [],
   "source": [
    "#if the number of bank accounts are less that we are replacing it with 0\n",
    "df_clean['Num_Bank_Accounts'] = df_clean.apply(lambda x: 0 if x.Num_Bank_Accounts < 0 else x.Num_Bank_Accounts , axis = 1)"
   ]
  },
  {
   "cell_type": "code",
   "execution_count": 113,
   "id": "e84db922",
   "metadata": {},
   "outputs": [
    {
     "data": {
      "text/plain": [
       "0"
      ]
     },
     "execution_count": 113,
     "metadata": {},
     "output_type": "execute_result"
    }
   ],
   "source": [
    "df_clean['Num_Bank_Accounts'].min()"
   ]
  },
  {
   "cell_type": "code",
   "execution_count": 114,
   "id": "e9f5bc6a",
   "metadata": {},
   "outputs": [
    {
     "data": {
      "text/html": [
       "<div>\n",
       "<style scoped>\n",
       "    .dataframe tbody tr th:only-of-type {\n",
       "        vertical-align: middle;\n",
       "    }\n",
       "\n",
       "    .dataframe tbody tr th {\n",
       "        vertical-align: top;\n",
       "    }\n",
       "\n",
       "    .dataframe thead th {\n",
       "        text-align: right;\n",
       "    }\n",
       "</style>\n",
       "<table border=\"1\" class=\"dataframe\">\n",
       "  <thead>\n",
       "    <tr style=\"text-align: right;\">\n",
       "      <th></th>\n",
       "      <th>Customer_ID</th>\n",
       "      <th>SSN_y</th>\n",
       "      <th>Num_Bank_Accounts</th>\n",
       "    </tr>\n",
       "  </thead>\n",
       "  <tbody>\n",
       "    <tr>\n",
       "      <th>64536</th>\n",
       "      <td>CUS_0x11c1</td>\n",
       "      <td>688-99-5258</td>\n",
       "      <td>6</td>\n",
       "    </tr>\n",
       "    <tr>\n",
       "      <th>64537</th>\n",
       "      <td>CUS_0x11c1</td>\n",
       "      <td>688-99-5258</td>\n",
       "      <td>1798</td>\n",
       "    </tr>\n",
       "    <tr>\n",
       "      <th>64538</th>\n",
       "      <td>CUS_0x11c1</td>\n",
       "      <td>688-99-5258</td>\n",
       "      <td>6</td>\n",
       "    </tr>\n",
       "    <tr>\n",
       "      <th>64539</th>\n",
       "      <td>CUS_0x11c1</td>\n",
       "      <td>688-99-5258</td>\n",
       "      <td>6</td>\n",
       "    </tr>\n",
       "    <tr>\n",
       "      <th>64540</th>\n",
       "      <td>CUS_0x11c1</td>\n",
       "      <td>688-99-5258</td>\n",
       "      <td>6</td>\n",
       "    </tr>\n",
       "  </tbody>\n",
       "</table>\n",
       "</div>"
      ],
      "text/plain": [
       "      Customer_ID        SSN_y  Num_Bank_Accounts\n",
       "64536  CUS_0x11c1  688-99-5258                  6\n",
       "64537  CUS_0x11c1  688-99-5258               1798\n",
       "64538  CUS_0x11c1  688-99-5258                  6\n",
       "64539  CUS_0x11c1  688-99-5258                  6\n",
       "64540  CUS_0x11c1  688-99-5258                  6"
      ]
     },
     "execution_count": 114,
     "metadata": {},
     "output_type": "execute_result"
    }
   ],
   "source": [
    "df_clean[df_clean.Customer_ID == 'CUS_0x11c1'].head()[['Customer_ID','SSN_y','Num_Bank_Accounts']]"
   ]
  },
  {
   "cell_type": "code",
   "execution_count": 115,
   "id": "d3aa7fbd",
   "metadata": {},
   "outputs": [],
   "source": [
    "df_NBA = df_clean[df_clean.Num_Bank_Accounts < 15][['SSN_y','Num_Bank_Accounts']]"
   ]
  },
  {
   "cell_type": "code",
   "execution_count": 116,
   "id": "24237736",
   "metadata": {},
   "outputs": [],
   "source": [
    "df_NBA = df_NBA.drop_duplicates()\n",
    "df_NBA = df_NBA.drop_duplicates(subset = ['SSN_y'])"
   ]
  },
  {
   "cell_type": "code",
   "execution_count": 117,
   "id": "a76e0f82",
   "metadata": {},
   "outputs": [],
   "source": [
    "df_clean = df_clean.merge(df_NBA, left_on = 'SSN_y', right_on = 'SSN_y', how = 'left')"
   ]
  },
  {
   "cell_type": "code",
   "execution_count": 118,
   "id": "2a9b89f7",
   "metadata": {},
   "outputs": [
    {
     "data": {
      "text/html": [
       "<div>\n",
       "<style scoped>\n",
       "    .dataframe tbody tr th:only-of-type {\n",
       "        vertical-align: middle;\n",
       "    }\n",
       "\n",
       "    .dataframe tbody tr th {\n",
       "        vertical-align: top;\n",
       "    }\n",
       "\n",
       "    .dataframe thead th {\n",
       "        text-align: right;\n",
       "    }\n",
       "</style>\n",
       "<table border=\"1\" class=\"dataframe\">\n",
       "  <thead>\n",
       "    <tr style=\"text-align: right;\">\n",
       "      <th></th>\n",
       "      <th>Customer_ID</th>\n",
       "      <th>SSN_y</th>\n",
       "      <th>Num_Bank_Accounts_x</th>\n",
       "      <th>Num_Bank_Accounts_y</th>\n",
       "    </tr>\n",
       "  </thead>\n",
       "  <tbody>\n",
       "    <tr>\n",
       "      <th>64536</th>\n",
       "      <td>CUS_0x11c1</td>\n",
       "      <td>688-99-5258</td>\n",
       "      <td>6</td>\n",
       "      <td>6</td>\n",
       "    </tr>\n",
       "    <tr>\n",
       "      <th>64537</th>\n",
       "      <td>CUS_0x11c1</td>\n",
       "      <td>688-99-5258</td>\n",
       "      <td>1798</td>\n",
       "      <td>6</td>\n",
       "    </tr>\n",
       "    <tr>\n",
       "      <th>64538</th>\n",
       "      <td>CUS_0x11c1</td>\n",
       "      <td>688-99-5258</td>\n",
       "      <td>6</td>\n",
       "      <td>6</td>\n",
       "    </tr>\n",
       "    <tr>\n",
       "      <th>64539</th>\n",
       "      <td>CUS_0x11c1</td>\n",
       "      <td>688-99-5258</td>\n",
       "      <td>6</td>\n",
       "      <td>6</td>\n",
       "    </tr>\n",
       "    <tr>\n",
       "      <th>64540</th>\n",
       "      <td>CUS_0x11c1</td>\n",
       "      <td>688-99-5258</td>\n",
       "      <td>6</td>\n",
       "      <td>6</td>\n",
       "    </tr>\n",
       "  </tbody>\n",
       "</table>\n",
       "</div>"
      ],
      "text/plain": [
       "      Customer_ID        SSN_y  Num_Bank_Accounts_x  Num_Bank_Accounts_y\n",
       "64536  CUS_0x11c1  688-99-5258                    6                    6\n",
       "64537  CUS_0x11c1  688-99-5258                 1798                    6\n",
       "64538  CUS_0x11c1  688-99-5258                    6                    6\n",
       "64539  CUS_0x11c1  688-99-5258                    6                    6\n",
       "64540  CUS_0x11c1  688-99-5258                    6                    6"
      ]
     },
     "execution_count": 118,
     "metadata": {},
     "output_type": "execute_result"
    }
   ],
   "source": [
    "df_clean[df_clean.Customer_ID == 'CUS_0x11c1'].head()[['Customer_ID','SSN_y','Num_Bank_Accounts_x','Num_Bank_Accounts_y']]"
   ]
  },
  {
   "cell_type": "code",
   "execution_count": 119,
   "id": "a15f0de3",
   "metadata": {},
   "outputs": [],
   "source": [
    "#Renaming and Dropping columns\n",
    "df_clean = df_clean.drop(columns = ['Num_Bank_Accounts_x'],axis = 1)\n",
    "df_clean.rename(columns = {'Num_Bank_Accounts_y':'Num_Bank_Accounts'}, inplace = True)"
   ]
  },
  {
   "cell_type": "code",
   "execution_count": 120,
   "id": "70d21369",
   "metadata": {},
   "outputs": [],
   "source": [
    "#Deleting temporary table\n",
    "del(df_NBA)"
   ]
  },
  {
   "cell_type": "markdown",
   "id": "fbbd6de1",
   "metadata": {},
   "source": [
    "#### We figured out we also have data entry errors in Credit card column so we are cleaning those errors"
   ]
  },
  {
   "cell_type": "code",
   "execution_count": 121,
   "id": "7bdbaca6",
   "metadata": {
    "scrolled": true
   },
   "outputs": [
    {
     "data": {
      "text/plain": [
       "1499"
      ]
     },
     "execution_count": 121,
     "metadata": {},
     "output_type": "execute_result"
    },
    {
     "data": {
      "text/plain": [
       "0"
      ]
     },
     "execution_count": 121,
     "metadata": {},
     "output_type": "execute_result"
    }
   ],
   "source": [
    "df_clean.Num_Credit_Card.max()\n",
    "\n",
    "df_clean.Num_Credit_Card.min()"
   ]
  },
  {
   "cell_type": "code",
   "execution_count": 122,
   "id": "733990e8",
   "metadata": {},
   "outputs": [
    {
     "data": {
      "text/html": [
       "<div>\n",
       "<style scoped>\n",
       "    .dataframe tbody tr th:only-of-type {\n",
       "        vertical-align: middle;\n",
       "    }\n",
       "\n",
       "    .dataframe tbody tr th {\n",
       "        vertical-align: top;\n",
       "    }\n",
       "\n",
       "    .dataframe thead th {\n",
       "        text-align: right;\n",
       "    }\n",
       "</style>\n",
       "<table border=\"1\" class=\"dataframe\">\n",
       "  <thead>\n",
       "    <tr style=\"text-align: right;\">\n",
       "      <th></th>\n",
       "      <th>Customer_ID</th>\n",
       "      <th>SSN_y</th>\n",
       "      <th>Num_Credit_Card</th>\n",
       "    </tr>\n",
       "  </thead>\n",
       "  <tbody>\n",
       "    <tr>\n",
       "      <th>25011</th>\n",
       "      <td>CUS_0x1fdc</td>\n",
       "      <td>896-78-0268</td>\n",
       "      <td>3</td>\n",
       "    </tr>\n",
       "    <tr>\n",
       "      <th>25012</th>\n",
       "      <td>CUS_0x1fdc</td>\n",
       "      <td>896-78-0268</td>\n",
       "      <td>3</td>\n",
       "    </tr>\n",
       "    <tr>\n",
       "      <th>25013</th>\n",
       "      <td>CUS_0x1fdc</td>\n",
       "      <td>896-78-0268</td>\n",
       "      <td>3</td>\n",
       "    </tr>\n",
       "    <tr>\n",
       "      <th>25014</th>\n",
       "      <td>CUS_0x1fdc</td>\n",
       "      <td>896-78-0268</td>\n",
       "      <td>3</td>\n",
       "    </tr>\n",
       "    <tr>\n",
       "      <th>25015</th>\n",
       "      <td>CUS_0x1fdc</td>\n",
       "      <td>896-78-0268</td>\n",
       "      <td>1499</td>\n",
       "    </tr>\n",
       "  </tbody>\n",
       "</table>\n",
       "</div>"
      ],
      "text/plain": [
       "      Customer_ID        SSN_y  Num_Credit_Card\n",
       "25011  CUS_0x1fdc  896-78-0268                3\n",
       "25012  CUS_0x1fdc  896-78-0268                3\n",
       "25013  CUS_0x1fdc  896-78-0268                3\n",
       "25014  CUS_0x1fdc  896-78-0268                3\n",
       "25015  CUS_0x1fdc  896-78-0268             1499"
      ]
     },
     "execution_count": 122,
     "metadata": {},
     "output_type": "execute_result"
    }
   ],
   "source": [
    "df_clean[df_clean.Customer_ID == 'CUS_0x1fdc'].tail()[['Customer_ID','SSN_y','Num_Credit_Card']]"
   ]
  },
  {
   "cell_type": "code",
   "execution_count": 123,
   "id": "aefcaf67",
   "metadata": {},
   "outputs": [],
   "source": [
    "df_NCC = df_clean[df_clean.Num_Credit_Card <= 15][['SSN_y','Num_Credit_Card']]"
   ]
  },
  {
   "cell_type": "code",
   "execution_count": 124,
   "id": "8d2a3df6",
   "metadata": {},
   "outputs": [],
   "source": [
    "df_NCC = df_NCC.drop_duplicates()\n",
    "df_NCC = df_NCC.drop_duplicates(subset = ['SSN_y'])"
   ]
  },
  {
   "cell_type": "code",
   "execution_count": 125,
   "id": "d5519ca5",
   "metadata": {},
   "outputs": [],
   "source": [
    "df_clean = df_clean.merge(df_NCC, left_on = 'SSN_y', right_on = 'SSN_y', how = 'left')"
   ]
  },
  {
   "cell_type": "code",
   "execution_count": 126,
   "id": "6aec08e6",
   "metadata": {},
   "outputs": [
    {
     "data": {
      "text/html": [
       "<div>\n",
       "<style scoped>\n",
       "    .dataframe tbody tr th:only-of-type {\n",
       "        vertical-align: middle;\n",
       "    }\n",
       "\n",
       "    .dataframe tbody tr th {\n",
       "        vertical-align: top;\n",
       "    }\n",
       "\n",
       "    .dataframe thead th {\n",
       "        text-align: right;\n",
       "    }\n",
       "</style>\n",
       "<table border=\"1\" class=\"dataframe\">\n",
       "  <thead>\n",
       "    <tr style=\"text-align: right;\">\n",
       "      <th></th>\n",
       "      <th>Customer_ID</th>\n",
       "      <th>SSN_y</th>\n",
       "      <th>Num_Credit_Card_x</th>\n",
       "      <th>Num_Credit_Card_y</th>\n",
       "    </tr>\n",
       "  </thead>\n",
       "  <tbody>\n",
       "    <tr>\n",
       "      <th>25011</th>\n",
       "      <td>CUS_0x1fdc</td>\n",
       "      <td>896-78-0268</td>\n",
       "      <td>3</td>\n",
       "      <td>3</td>\n",
       "    </tr>\n",
       "    <tr>\n",
       "      <th>25012</th>\n",
       "      <td>CUS_0x1fdc</td>\n",
       "      <td>896-78-0268</td>\n",
       "      <td>3</td>\n",
       "      <td>3</td>\n",
       "    </tr>\n",
       "    <tr>\n",
       "      <th>25013</th>\n",
       "      <td>CUS_0x1fdc</td>\n",
       "      <td>896-78-0268</td>\n",
       "      <td>3</td>\n",
       "      <td>3</td>\n",
       "    </tr>\n",
       "    <tr>\n",
       "      <th>25014</th>\n",
       "      <td>CUS_0x1fdc</td>\n",
       "      <td>896-78-0268</td>\n",
       "      <td>3</td>\n",
       "      <td>3</td>\n",
       "    </tr>\n",
       "    <tr>\n",
       "      <th>25015</th>\n",
       "      <td>CUS_0x1fdc</td>\n",
       "      <td>896-78-0268</td>\n",
       "      <td>1499</td>\n",
       "      <td>3</td>\n",
       "    </tr>\n",
       "  </tbody>\n",
       "</table>\n",
       "</div>"
      ],
      "text/plain": [
       "      Customer_ID        SSN_y  Num_Credit_Card_x  Num_Credit_Card_y\n",
       "25011  CUS_0x1fdc  896-78-0268                  3                  3\n",
       "25012  CUS_0x1fdc  896-78-0268                  3                  3\n",
       "25013  CUS_0x1fdc  896-78-0268                  3                  3\n",
       "25014  CUS_0x1fdc  896-78-0268                  3                  3\n",
       "25015  CUS_0x1fdc  896-78-0268               1499                  3"
      ]
     },
     "execution_count": 126,
     "metadata": {},
     "output_type": "execute_result"
    }
   ],
   "source": [
    "df_clean[df_clean.Customer_ID == 'CUS_0x1fdc'].tail()[['Customer_ID','SSN_y','Num_Credit_Card_x','Num_Credit_Card_y']]"
   ]
  },
  {
   "cell_type": "code",
   "execution_count": 127,
   "id": "24ebde43",
   "metadata": {},
   "outputs": [],
   "source": [
    "#renaming and dropping columns\n",
    "df_clean = df_clean.drop(columns = ['Num_Credit_Card_x'],axis = 1)\n",
    "\n",
    "df_clean.rename(columns = {'Num_Credit_Card_y':'Num_Credit_Card'}, inplace = True)"
   ]
  },
  {
   "cell_type": "code",
   "execution_count": 128,
   "id": "d2f0f912",
   "metadata": {},
   "outputs": [],
   "source": [
    "#deleting the temporary table\n",
    "del(df_NCC)"
   ]
  },
  {
   "cell_type": "markdown",
   "id": "85b5042e",
   "metadata": {},
   "source": [
    "#### We have to found some data entry errors in Num_Credit_Inquiries column so we are cleaning it."
   ]
  },
  {
   "cell_type": "code",
   "execution_count": 129,
   "id": "1aa12796",
   "metadata": {},
   "outputs": [
    {
     "data": {
      "text/plain": [
       "2597.0"
      ]
     },
     "execution_count": 129,
     "metadata": {},
     "output_type": "execute_result"
    }
   ],
   "source": [
    "df_clean.Num_Credit_Inquiries.max()"
   ]
  },
  {
   "cell_type": "code",
   "execution_count": 130,
   "id": "64d3c7f0",
   "metadata": {},
   "outputs": [
    {
     "data": {
      "text/html": [
       "<div>\n",
       "<style scoped>\n",
       "    .dataframe tbody tr th:only-of-type {\n",
       "        vertical-align: middle;\n",
       "    }\n",
       "\n",
       "    .dataframe tbody tr th {\n",
       "        vertical-align: top;\n",
       "    }\n",
       "\n",
       "    .dataframe thead th {\n",
       "        text-align: right;\n",
       "    }\n",
       "</style>\n",
       "<table border=\"1\" class=\"dataframe\">\n",
       "  <thead>\n",
       "    <tr style=\"text-align: right;\">\n",
       "      <th></th>\n",
       "      <th>Customer_ID</th>\n",
       "      <th>SSN_y</th>\n",
       "      <th>Num_Credit_Inquiries</th>\n",
       "    </tr>\n",
       "  </thead>\n",
       "  <tbody>\n",
       "    <tr>\n",
       "      <th>37715</th>\n",
       "      <td>CUS_0x9b8b</td>\n",
       "      <td>963-35-0135</td>\n",
       "      <td>5.000</td>\n",
       "    </tr>\n",
       "    <tr>\n",
       "      <th>37716</th>\n",
       "      <td>CUS_0x9b8b</td>\n",
       "      <td>963-35-0135</td>\n",
       "      <td>5.000</td>\n",
       "    </tr>\n",
       "    <tr>\n",
       "      <th>37717</th>\n",
       "      <td>CUS_0x9b8b</td>\n",
       "      <td>963-35-0135</td>\n",
       "      <td>5.000</td>\n",
       "    </tr>\n",
       "    <tr>\n",
       "      <th>37718</th>\n",
       "      <td>CUS_0x9b8b</td>\n",
       "      <td>963-35-0135</td>\n",
       "      <td>2597.000</td>\n",
       "    </tr>\n",
       "    <tr>\n",
       "      <th>37719</th>\n",
       "      <td>CUS_0x9b8b</td>\n",
       "      <td>963-35-0135</td>\n",
       "      <td>5.000</td>\n",
       "    </tr>\n",
       "  </tbody>\n",
       "</table>\n",
       "</div>"
      ],
      "text/plain": [
       "      Customer_ID        SSN_y  Num_Credit_Inquiries\n",
       "37715  CUS_0x9b8b  963-35-0135                 5.000\n",
       "37716  CUS_0x9b8b  963-35-0135                 5.000\n",
       "37717  CUS_0x9b8b  963-35-0135                 5.000\n",
       "37718  CUS_0x9b8b  963-35-0135              2597.000\n",
       "37719  CUS_0x9b8b  963-35-0135                 5.000"
      ]
     },
     "execution_count": 130,
     "metadata": {},
     "output_type": "execute_result"
    }
   ],
   "source": [
    "df_clean[df_clean.Customer_ID == 'CUS_0x9b8b'].tail()[['Customer_ID','SSN_y','Num_Credit_Inquiries']]"
   ]
  },
  {
   "cell_type": "code",
   "execution_count": 131,
   "id": "488c613f",
   "metadata": {},
   "outputs": [],
   "source": [
    "df_NCI = df_clean[df_clean.Num_Credit_Inquiries < 18][['SSN_y','Num_Credit_Inquiries']]"
   ]
  },
  {
   "cell_type": "code",
   "execution_count": 132,
   "id": "eac00329",
   "metadata": {},
   "outputs": [],
   "source": [
    "df_NCI = df_NCI.drop_duplicates()\n",
    "df_NCI = df_NCI.drop_duplicates(subset = ['SSN_y'])"
   ]
  },
  {
   "cell_type": "code",
   "execution_count": 133,
   "id": "6570def9",
   "metadata": {},
   "outputs": [],
   "source": [
    "df_clean = df_clean.merge(df_NCI, left_on = 'SSN_y', right_on = 'SSN_y', how = 'left')"
   ]
  },
  {
   "cell_type": "code",
   "execution_count": 134,
   "id": "63732425",
   "metadata": {},
   "outputs": [
    {
     "data": {
      "text/html": [
       "<div>\n",
       "<style scoped>\n",
       "    .dataframe tbody tr th:only-of-type {\n",
       "        vertical-align: middle;\n",
       "    }\n",
       "\n",
       "    .dataframe tbody tr th {\n",
       "        vertical-align: top;\n",
       "    }\n",
       "\n",
       "    .dataframe thead th {\n",
       "        text-align: right;\n",
       "    }\n",
       "</style>\n",
       "<table border=\"1\" class=\"dataframe\">\n",
       "  <thead>\n",
       "    <tr style=\"text-align: right;\">\n",
       "      <th></th>\n",
       "      <th>Customer_ID</th>\n",
       "      <th>SSN_y</th>\n",
       "      <th>Num_Credit_Inquiries_x</th>\n",
       "      <th>Num_Credit_Inquiries_y</th>\n",
       "    </tr>\n",
       "  </thead>\n",
       "  <tbody>\n",
       "    <tr>\n",
       "      <th>37715</th>\n",
       "      <td>CUS_0x9b8b</td>\n",
       "      <td>963-35-0135</td>\n",
       "      <td>5.000</td>\n",
       "      <td>5.000</td>\n",
       "    </tr>\n",
       "    <tr>\n",
       "      <th>37716</th>\n",
       "      <td>CUS_0x9b8b</td>\n",
       "      <td>963-35-0135</td>\n",
       "      <td>5.000</td>\n",
       "      <td>5.000</td>\n",
       "    </tr>\n",
       "    <tr>\n",
       "      <th>37717</th>\n",
       "      <td>CUS_0x9b8b</td>\n",
       "      <td>963-35-0135</td>\n",
       "      <td>5.000</td>\n",
       "      <td>5.000</td>\n",
       "    </tr>\n",
       "    <tr>\n",
       "      <th>37718</th>\n",
       "      <td>CUS_0x9b8b</td>\n",
       "      <td>963-35-0135</td>\n",
       "      <td>2597.000</td>\n",
       "      <td>5.000</td>\n",
       "    </tr>\n",
       "    <tr>\n",
       "      <th>37719</th>\n",
       "      <td>CUS_0x9b8b</td>\n",
       "      <td>963-35-0135</td>\n",
       "      <td>5.000</td>\n",
       "      <td>5.000</td>\n",
       "    </tr>\n",
       "  </tbody>\n",
       "</table>\n",
       "</div>"
      ],
      "text/plain": [
       "      Customer_ID        SSN_y  Num_Credit_Inquiries_x  Num_Credit_Inquiries_y\n",
       "37715  CUS_0x9b8b  963-35-0135                   5.000                   5.000\n",
       "37716  CUS_0x9b8b  963-35-0135                   5.000                   5.000\n",
       "37717  CUS_0x9b8b  963-35-0135                   5.000                   5.000\n",
       "37718  CUS_0x9b8b  963-35-0135                2597.000                   5.000\n",
       "37719  CUS_0x9b8b  963-35-0135                   5.000                   5.000"
      ]
     },
     "execution_count": 134,
     "metadata": {},
     "output_type": "execute_result"
    }
   ],
   "source": [
    "df_clean[df_clean.Customer_ID == 'CUS_0x9b8b'].tail()[['Customer_ID','SSN_y','Num_Credit_Inquiries_x','Num_Credit_Inquiries_y']]"
   ]
  },
  {
   "cell_type": "code",
   "execution_count": 135,
   "id": "5012e3f8",
   "metadata": {},
   "outputs": [],
   "source": [
    "df_clean['Num_Credit_Inquiries_y'] = df_clean.apply(lambda x: x.Num_Credit_Inquiries_y \\\n",
    "                                                    if x.Num_Credit_Inquiries_y < 18 else x.Num_Credit_Inquiries_x , axis = 1)"
   ]
  },
  {
   "cell_type": "code",
   "execution_count": 136,
   "id": "7c10d50c",
   "metadata": {},
   "outputs": [],
   "source": [
    "#renaming and dropping columns\n",
    "df_clean = df_clean.drop(columns = ['Num_Credit_Inquiries_x'],axis = 1)\n",
    "df_clean.rename(columns = {'Num_Credit_Inquiries_y':'Num_Credit_Inquiries'}, inplace = True)"
   ]
  },
  {
   "cell_type": "code",
   "execution_count": 137,
   "id": "d96662f3",
   "metadata": {},
   "outputs": [],
   "source": [
    "#deleting temporary table\n",
    "del(df_NCI)"
   ]
  },
  {
   "cell_type": "markdown",
   "id": "129d85dc",
   "metadata": {},
   "source": [
    "#### Cleaning Monthly Balance"
   ]
  },
  {
   "cell_type": "code",
   "execution_count": 138,
   "id": "ec16c6c4",
   "metadata": {},
   "outputs": [
    {
     "data": {
      "text/html": [
       "<div>\n",
       "<style scoped>\n",
       "    .dataframe tbody tr th:only-of-type {\n",
       "        vertical-align: middle;\n",
       "    }\n",
       "\n",
       "    .dataframe tbody tr th {\n",
       "        vertical-align: top;\n",
       "    }\n",
       "\n",
       "    .dataframe thead th {\n",
       "        text-align: right;\n",
       "    }\n",
       "</style>\n",
       "<table border=\"1\" class=\"dataframe\">\n",
       "  <thead>\n",
       "    <tr style=\"text-align: right;\">\n",
       "      <th></th>\n",
       "      <th>Customer_ID</th>\n",
       "      <th>Monthly_Balance</th>\n",
       "    </tr>\n",
       "  </thead>\n",
       "  <tbody>\n",
       "    <tr>\n",
       "      <th>5544</th>\n",
       "      <td>CUS_0x9885</td>\n",
       "      <td>423.397</td>\n",
       "    </tr>\n",
       "    <tr>\n",
       "      <th>5545</th>\n",
       "      <td>CUS_0x9885</td>\n",
       "      <td>-47619047619047613953736704.000</td>\n",
       "    </tr>\n",
       "    <tr>\n",
       "      <th>5546</th>\n",
       "      <td>CUS_0x9885</td>\n",
       "      <td>278.412</td>\n",
       "    </tr>\n",
       "    <tr>\n",
       "      <th>5547</th>\n",
       "      <td>CUS_0x9885</td>\n",
       "      <td>420.557</td>\n",
       "    </tr>\n",
       "    <tr>\n",
       "      <th>5548</th>\n",
       "      <td>CUS_0x9885</td>\n",
       "      <td>71.288</td>\n",
       "    </tr>\n",
       "  </tbody>\n",
       "</table>\n",
       "</div>"
      ],
      "text/plain": [
       "     Customer_ID                 Monthly_Balance\n",
       "5544  CUS_0x9885                         423.397\n",
       "5545  CUS_0x9885 -47619047619047613953736704.000\n",
       "5546  CUS_0x9885                         278.412\n",
       "5547  CUS_0x9885                         420.557\n",
       "5548  CUS_0x9885                          71.288"
      ]
     },
     "execution_count": 138,
     "metadata": {},
     "output_type": "execute_result"
    }
   ],
   "source": [
    "df_clean[df_clean.Customer_ID == 'CUS_0x9885'].head()[['Customer_ID','Monthly_Balance']]"
   ]
  },
  {
   "cell_type": "code",
   "execution_count": 139,
   "id": "7521d0c9",
   "metadata": {},
   "outputs": [],
   "source": [
    "# We have different Monthly balance for every month, so we replaced 0 if the monthly balance is less than 0"
   ]
  },
  {
   "cell_type": "code",
   "execution_count": 140,
   "id": "fac6c87d",
   "metadata": {},
   "outputs": [
    {
     "data": {
      "text/html": [
       "<div>\n",
       "<style scoped>\n",
       "    .dataframe tbody tr th:only-of-type {\n",
       "        vertical-align: middle;\n",
       "    }\n",
       "\n",
       "    .dataframe tbody tr th {\n",
       "        vertical-align: top;\n",
       "    }\n",
       "\n",
       "    .dataframe thead th {\n",
       "        text-align: right;\n",
       "    }\n",
       "</style>\n",
       "<table border=\"1\" class=\"dataframe\">\n",
       "  <thead>\n",
       "    <tr style=\"text-align: right;\">\n",
       "      <th></th>\n",
       "      <th>Customer_ID</th>\n",
       "      <th>SSN_y</th>\n",
       "      <th>Monthly_Balance</th>\n",
       "    </tr>\n",
       "  </thead>\n",
       "  <tbody>\n",
       "    <tr>\n",
       "      <th>5544</th>\n",
       "      <td>CUS_0x9885</td>\n",
       "      <td>186-49-9679</td>\n",
       "      <td>423.397</td>\n",
       "    </tr>\n",
       "    <tr>\n",
       "      <th>5545</th>\n",
       "      <td>CUS_0x9885</td>\n",
       "      <td>186-49-9679</td>\n",
       "      <td>-47619047619047613953736704.000</td>\n",
       "    </tr>\n",
       "    <tr>\n",
       "      <th>5546</th>\n",
       "      <td>CUS_0x9885</td>\n",
       "      <td>186-49-9679</td>\n",
       "      <td>278.412</td>\n",
       "    </tr>\n",
       "    <tr>\n",
       "      <th>5547</th>\n",
       "      <td>CUS_0x9885</td>\n",
       "      <td>186-49-9679</td>\n",
       "      <td>420.557</td>\n",
       "    </tr>\n",
       "    <tr>\n",
       "      <th>5548</th>\n",
       "      <td>CUS_0x9885</td>\n",
       "      <td>186-49-9679</td>\n",
       "      <td>71.288</td>\n",
       "    </tr>\n",
       "  </tbody>\n",
       "</table>\n",
       "</div>"
      ],
      "text/plain": [
       "     Customer_ID        SSN_y                 Monthly_Balance\n",
       "5544  CUS_0x9885  186-49-9679                         423.397\n",
       "5545  CUS_0x9885  186-49-9679 -47619047619047613953736704.000\n",
       "5546  CUS_0x9885  186-49-9679                         278.412\n",
       "5547  CUS_0x9885  186-49-9679                         420.557\n",
       "5548  CUS_0x9885  186-49-9679                          71.288"
      ]
     },
     "execution_count": 140,
     "metadata": {},
     "output_type": "execute_result"
    }
   ],
   "source": [
    "df_clean[df_clean.Customer_ID == 'CUS_0x9885'].head()[['Customer_ID','SSN_y','Monthly_Balance']]"
   ]
  },
  {
   "cell_type": "code",
   "execution_count": 141,
   "id": "a7294759",
   "metadata": {},
   "outputs": [],
   "source": [
    "df_clean['Monthly_Balance'] = df_clean.apply(lambda x: 0 if x.Monthly_Balance < 0 else x.Monthly_Balance , axis = 1)"
   ]
  },
  {
   "cell_type": "code",
   "execution_count": 142,
   "id": "0e61e531",
   "metadata": {},
   "outputs": [
    {
     "data": {
      "text/html": [
       "<div>\n",
       "<style scoped>\n",
       "    .dataframe tbody tr th:only-of-type {\n",
       "        vertical-align: middle;\n",
       "    }\n",
       "\n",
       "    .dataframe tbody tr th {\n",
       "        vertical-align: top;\n",
       "    }\n",
       "\n",
       "    .dataframe thead th {\n",
       "        text-align: right;\n",
       "    }\n",
       "</style>\n",
       "<table border=\"1\" class=\"dataframe\">\n",
       "  <thead>\n",
       "    <tr style=\"text-align: right;\">\n",
       "      <th></th>\n",
       "      <th>Customer_ID</th>\n",
       "      <th>SSN_y</th>\n",
       "      <th>Monthly_Balance</th>\n",
       "    </tr>\n",
       "  </thead>\n",
       "  <tbody>\n",
       "    <tr>\n",
       "      <th>5544</th>\n",
       "      <td>CUS_0x9885</td>\n",
       "      <td>186-49-9679</td>\n",
       "      <td>423.397</td>\n",
       "    </tr>\n",
       "    <tr>\n",
       "      <th>5545</th>\n",
       "      <td>CUS_0x9885</td>\n",
       "      <td>186-49-9679</td>\n",
       "      <td>0.000</td>\n",
       "    </tr>\n",
       "    <tr>\n",
       "      <th>5546</th>\n",
       "      <td>CUS_0x9885</td>\n",
       "      <td>186-49-9679</td>\n",
       "      <td>278.412</td>\n",
       "    </tr>\n",
       "    <tr>\n",
       "      <th>5547</th>\n",
       "      <td>CUS_0x9885</td>\n",
       "      <td>186-49-9679</td>\n",
       "      <td>420.557</td>\n",
       "    </tr>\n",
       "    <tr>\n",
       "      <th>5548</th>\n",
       "      <td>CUS_0x9885</td>\n",
       "      <td>186-49-9679</td>\n",
       "      <td>71.288</td>\n",
       "    </tr>\n",
       "  </tbody>\n",
       "</table>\n",
       "</div>"
      ],
      "text/plain": [
       "     Customer_ID        SSN_y  Monthly_Balance\n",
       "5544  CUS_0x9885  186-49-9679          423.397\n",
       "5545  CUS_0x9885  186-49-9679            0.000\n",
       "5546  CUS_0x9885  186-49-9679          278.412\n",
       "5547  CUS_0x9885  186-49-9679          420.557\n",
       "5548  CUS_0x9885  186-49-9679           71.288"
      ]
     },
     "execution_count": 142,
     "metadata": {},
     "output_type": "execute_result"
    }
   ],
   "source": [
    "df_clean[df_clean.Customer_ID == 'CUS_0x9885'].head()[['Customer_ID','SSN_y','Monthly_Balance']]"
   ]
  },
  {
   "cell_type": "markdown",
   "id": "6cbb0062",
   "metadata": {},
   "source": [
    "#### We have some data entry error is total EMI column as well. So we are cleaning those errors"
   ]
  },
  {
   "cell_type": "code",
   "execution_count": 143,
   "id": "bf20a32b",
   "metadata": {},
   "outputs": [
    {
     "data": {
      "text/plain": [
       "82331.0"
      ]
     },
     "execution_count": 143,
     "metadata": {},
     "output_type": "execute_result"
    }
   ],
   "source": [
    "df_clean['Total_EMI_per_month'].max()"
   ]
  },
  {
   "cell_type": "code",
   "execution_count": 144,
   "id": "c0d61faf",
   "metadata": {},
   "outputs": [
    {
     "data": {
      "text/html": [
       "<div>\n",
       "<style scoped>\n",
       "    .dataframe tbody tr th:only-of-type {\n",
       "        vertical-align: middle;\n",
       "    }\n",
       "\n",
       "    .dataframe tbody tr th {\n",
       "        vertical-align: top;\n",
       "    }\n",
       "\n",
       "    .dataframe thead th {\n",
       "        text-align: right;\n",
       "    }\n",
       "</style>\n",
       "<table border=\"1\" class=\"dataframe\">\n",
       "  <thead>\n",
       "    <tr style=\"text-align: right;\">\n",
       "      <th></th>\n",
       "      <th>Customer_ID</th>\n",
       "      <th>SSN_y</th>\n",
       "      <th>Total_EMI_per_month</th>\n",
       "    </tr>\n",
       "  </thead>\n",
       "  <tbody>\n",
       "    <tr>\n",
       "      <th>87008</th>\n",
       "      <td>CUS_0x2a3a</td>\n",
       "      <td>497-15-6884</td>\n",
       "      <td>76.807</td>\n",
       "    </tr>\n",
       "    <tr>\n",
       "      <th>87009</th>\n",
       "      <td>CUS_0x2a3a</td>\n",
       "      <td>497-15-6884</td>\n",
       "      <td>76.807</td>\n",
       "    </tr>\n",
       "    <tr>\n",
       "      <th>87010</th>\n",
       "      <td>CUS_0x2a3a</td>\n",
       "      <td>497-15-6884</td>\n",
       "      <td>76.807</td>\n",
       "    </tr>\n",
       "    <tr>\n",
       "      <th>87011</th>\n",
       "      <td>CUS_0x2a3a</td>\n",
       "      <td>497-15-6884</td>\n",
       "      <td>68.954</td>\n",
       "    </tr>\n",
       "    <tr>\n",
       "      <th>87012</th>\n",
       "      <td>CUS_0x2a3a</td>\n",
       "      <td>497-15-6884</td>\n",
       "      <td>68.954</td>\n",
       "    </tr>\n",
       "    <tr>\n",
       "      <th>87013</th>\n",
       "      <td>CUS_0x2a3a</td>\n",
       "      <td>497-15-6884</td>\n",
       "      <td>82331.000</td>\n",
       "    </tr>\n",
       "    <tr>\n",
       "      <th>87014</th>\n",
       "      <td>CUS_0x2a3a</td>\n",
       "      <td>497-15-6884</td>\n",
       "      <td>68.954</td>\n",
       "    </tr>\n",
       "    <tr>\n",
       "      <th>87015</th>\n",
       "      <td>CUS_0x2a3a</td>\n",
       "      <td>497-15-6884</td>\n",
       "      <td>68.954</td>\n",
       "    </tr>\n",
       "  </tbody>\n",
       "</table>\n",
       "</div>"
      ],
      "text/plain": [
       "      Customer_ID        SSN_y  Total_EMI_per_month\n",
       "87008  CUS_0x2a3a  497-15-6884               76.807\n",
       "87009  CUS_0x2a3a  497-15-6884               76.807\n",
       "87010  CUS_0x2a3a  497-15-6884               76.807\n",
       "87011  CUS_0x2a3a  497-15-6884               68.954\n",
       "87012  CUS_0x2a3a  497-15-6884               68.954\n",
       "87013  CUS_0x2a3a  497-15-6884            82331.000\n",
       "87014  CUS_0x2a3a  497-15-6884               68.954\n",
       "87015  CUS_0x2a3a  497-15-6884               68.954"
      ]
     },
     "execution_count": 144,
     "metadata": {},
     "output_type": "execute_result"
    }
   ],
   "source": [
    "df_clean[df_clean.Customer_ID == 'CUS_0x2a3a'][['Customer_ID','SSN_y','Total_EMI_per_month']]"
   ]
  },
  {
   "cell_type": "code",
   "execution_count": 145,
   "id": "0f5f8a11",
   "metadata": {},
   "outputs": [],
   "source": [
    "df_EMI = df_clean[df_clean.Total_EMI_per_month < 1800][['SSN_y','Total_EMI_per_month']]"
   ]
  },
  {
   "cell_type": "code",
   "execution_count": 146,
   "id": "bf074168",
   "metadata": {},
   "outputs": [],
   "source": [
    "df_EMI = df_EMI.drop_duplicates()\n",
    "df_EMI = df_EMI.drop_duplicates(subset = ['SSN_y'])"
   ]
  },
  {
   "cell_type": "code",
   "execution_count": 147,
   "id": "9abba0b0",
   "metadata": {},
   "outputs": [],
   "source": [
    "df_clean = df_clean.merge(df_EMI, left_on = 'SSN_y', right_on = 'SSN_y', how = 'left')"
   ]
  },
  {
   "cell_type": "code",
   "execution_count": 148,
   "id": "eae6c91b",
   "metadata": {},
   "outputs": [
    {
     "data": {
      "text/html": [
       "<div>\n",
       "<style scoped>\n",
       "    .dataframe tbody tr th:only-of-type {\n",
       "        vertical-align: middle;\n",
       "    }\n",
       "\n",
       "    .dataframe tbody tr th {\n",
       "        vertical-align: top;\n",
       "    }\n",
       "\n",
       "    .dataframe thead th {\n",
       "        text-align: right;\n",
       "    }\n",
       "</style>\n",
       "<table border=\"1\" class=\"dataframe\">\n",
       "  <thead>\n",
       "    <tr style=\"text-align: right;\">\n",
       "      <th></th>\n",
       "      <th>ID</th>\n",
       "      <th>Customer_ID</th>\n",
       "      <th>Month</th>\n",
       "      <th>Age</th>\n",
       "      <th>Annual_Income</th>\n",
       "      <th>Monthly_Inhand_Salary</th>\n",
       "      <th>Num_of_Loan</th>\n",
       "      <th>Type_of_Loan</th>\n",
       "      <th>Delay_from_due_date</th>\n",
       "      <th>Num_of_Delayed_Payment</th>\n",
       "      <th>Outstanding_Debt</th>\n",
       "      <th>Credit_Utilization_Ratio</th>\n",
       "      <th>Credit_History_Age</th>\n",
       "      <th>Payment_of_Min_Amount</th>\n",
       "      <th>Total_EMI_per_month_x</th>\n",
       "      <th>Amount_invested_monthly</th>\n",
       "      <th>Monthly_Balance</th>\n",
       "      <th>Credit_Score</th>\n",
       "      <th>SSN_y</th>\n",
       "      <th>Payment_Behaviour</th>\n",
       "      <th>Occupation</th>\n",
       "      <th>Credit_Mix</th>\n",
       "      <th>Changed_Credit_Limit</th>\n",
       "      <th>Interest_Rate</th>\n",
       "      <th>Num_Bank_Accounts</th>\n",
       "      <th>Num_Credit_Card</th>\n",
       "      <th>Num_Credit_Inquiries</th>\n",
       "      <th>Total_EMI_per_month_y</th>\n",
       "    </tr>\n",
       "  </thead>\n",
       "  <tbody>\n",
       "    <tr>\n",
       "      <th>0</th>\n",
       "      <td>0x1602</td>\n",
       "      <td>CUS_0xd40</td>\n",
       "      <td>January</td>\n",
       "      <td>23</td>\n",
       "      <td>19114.12</td>\n",
       "      <td>1824.843</td>\n",
       "      <td>4</td>\n",
       "      <td>Auto Loan, Credit-Builder Loan, Personal Loan,...</td>\n",
       "      <td>3</td>\n",
       "      <td>7</td>\n",
       "      <td>809.98</td>\n",
       "      <td>26.823</td>\n",
       "      <td>265.000</td>\n",
       "      <td>No</td>\n",
       "      <td>49.575</td>\n",
       "      <td>80.415</td>\n",
       "      <td>312.494</td>\n",
       "      <td>Good</td>\n",
       "      <td>821-00-0265</td>\n",
       "      <td>High_spent_Small_value_payments</td>\n",
       "      <td>Scientist</td>\n",
       "      <td>Good</td>\n",
       "      <td>11.27</td>\n",
       "      <td>3</td>\n",
       "      <td>3</td>\n",
       "      <td>4</td>\n",
       "      <td>4.000</td>\n",
       "      <td>49.575</td>\n",
       "    </tr>\n",
       "    <tr>\n",
       "      <th>1</th>\n",
       "      <td>0x1603</td>\n",
       "      <td>CUS_0xd40</td>\n",
       "      <td>February</td>\n",
       "      <td>23</td>\n",
       "      <td>19114.12</td>\n",
       "      <td>1824.843</td>\n",
       "      <td>4</td>\n",
       "      <td>Auto Loan, Credit-Builder Loan, Personal Loan,...</td>\n",
       "      <td>-1</td>\n",
       "      <td>0</td>\n",
       "      <td>809.98</td>\n",
       "      <td>31.945</td>\n",
       "      <td>266.000</td>\n",
       "      <td>No</td>\n",
       "      <td>49.575</td>\n",
       "      <td>118.280</td>\n",
       "      <td>284.629</td>\n",
       "      <td>Good</td>\n",
       "      <td>821-00-0265</td>\n",
       "      <td>High_spent_Small_value_payments</td>\n",
       "      <td>Scientist</td>\n",
       "      <td>Good</td>\n",
       "      <td>11.27</td>\n",
       "      <td>3</td>\n",
       "      <td>3</td>\n",
       "      <td>4</td>\n",
       "      <td>4.000</td>\n",
       "      <td>49.575</td>\n",
       "    </tr>\n",
       "  </tbody>\n",
       "</table>\n",
       "</div>"
      ],
      "text/plain": [
       "       ID Customer_ID     Month  Age Annual_Income  Monthly_Inhand_Salary  \\\n",
       "0  0x1602   CUS_0xd40   January   23      19114.12               1824.843   \n",
       "1  0x1603   CUS_0xd40  February   23      19114.12               1824.843   \n",
       "\n",
       "  Num_of_Loan                                       Type_of_Loan  \\\n",
       "0           4  Auto Loan, Credit-Builder Loan, Personal Loan,...   \n",
       "1           4  Auto Loan, Credit-Builder Loan, Personal Loan,...   \n",
       "\n",
       "   Delay_from_due_date Num_of_Delayed_Payment Outstanding_Debt  \\\n",
       "0                    3                      7           809.98   \n",
       "1                   -1                      0           809.98   \n",
       "\n",
       "   Credit_Utilization_Ratio  Credit_History_Age Payment_of_Min_Amount  \\\n",
       "0                    26.823             265.000                    No   \n",
       "1                    31.945             266.000                    No   \n",
       "\n",
       "   Total_EMI_per_month_x  Amount_invested_monthly  Monthly_Balance  \\\n",
       "0                 49.575                   80.415          312.494   \n",
       "1                 49.575                  118.280          284.629   \n",
       "\n",
       "  Credit_Score        SSN_y                Payment_Behaviour Occupation  \\\n",
       "0         Good  821-00-0265  High_spent_Small_value_payments  Scientist   \n",
       "1         Good  821-00-0265  High_spent_Small_value_payments  Scientist   \n",
       "\n",
       "  Credit_Mix Changed_Credit_Limit  Interest_Rate  Num_Bank_Accounts  \\\n",
       "0       Good                11.27              3                  3   \n",
       "1       Good                11.27              3                  3   \n",
       "\n",
       "   Num_Credit_Card  Num_Credit_Inquiries  Total_EMI_per_month_y  \n",
       "0                4                 4.000                 49.575  \n",
       "1                4                 4.000                 49.575  "
      ]
     },
     "execution_count": 148,
     "metadata": {},
     "output_type": "execute_result"
    }
   ],
   "source": [
    "df_clean.head(2)"
   ]
  },
  {
   "cell_type": "code",
   "execution_count": 149,
   "id": "948874b8",
   "metadata": {},
   "outputs": [],
   "source": [
    "df_clean['Total_EMI_per_month_y'] = df_clean.apply(lambda x: x.Total_EMI_per_month_x if x.Total_EMI_per_month_x < 1800 else \\\n",
    "                                                   x.Total_EMI_per_month_y , axis = 1)"
   ]
  },
  {
   "cell_type": "code",
   "execution_count": 150,
   "id": "bfd57f22",
   "metadata": {},
   "outputs": [
    {
     "data": {
      "text/html": [
       "<div>\n",
       "<style scoped>\n",
       "    .dataframe tbody tr th:only-of-type {\n",
       "        vertical-align: middle;\n",
       "    }\n",
       "\n",
       "    .dataframe tbody tr th {\n",
       "        vertical-align: top;\n",
       "    }\n",
       "\n",
       "    .dataframe thead th {\n",
       "        text-align: right;\n",
       "    }\n",
       "</style>\n",
       "<table border=\"1\" class=\"dataframe\">\n",
       "  <thead>\n",
       "    <tr style=\"text-align: right;\">\n",
       "      <th></th>\n",
       "      <th>Customer_ID</th>\n",
       "      <th>SSN_y</th>\n",
       "      <th>Total_EMI_per_month_x</th>\n",
       "      <th>Total_EMI_per_month_y</th>\n",
       "    </tr>\n",
       "  </thead>\n",
       "  <tbody>\n",
       "    <tr>\n",
       "      <th>87011</th>\n",
       "      <td>CUS_0x2a3a</td>\n",
       "      <td>497-15-6884</td>\n",
       "      <td>68.954</td>\n",
       "      <td>68.954</td>\n",
       "    </tr>\n",
       "    <tr>\n",
       "      <th>87012</th>\n",
       "      <td>CUS_0x2a3a</td>\n",
       "      <td>497-15-6884</td>\n",
       "      <td>68.954</td>\n",
       "      <td>68.954</td>\n",
       "    </tr>\n",
       "    <tr>\n",
       "      <th>87013</th>\n",
       "      <td>CUS_0x2a3a</td>\n",
       "      <td>497-15-6884</td>\n",
       "      <td>82331.000</td>\n",
       "      <td>76.807</td>\n",
       "    </tr>\n",
       "    <tr>\n",
       "      <th>87014</th>\n",
       "      <td>CUS_0x2a3a</td>\n",
       "      <td>497-15-6884</td>\n",
       "      <td>68.954</td>\n",
       "      <td>68.954</td>\n",
       "    </tr>\n",
       "    <tr>\n",
       "      <th>87015</th>\n",
       "      <td>CUS_0x2a3a</td>\n",
       "      <td>497-15-6884</td>\n",
       "      <td>68.954</td>\n",
       "      <td>68.954</td>\n",
       "    </tr>\n",
       "  </tbody>\n",
       "</table>\n",
       "</div>"
      ],
      "text/plain": [
       "      Customer_ID        SSN_y  Total_EMI_per_month_x  Total_EMI_per_month_y\n",
       "87011  CUS_0x2a3a  497-15-6884                 68.954                 68.954\n",
       "87012  CUS_0x2a3a  497-15-6884                 68.954                 68.954\n",
       "87013  CUS_0x2a3a  497-15-6884              82331.000                 76.807\n",
       "87014  CUS_0x2a3a  497-15-6884                 68.954                 68.954\n",
       "87015  CUS_0x2a3a  497-15-6884                 68.954                 68.954"
      ]
     },
     "execution_count": 150,
     "metadata": {},
     "output_type": "execute_result"
    }
   ],
   "source": [
    "df_clean[df_clean.Customer_ID == 'CUS_0x2a3a'].tail()[['Customer_ID','SSN_y','Total_EMI_per_month_x','Total_EMI_per_month_y']]"
   ]
  },
  {
   "cell_type": "code",
   "execution_count": 151,
   "id": "1596f503",
   "metadata": {},
   "outputs": [],
   "source": [
    "#Renaming and Dropping columns\n",
    "df_clean = df_clean.drop(columns = ['Total_EMI_per_month_y'],axis = 1)\n",
    "\n",
    "df_clean.rename(columns = {'Total_EMI_per_month_x':'Total_EMI_per_month'}, inplace = True)"
   ]
  },
  {
   "cell_type": "code",
   "execution_count": 152,
   "id": "7a528133",
   "metadata": {},
   "outputs": [],
   "source": [
    "#deleting Temporary table\n",
    "del(df_EMI)"
   ]
  },
  {
   "cell_type": "markdown",
   "id": "5d5e64c1",
   "metadata": {},
   "source": [
    "#### We have some Data Entry errors in Number of delayed payment so we are cleaning it"
   ]
  },
  {
   "cell_type": "code",
   "execution_count": 153,
   "id": "1a419ab2",
   "metadata": {},
   "outputs": [],
   "source": [
    "df_clean.Num_of_Delayed_Payment = df_clean.Num_of_Delayed_Payment.astype(float)"
   ]
  },
  {
   "cell_type": "code",
   "execution_count": 154,
   "id": "f3e2843f",
   "metadata": {},
   "outputs": [
    {
     "data": {
      "text/plain": [
       "4397.0"
      ]
     },
     "execution_count": 154,
     "metadata": {},
     "output_type": "execute_result"
    }
   ],
   "source": [
    "df_clean.Num_of_Delayed_Payment.max()"
   ]
  },
  {
   "cell_type": "code",
   "execution_count": 155,
   "id": "fc31b4f6",
   "metadata": {},
   "outputs": [
    {
     "data": {
      "text/html": [
       "<div>\n",
       "<style scoped>\n",
       "    .dataframe tbody tr th:only-of-type {\n",
       "        vertical-align: middle;\n",
       "    }\n",
       "\n",
       "    .dataframe tbody tr th {\n",
       "        vertical-align: top;\n",
       "    }\n",
       "\n",
       "    .dataframe thead th {\n",
       "        text-align: right;\n",
       "    }\n",
       "</style>\n",
       "<table border=\"1\" class=\"dataframe\">\n",
       "  <thead>\n",
       "    <tr style=\"text-align: right;\">\n",
       "      <th></th>\n",
       "      <th>Customer_ID</th>\n",
       "      <th>SSN_y</th>\n",
       "      <th>Num_of_Delayed_Payment</th>\n",
       "    </tr>\n",
       "  </thead>\n",
       "  <tbody>\n",
       "    <tr>\n",
       "      <th>51563</th>\n",
       "      <td>CUS_0x8f59</td>\n",
       "      <td>705-77-2792</td>\n",
       "      <td>12.000</td>\n",
       "    </tr>\n",
       "    <tr>\n",
       "      <th>51564</th>\n",
       "      <td>CUS_0x8f59</td>\n",
       "      <td>705-77-2792</td>\n",
       "      <td>12.000</td>\n",
       "    </tr>\n",
       "    <tr>\n",
       "      <th>51565</th>\n",
       "      <td>CUS_0x8f59</td>\n",
       "      <td>705-77-2792</td>\n",
       "      <td>4397.000</td>\n",
       "    </tr>\n",
       "    <tr>\n",
       "      <th>51566</th>\n",
       "      <td>CUS_0x8f59</td>\n",
       "      <td>705-77-2792</td>\n",
       "      <td>0.000</td>\n",
       "    </tr>\n",
       "    <tr>\n",
       "      <th>51567</th>\n",
       "      <td>CUS_0x8f59</td>\n",
       "      <td>705-77-2792</td>\n",
       "      <td>12.000</td>\n",
       "    </tr>\n",
       "  </tbody>\n",
       "</table>\n",
       "</div>"
      ],
      "text/plain": [
       "      Customer_ID        SSN_y  Num_of_Delayed_Payment\n",
       "51563  CUS_0x8f59  705-77-2792                  12.000\n",
       "51564  CUS_0x8f59  705-77-2792                  12.000\n",
       "51565  CUS_0x8f59  705-77-2792                4397.000\n",
       "51566  CUS_0x8f59  705-77-2792                   0.000\n",
       "51567  CUS_0x8f59  705-77-2792                  12.000"
      ]
     },
     "execution_count": 155,
     "metadata": {},
     "output_type": "execute_result"
    }
   ],
   "source": [
    "df_clean[df_clean.Customer_ID == 'CUS_0x8f59'].tail()[['Customer_ID','SSN_y','Num_of_Delayed_Payment']]"
   ]
  },
  {
   "cell_type": "code",
   "execution_count": 156,
   "id": "f3718287",
   "metadata": {},
   "outputs": [],
   "source": [
    "df_NDP = df_clean[(df_clean.Num_of_Delayed_Payment >0)&(df_clean.Num_of_Delayed_Payment < 50)][['SSN_y','Num_of_Delayed_Payment']]"
   ]
  },
  {
   "cell_type": "code",
   "execution_count": 157,
   "id": "821dd9ea",
   "metadata": {},
   "outputs": [],
   "source": [
    "df_NDP = df_NDP.drop_duplicates()\n",
    "df_NDP = df_NDP.drop_duplicates(subset = ['SSN_y'])"
   ]
  },
  {
   "cell_type": "code",
   "execution_count": 158,
   "id": "66a7f9f7",
   "metadata": {},
   "outputs": [],
   "source": [
    "df_clean = df_clean.merge(df_NDP, left_on = 'SSN_y', right_on = 'SSN_y', how = 'left')"
   ]
  },
  {
   "cell_type": "code",
   "execution_count": 159,
   "id": "824edda1",
   "metadata": {},
   "outputs": [],
   "source": [
    "df_clean['Num_of_Delayed_Payment_y'] = df_clean.apply(lambda x: x.Num_of_Delayed_Payment_y \\\n",
    "                                                    if (x.Num_of_Delayed_Payment_y < 50.0) & (x.Num_of_Delayed_Payment_y > 0.0) else x.Num_of_Delayed_Payment_x , axis = 1)"
   ]
  },
  {
   "cell_type": "code",
   "execution_count": 160,
   "id": "561744b4",
   "metadata": {},
   "outputs": [
    {
     "data": {
      "text/html": [
       "<div>\n",
       "<style scoped>\n",
       "    .dataframe tbody tr th:only-of-type {\n",
       "        vertical-align: middle;\n",
       "    }\n",
       "\n",
       "    .dataframe tbody tr th {\n",
       "        vertical-align: top;\n",
       "    }\n",
       "\n",
       "    .dataframe thead th {\n",
       "        text-align: right;\n",
       "    }\n",
       "</style>\n",
       "<table border=\"1\" class=\"dataframe\">\n",
       "  <thead>\n",
       "    <tr style=\"text-align: right;\">\n",
       "      <th></th>\n",
       "      <th>Customer_ID</th>\n",
       "      <th>SSN_y</th>\n",
       "      <th>Num_of_Delayed_Payment_x</th>\n",
       "      <th>Num_of_Delayed_Payment_y</th>\n",
       "    </tr>\n",
       "  </thead>\n",
       "  <tbody>\n",
       "    <tr>\n",
       "      <th>51563</th>\n",
       "      <td>CUS_0x8f59</td>\n",
       "      <td>705-77-2792</td>\n",
       "      <td>12.000</td>\n",
       "      <td>12.000</td>\n",
       "    </tr>\n",
       "    <tr>\n",
       "      <th>51564</th>\n",
       "      <td>CUS_0x8f59</td>\n",
       "      <td>705-77-2792</td>\n",
       "      <td>12.000</td>\n",
       "      <td>12.000</td>\n",
       "    </tr>\n",
       "    <tr>\n",
       "      <th>51565</th>\n",
       "      <td>CUS_0x8f59</td>\n",
       "      <td>705-77-2792</td>\n",
       "      <td>4397.000</td>\n",
       "      <td>12.000</td>\n",
       "    </tr>\n",
       "    <tr>\n",
       "      <th>51566</th>\n",
       "      <td>CUS_0x8f59</td>\n",
       "      <td>705-77-2792</td>\n",
       "      <td>0.000</td>\n",
       "      <td>12.000</td>\n",
       "    </tr>\n",
       "    <tr>\n",
       "      <th>51567</th>\n",
       "      <td>CUS_0x8f59</td>\n",
       "      <td>705-77-2792</td>\n",
       "      <td>12.000</td>\n",
       "      <td>12.000</td>\n",
       "    </tr>\n",
       "  </tbody>\n",
       "</table>\n",
       "</div>"
      ],
      "text/plain": [
       "      Customer_ID        SSN_y  Num_of_Delayed_Payment_x  \\\n",
       "51563  CUS_0x8f59  705-77-2792                    12.000   \n",
       "51564  CUS_0x8f59  705-77-2792                    12.000   \n",
       "51565  CUS_0x8f59  705-77-2792                  4397.000   \n",
       "51566  CUS_0x8f59  705-77-2792                     0.000   \n",
       "51567  CUS_0x8f59  705-77-2792                    12.000   \n",
       "\n",
       "       Num_of_Delayed_Payment_y  \n",
       "51563                    12.000  \n",
       "51564                    12.000  \n",
       "51565                    12.000  \n",
       "51566                    12.000  \n",
       "51567                    12.000  "
      ]
     },
     "execution_count": 160,
     "metadata": {},
     "output_type": "execute_result"
    }
   ],
   "source": [
    "df_clean[df_clean.Customer_ID == 'CUS_0x8f59'].tail()[['Customer_ID','SSN_y','Num_of_Delayed_Payment_x','Num_of_Delayed_Payment_y']]"
   ]
  },
  {
   "cell_type": "code",
   "execution_count": 161,
   "id": "d2fa4a92",
   "metadata": {},
   "outputs": [],
   "source": [
    "#Renaming and Dropping columns\n",
    "df_clean = df_clean.drop(columns = ['Num_of_Delayed_Payment_x'],axis = 1)\n",
    "\n",
    "df_clean.rename(columns = {'Num_of_Delayed_Payment_y':'Num_of_Delayed_Payment'}, inplace = True)"
   ]
  },
  {
   "cell_type": "code",
   "execution_count": 162,
   "id": "6e2f4034",
   "metadata": {},
   "outputs": [],
   "source": [
    "#Dropping temporary table\n",
    "del(df_NDP)"
   ]
  },
  {
   "cell_type": "code",
   "execution_count": 163,
   "id": "4a5916a5",
   "metadata": {},
   "outputs": [
    {
     "data": {
      "text/plain": [
       "11408"
      ]
     },
     "execution_count": 163,
     "metadata": {},
     "output_type": "execute_result"
    }
   ],
   "source": [
    "df_clean.isna().sum().sum()"
   ]
  },
  {
   "cell_type": "markdown",
   "id": "a7558522",
   "metadata": {},
   "source": [
    "#### Now we have type of loans for every person as a list, which we are splitting and converting it to number of type of loans they have"
   ]
  },
  {
   "cell_type": "code",
   "execution_count": 164,
   "id": "403606a1",
   "metadata": {},
   "outputs": [],
   "source": [
    "df_loan = df.Type_of_Loan.str.split(', ', expand = True).rename(columns={0: 'l1', 1: 'l2',2:'l3',3:'l4',4:'l5',\\\n",
    "                                                                        5:'l6',6:'l7',7:'l8',8:'l9'})"
   ]
  },
  {
   "cell_type": "code",
   "execution_count": 165,
   "id": "89abe76a",
   "metadata": {},
   "outputs": [],
   "source": [
    "lst = df_loan.l1.unique()\n",
    "\n",
    "lst = lst.astype(str)"
   ]
  },
  {
   "cell_type": "code",
   "execution_count": 166,
   "id": "6488afca",
   "metadata": {},
   "outputs": [],
   "source": [
    "df_clean.Type_of_Loan= df_clean.Type_of_Loan.astype(str)"
   ]
  },
  {
   "cell_type": "code",
   "execution_count": 167,
   "id": "3317739d",
   "metadata": {},
   "outputs": [],
   "source": [
    "for i in lst:\n",
    "    df_clean[i]=df_clean['Type_of_Loan'].str.count(i)"
   ]
  },
  {
   "cell_type": "markdown",
   "id": "44610e7d",
   "metadata": {},
   "source": [
    "we are removing type of loan and number of loan columns as they will be correlated with the columns we have created and the number of columns also have data entry errors"
   ]
  },
  {
   "cell_type": "code",
   "execution_count": 168,
   "id": "f3ee5b01",
   "metadata": {},
   "outputs": [],
   "source": [
    "thisFilter = df_clean.filter(['nan','Type_of_Loan','Num_of_Loan'])\n",
    "df_clean.drop(thisFilter, inplace=True, axis=1)"
   ]
  },
  {
   "cell_type": "code",
   "execution_count": 169,
   "id": "3347ae44",
   "metadata": {},
   "outputs": [],
   "source": [
    "#Deleting temporary table\n",
    "del(df_loan)"
   ]
  },
  {
   "cell_type": "markdown",
   "id": "fb409342",
   "metadata": {},
   "source": [
    "#### Now our dataset is clean but we want to create a copy of our dataset for visualization before making changes to categorical columns"
   ]
  },
  {
   "cell_type": "code",
   "execution_count": 170,
   "id": "84142daa",
   "metadata": {},
   "outputs": [],
   "source": [
    "df_graph = df_clean.copy()"
   ]
  },
  {
   "cell_type": "markdown",
   "id": "7c2b03fd",
   "metadata": {},
   "source": [
    "#### Now we have payment behaviour columns we are splitting it again and creating two columns called payment behaviour spent and payment behaviour value payment which says how they spend the amount and how they pay back the amount "
   ]
  },
  {
   "cell_type": "code",
   "execution_count": 171,
   "id": "52853a67",
   "metadata": {},
   "outputs": [],
   "source": [
    "pb = df_clean.Payment_Behaviour"
   ]
  },
  {
   "cell_type": "code",
   "execution_count": 172,
   "id": "b6d20383",
   "metadata": {},
   "outputs": [],
   "source": [
    "pb = pb.str.replace('_',' ')"
   ]
  },
  {
   "cell_type": "code",
   "execution_count": 173,
   "id": "9aa70c4d",
   "metadata": {},
   "outputs": [],
   "source": [
    "df_spend_payments = pb.str.split(' ', expand = True).rename(columns={0: 'col1', 1: 'col2',2:'col3',3:'col4',4:'col5'})"
   ]
  },
  {
   "cell_type": "code",
   "execution_count": 174,
   "id": "847d05b4",
   "metadata": {},
   "outputs": [],
   "source": [
    "#Assigning Numerical Values to categories\n",
    "df_clean['Payment_Behaviour_Spent'] = df_spend_payments.col1.apply(lambda x: 2 if x == 'High' else 1 if x == 'Low' else 0)\n",
    "df_clean['Payment_Behaviour_Valuepayments'] = df_spend_payments.col1.apply(lambda x: 2 if x == 'Large' else 1 if x == 'Medium' else 0)"
   ]
  },
  {
   "cell_type": "code",
   "execution_count": 175,
   "id": "8bf00d76",
   "metadata": {},
   "outputs": [],
   "source": [
    "#dropping columns\n",
    "df_clean = df_clean.drop(columns = ['Payment_Behaviour'],axis = 1)"
   ]
  },
  {
   "cell_type": "code",
   "execution_count": 176,
   "id": "45ede81d",
   "metadata": {},
   "outputs": [],
   "source": [
    "#deleting temp tables\n",
    "del(pb)\n",
    "del(df_spend_payments)"
   ]
  },
  {
   "cell_type": "markdown",
   "id": "5375dd32",
   "metadata": {},
   "source": [
    "#### Assigning Numerical Values to each category in Occupation, Month, Credit_Score, Payment_of_Min_Amount, Credit_Mix"
   ]
  },
  {
   "cell_type": "code",
   "execution_count": 177,
   "id": "d9b9aa20",
   "metadata": {},
   "outputs": [],
   "source": [
    "df_clean['Occupation'] = df_clean.Occupation.apply(lambda x: 1 if x == 'Scientist' else 2 if x == 'Teacher' \\\n",
    "                                             else 3 if x == 'Engineer' else 4 if x == 'Entrepreneur' \\\n",
    "                                             else 5 if x == 'Developer' else 6 if x == 'Lawyer' \\\n",
    "                                             else 7 if x == 'Media_Manager' else 8 if x == 'Doctor'\\\n",
    "                                            else 9 if x == 'Journalist' else 10 if x == 'Manager' else 11\\\n",
    "                                            if x=='Accountant' else 12 if x=='Musician' else 13 if x=='Mechanic'\\\n",
    "                                            else 14 if x=='Writer' else 15 if x=='Architect' else 0)"
   ]
  },
  {
   "cell_type": "code",
   "execution_count": 178,
   "id": "3b7d1859",
   "metadata": {},
   "outputs": [],
   "source": [
    "df_clean['Month'] = df_clean.Month.apply(lambda x: 1 if x == 'January' else 2 if x == 'February' else 3 if x == 'March'\\\n",
    "                                  else 4 if x == 'April' else 5 if x=='May' else 6 if x=='June' else 7 if x =='July'\\\n",
    "                                  else 8 if x == 'August' else 9 if x =='September' else 10 if x =='October'\\\n",
    "                                  else 11 if x=='November' else 12)"
   ]
  },
  {
   "cell_type": "code",
   "execution_count": 179,
   "id": "826ff044",
   "metadata": {},
   "outputs": [],
   "source": [
    "df_clean['Credit_Score'] = df_clean.Credit_Score.apply(lambda x: 2 if x == 'Good' else 0 if x == 'Poor' else 1)"
   ]
  },
  {
   "cell_type": "code",
   "execution_count": 180,
   "id": "7f1fb162",
   "metadata": {},
   "outputs": [],
   "source": [
    "df_clean['Payment_of_Min_Amount'] = df.Payment_of_Min_Amount.apply(lambda x: 1 if x == 'Yes' else 0)"
   ]
  },
  {
   "cell_type": "code",
   "execution_count": 181,
   "id": "28fb99ed",
   "metadata": {},
   "outputs": [],
   "source": [
    "df_clean['Credit_Mix'] = df_clean.Credit_Mix.apply(lambda x: 2 if x == 'Good' else 0 if x == 'Bad' else 1)"
   ]
  },
  {
   "cell_type": "markdown",
   "id": "4fe49ffa",
   "metadata": {},
   "source": [
    "# 5. Exploratory Data Analysis"
   ]
  },
  {
   "cell_type": "markdown",
   "id": "f61cac2a",
   "metadata": {},
   "source": [
    "We are using the dataframe copy which we created for grah for EDA i.e. before assigning numerical values to categories"
   ]
  },
  {
   "cell_type": "code",
   "execution_count": 182,
   "id": "e8de92e9",
   "metadata": {},
   "outputs": [],
   "source": [
    "#Changing the columns to it's original datatype\n",
    "df_graph.Annual_Income = df_graph.Annual_Income.astype(float)\n",
    "df_graph.Outstanding_Debt = df_graph.Outstanding_Debt.astype(float)\n",
    "df_graph.Annual_Income = df_graph.Annual_Income.astype(float)\n",
    "df_graph.Num_of_Delayed_Payment = df_graph.Num_of_Delayed_Payment.astype(float)\n",
    "df_graph.Interest_Rate = df_graph.Interest_Rate.astype(float)"
   ]
  },
  {
   "cell_type": "code",
   "execution_count": 183,
   "id": "639473ea",
   "metadata": {},
   "outputs": [
    {
     "data": {
      "text/plain": [
       "<Figure size 864x288 with 0 Axes>"
      ]
     },
     "execution_count": 183,
     "metadata": {},
     "output_type": "execute_result"
    },
    {
     "data": {
      "text/plain": [
       "<seaborn.axisgrid.FacetGrid at 0x214103d0a90>"
      ]
     },
     "execution_count": 183,
     "metadata": {},
     "output_type": "execute_result"
    },
    {
     "data": {
      "text/plain": [
       "<Figure size 864x288 with 0 Axes>"
      ]
     },
     "metadata": {},
     "output_type": "display_data"
    },
    {
     "data": {
      "image/png": "[encoded data removed]",
      "text/plain": [
       "<Figure size 720x360 with 1 Axes>"
      ]
     },
     "metadata": {
      "needs_background": "light"
     },
     "output_type": "display_data"
    }
   ],
   "source": [
    "plt.figure(figsize=(12,4))\n",
    "sns.catplot(x='Credit_Score', data=df_graph,y='Interest_Rate', aspect=2, kind='bar',palette = \"rainbow\")"
   ]
  },
  {
   "cell_type": "markdown",
   "id": "369a243d",
   "metadata": {},
   "source": [
    "#### This graph shows us that if customer has high interest rate there are more chances of them having a poor credit score"
   ]
  },
  {
   "cell_type": "code",
   "execution_count": 184,
   "id": "a6aed800",
   "metadata": {
    "scrolled": true
   },
   "outputs": [
    {
     "data": {
      "text/plain": [
       "<AxesSubplot:xlabel='Num_Credit_Card', ylabel='Outstanding_Debt'>"
      ]
     },
     "execution_count": 184,
     "metadata": {},
     "output_type": "execute_result"
    },
    {
     "data": {
      "image/png": "[encoded data removed]",
      "text/plain": [
       "<Figure size 432x288 with 1 Axes>"
      ]
     },
     "metadata": {
      "needs_background": "light"
     },
     "output_type": "display_data"
    }
   ],
   "source": [
    "sns.regplot(x='Num_Credit_Card',y='Outstanding_Debt',data=df_graph)"
   ]
  },
  {
   "cell_type": "markdown",
   "id": "428acda1",
   "metadata": {},
   "source": [
    "#### From the Regression plot, we can infer that as the number of credit card increases the outstanding debt also increases"
   ]
  },
  {
   "cell_type": "code",
   "execution_count": 185,
   "id": "1c48652c",
   "metadata": {
    "scrolled": true
   },
   "outputs": [
    {
     "data": {
      "text/plain": [
       "<seaborn.axisgrid.FacetGrid at 0x21411372850>"
      ]
     },
     "execution_count": 185,
     "metadata": {},
     "output_type": "execute_result"
    },
    {
     "data": {
      "image/png": "[encoded data removed]",
      "text/plain": [
       "<Figure size 720x360 with 1 Axes>"
      ]
     },
     "metadata": {
      "needs_background": "light"
     },
     "output_type": "display_data"
    }
   ],
   "source": [
    "sns.catplot(y='Num_of_Delayed_Payment', data=df_graph, x='Credit_Score', aspect=2, kind='bar')"
   ]
  },
  {
   "cell_type": "markdown",
   "id": "8047dadf",
   "metadata": {},
   "source": [
    "#### From the plot we can infer more number of delayed payments leads to a poor credit score. So make your payments on time!"
   ]
  },
  {
   "cell_type": "code",
   "execution_count": 186,
   "id": "ae0df95a",
   "metadata": {},
   "outputs": [
    {
     "data": {
      "text/plain": [
       "<AxesSubplot:>"
      ]
     },
     "execution_count": 186,
     "metadata": {},
     "output_type": "execute_result"
    },
    {
     "data": {
      "image/png": "[encoded data removed]",
      "text/plain": [
       "<Figure size 720x432 with 1 Axes>"
      ]
     },
     "metadata": {},
     "output_type": "display_data"
    }
   ],
   "source": [
    "df_graph.groupby('Payment_Behaviour')['Payment_Behaviour'].count().\\\n",
    "                plot(kind='pie',figsize=(10,6),cmap=\"Reds_r\", autopct='%1.1f%%', ylabel='')"
   ]
  },
  {
   "cell_type": "markdown",
   "id": "ce87454d",
   "metadata": {},
   "source": [
    "#### From the above pie chart, highest proportion is of credit card users who have spent less and made payments of small amount. It is also true that only small proportion of credit card users have spent less but have made large payments. "
   ]
  },
  {
   "cell_type": "code",
   "execution_count": 187,
   "id": "4b26e38f",
   "metadata": {},
   "outputs": [
    {
     "data": {
      "text/plain": [
       "<Figure size 864x288 with 0 Axes>"
      ]
     },
     "execution_count": 187,
     "metadata": {},
     "output_type": "execute_result"
    },
    {
     "data": {
      "text/plain": [
       "<seaborn.axisgrid.FacetGrid at 0x21417d74430>"
      ]
     },
     "execution_count": 187,
     "metadata": {},
     "output_type": "execute_result"
    },
    {
     "data": {
      "text/plain": [
       "<Figure size 864x288 with 0 Axes>"
      ]
     },
     "metadata": {},
     "output_type": "display_data"
    },
    {
     "data": {
      "image/png": "[encoded data removed]",
      "text/plain": [
       "<Figure size 720x360 with 1 Axes>"
      ]
     },
     "metadata": {
      "needs_background": "light"
     },
     "output_type": "display_data"
    }
   ],
   "source": [
    "plt.figure(figsize=(12,4))\n",
    "sns.catplot(y='Credit_Score', data=df_graph, x='Credit_History_Age', aspect=2, kind='bar', palette = 'rainbow')"
   ]
  },
  {
   "cell_type": "markdown",
   "id": "f9d82a73",
   "metadata": {},
   "source": [
    "#### The longer the credit history age the better the credit score!"
   ]
  },
  {
   "cell_type": "code",
   "execution_count": 188,
   "id": "8a640f2b",
   "metadata": {},
   "outputs": [],
   "source": [
    "#Creating temporary column for total number of loans for graph\n",
    "df_graph['total_loans'] = df_clean['Auto Loan'] + df_clean['Credit-Builder Loan'] + df_clean['Not Specified'] +\\\n",
    "df_clean['Personal Loan'] + df_clean['Payday Loan'] + df_clean['Mortgage Loan'] + df_clean['Home Equity Loan']+\\\n",
    "df_clean['Debt Consolidation Loan']+ df_clean['Student Loan']"
   ]
  },
  {
   "cell_type": "code",
   "execution_count": 189,
   "id": "5a0a0ae5",
   "metadata": {},
   "outputs": [
    {
     "data": {
      "text/plain": [
       "<Figure size 864x288 with 0 Axes>"
      ]
     },
     "execution_count": 189,
     "metadata": {},
     "output_type": "execute_result"
    },
    {
     "data": {
      "text/plain": [
       "<seaborn.axisgrid.FacetGrid at 0x2141515e610>"
      ]
     },
     "execution_count": 189,
     "metadata": {},
     "output_type": "execute_result"
    },
    {
     "data": {
      "text/plain": [
       "<Figure size 864x288 with 0 Axes>"
      ]
     },
     "metadata": {},
     "output_type": "display_data"
    },
    {
     "data": {
      "image/png": "[encoded data removed]",
      "text/plain": [
       "<Figure size 801.5x360 with 1 Axes>"
      ]
     },
     "metadata": {
      "needs_background": "light"
     },
     "output_type": "display_data"
    }
   ],
   "source": [
    "plt.figure(figsize=(12,4))\n",
    "sns.catplot(x = 'total_loans',hue='Credit_Score', data=df_graph, y='Interest_Rate', aspect=2, kind='bar',palette = \"rainbow\")"
   ]
  },
  {
   "cell_type": "markdown",
   "id": "6775255a",
   "metadata": {},
   "source": [
    "#### From the above graph we can infer that higher the interest rate and higher the total number of loans higher the possibility of being a good credit scorer. "
   ]
  },
  {
   "cell_type": "code",
   "execution_count": 190,
   "id": "96092a90",
   "metadata": {
    "scrolled": true
   },
   "outputs": [
    {
     "data": {
      "text/plain": [
       "<AxesSubplot:title={'center':'Occupation'}>"
      ]
     },
     "execution_count": 190,
     "metadata": {},
     "output_type": "execute_result"
    },
    {
     "data": {
      "image/png": "[encoded data removed]",
      "text/plain": [
       "<Figure size 720x432 with 1 Axes>"
      ]
     },
     "metadata": {},
     "output_type": "display_data"
    }
   ],
   "source": [
    "df_graph.groupby('Occupation')['Occupation'].count().\\\n",
    "                plot(kind='pie',figsize=(10,6),cmap=\"rainbow\", autopct='%1.1f%%',ylabel='',title='Occupation')"
   ]
  },
  {
   "cell_type": "markdown",
   "id": "e84e75cd",
   "metadata": {},
   "source": [
    "#### From the pie chart we can say that all occupations have almost the same percentage of representation in our dataset"
   ]
  },
  {
   "cell_type": "markdown",
   "id": "4f457c2d",
   "metadata": {},
   "source": [
    "# Finding 1"
   ]
  },
  {
   "cell_type": "code",
   "execution_count": 191,
   "id": "8f8eda32",
   "metadata": {},
   "outputs": [],
   "source": [
    "oci = df_graph.groupby(['Occupation','Credit_Score']).agg({'Credit_Score':'size', 'Annual_Income':'mean'}).\\\n",
    "rename(columns = {'Credit_Score':'Size'})"
   ]
  },
  {
   "cell_type": "code",
   "execution_count": 192,
   "id": "3cc0ee32",
   "metadata": {},
   "outputs": [],
   "source": [
    "oci = oci.reset_index()"
   ]
  },
  {
   "cell_type": "code",
   "execution_count": 193,
   "id": "c52e5946",
   "metadata": {},
   "outputs": [],
   "source": [
    "oci = oci[['Occupation','Credit_Score','Annual_Income']]"
   ]
  },
  {
   "cell_type": "code",
   "execution_count": 194,
   "id": "d85e0575",
   "metadata": {
    "scrolled": true
   },
   "outputs": [
    {
     "data": {
      "text/html": [
       "<div>\n",
       "<style scoped>\n",
       "    .dataframe tbody tr th:only-of-type {\n",
       "        vertical-align: middle;\n",
       "    }\n",
       "\n",
       "    .dataframe tbody tr th {\n",
       "        vertical-align: top;\n",
       "    }\n",
       "\n",
       "    .dataframe thead th {\n",
       "        text-align: right;\n",
       "    }\n",
       "</style>\n",
       "<table border=\"1\" class=\"dataframe\">\n",
       "  <thead>\n",
       "    <tr style=\"text-align: right;\">\n",
       "      <th></th>\n",
       "      <th>Occupation</th>\n",
       "      <th>Credit_Score</th>\n",
       "      <th>Annual_Income</th>\n",
       "    </tr>\n",
       "  </thead>\n",
       "  <tbody>\n",
       "    <tr>\n",
       "      <th>0</th>\n",
       "      <td>Accountant</td>\n",
       "      <td>Good</td>\n",
       "      <td>117132.975</td>\n",
       "    </tr>\n",
       "    <tr>\n",
       "      <th>1</th>\n",
       "      <td>Accountant</td>\n",
       "      <td>Poor</td>\n",
       "      <td>189195.324</td>\n",
       "    </tr>\n",
       "    <tr>\n",
       "      <th>2</th>\n",
       "      <td>Accountant</td>\n",
       "      <td>Standard</td>\n",
       "      <td>228440.397</td>\n",
       "    </tr>\n",
       "    <tr>\n",
       "      <th>3</th>\n",
       "      <td>Architect</td>\n",
       "      <td>Good</td>\n",
       "      <td>194009.630</td>\n",
       "    </tr>\n",
       "    <tr>\n",
       "      <th>4</th>\n",
       "      <td>Architect</td>\n",
       "      <td>Poor</td>\n",
       "      <td>146224.873</td>\n",
       "    </tr>\n",
       "    <tr>\n",
       "      <th>5</th>\n",
       "      <td>Architect</td>\n",
       "      <td>Standard</td>\n",
       "      <td>165472.711</td>\n",
       "    </tr>\n",
       "    <tr>\n",
       "      <th>6</th>\n",
       "      <td>Developer</td>\n",
       "      <td>Good</td>\n",
       "      <td>201040.389</td>\n",
       "    </tr>\n",
       "    <tr>\n",
       "      <th>7</th>\n",
       "      <td>Developer</td>\n",
       "      <td>Poor</td>\n",
       "      <td>175191.112</td>\n",
       "    </tr>\n",
       "    <tr>\n",
       "      <th>8</th>\n",
       "      <td>Developer</td>\n",
       "      <td>Standard</td>\n",
       "      <td>152617.870</td>\n",
       "    </tr>\n",
       "    <tr>\n",
       "      <th>9</th>\n",
       "      <td>Doctor</td>\n",
       "      <td>Good</td>\n",
       "      <td>165268.558</td>\n",
       "    </tr>\n",
       "    <tr>\n",
       "      <th>10</th>\n",
       "      <td>Doctor</td>\n",
       "      <td>Poor</td>\n",
       "      <td>107278.239</td>\n",
       "    </tr>\n",
       "    <tr>\n",
       "      <th>11</th>\n",
       "      <td>Doctor</td>\n",
       "      <td>Standard</td>\n",
       "      <td>234345.074</td>\n",
       "    </tr>\n",
       "    <tr>\n",
       "      <th>12</th>\n",
       "      <td>Engineer</td>\n",
       "      <td>Good</td>\n",
       "      <td>233899.364</td>\n",
       "    </tr>\n",
       "    <tr>\n",
       "      <th>13</th>\n",
       "      <td>Engineer</td>\n",
       "      <td>Poor</td>\n",
       "      <td>166201.290</td>\n",
       "    </tr>\n",
       "    <tr>\n",
       "      <th>14</th>\n",
       "      <td>Engineer</td>\n",
       "      <td>Standard</td>\n",
       "      <td>166847.591</td>\n",
       "    </tr>\n",
       "    <tr>\n",
       "      <th>15</th>\n",
       "      <td>Entrepreneur</td>\n",
       "      <td>Good</td>\n",
       "      <td>199188.888</td>\n",
       "    </tr>\n",
       "    <tr>\n",
       "      <th>16</th>\n",
       "      <td>Entrepreneur</td>\n",
       "      <td>Poor</td>\n",
       "      <td>127381.688</td>\n",
       "    </tr>\n",
       "    <tr>\n",
       "      <th>17</th>\n",
       "      <td>Entrepreneur</td>\n",
       "      <td>Standard</td>\n",
       "      <td>199734.865</td>\n",
       "    </tr>\n",
       "    <tr>\n",
       "      <th>18</th>\n",
       "      <td>Journalist</td>\n",
       "      <td>Good</td>\n",
       "      <td>203873.290</td>\n",
       "    </tr>\n",
       "    <tr>\n",
       "      <th>19</th>\n",
       "      <td>Journalist</td>\n",
       "      <td>Poor</td>\n",
       "      <td>112511.002</td>\n",
       "    </tr>\n",
       "    <tr>\n",
       "      <th>20</th>\n",
       "      <td>Journalist</td>\n",
       "      <td>Standard</td>\n",
       "      <td>183395.497</td>\n",
       "    </tr>\n",
       "    <tr>\n",
       "      <th>21</th>\n",
       "      <td>Lawyer</td>\n",
       "      <td>Good</td>\n",
       "      <td>171587.459</td>\n",
       "    </tr>\n",
       "    <tr>\n",
       "      <th>22</th>\n",
       "      <td>Lawyer</td>\n",
       "      <td>Poor</td>\n",
       "      <td>192076.002</td>\n",
       "    </tr>\n",
       "    <tr>\n",
       "      <th>23</th>\n",
       "      <td>Lawyer</td>\n",
       "      <td>Standard</td>\n",
       "      <td>199109.037</td>\n",
       "    </tr>\n",
       "    <tr>\n",
       "      <th>24</th>\n",
       "      <td>Manager</td>\n",
       "      <td>Good</td>\n",
       "      <td>127509.735</td>\n",
       "    </tr>\n",
       "    <tr>\n",
       "      <th>25</th>\n",
       "      <td>Manager</td>\n",
       "      <td>Poor</td>\n",
       "      <td>218147.029</td>\n",
       "    </tr>\n",
       "    <tr>\n",
       "      <th>26</th>\n",
       "      <td>Manager</td>\n",
       "      <td>Standard</td>\n",
       "      <td>149275.611</td>\n",
       "    </tr>\n",
       "    <tr>\n",
       "      <th>27</th>\n",
       "      <td>Mechanic</td>\n",
       "      <td>Good</td>\n",
       "      <td>245714.675</td>\n",
       "    </tr>\n",
       "    <tr>\n",
       "      <th>28</th>\n",
       "      <td>Mechanic</td>\n",
       "      <td>Poor</td>\n",
       "      <td>108341.706</td>\n",
       "    </tr>\n",
       "    <tr>\n",
       "      <th>29</th>\n",
       "      <td>Mechanic</td>\n",
       "      <td>Standard</td>\n",
       "      <td>180030.080</td>\n",
       "    </tr>\n",
       "    <tr>\n",
       "      <th>30</th>\n",
       "      <td>Media_Manager</td>\n",
       "      <td>Good</td>\n",
       "      <td>144619.680</td>\n",
       "    </tr>\n",
       "    <tr>\n",
       "      <th>31</th>\n",
       "      <td>Media_Manager</td>\n",
       "      <td>Poor</td>\n",
       "      <td>152759.572</td>\n",
       "    </tr>\n",
       "    <tr>\n",
       "      <th>32</th>\n",
       "      <td>Media_Manager</td>\n",
       "      <td>Standard</td>\n",
       "      <td>221344.145</td>\n",
       "    </tr>\n",
       "    <tr>\n",
       "      <th>33</th>\n",
       "      <td>Musician</td>\n",
       "      <td>Good</td>\n",
       "      <td>224056.932</td>\n",
       "    </tr>\n",
       "    <tr>\n",
       "      <th>34</th>\n",
       "      <td>Musician</td>\n",
       "      <td>Poor</td>\n",
       "      <td>170718.297</td>\n",
       "    </tr>\n",
       "    <tr>\n",
       "      <th>35</th>\n",
       "      <td>Musician</td>\n",
       "      <td>Standard</td>\n",
       "      <td>178619.673</td>\n",
       "    </tr>\n",
       "    <tr>\n",
       "      <th>36</th>\n",
       "      <td>Scientist</td>\n",
       "      <td>Good</td>\n",
       "      <td>267268.018</td>\n",
       "    </tr>\n",
       "    <tr>\n",
       "      <th>37</th>\n",
       "      <td>Scientist</td>\n",
       "      <td>Poor</td>\n",
       "      <td>153308.952</td>\n",
       "    </tr>\n",
       "    <tr>\n",
       "      <th>38</th>\n",
       "      <td>Scientist</td>\n",
       "      <td>Standard</td>\n",
       "      <td>145389.554</td>\n",
       "    </tr>\n",
       "    <tr>\n",
       "      <th>39</th>\n",
       "      <td>Teacher</td>\n",
       "      <td>Good</td>\n",
       "      <td>106957.302</td>\n",
       "    </tr>\n",
       "    <tr>\n",
       "      <th>40</th>\n",
       "      <td>Teacher</td>\n",
       "      <td>Poor</td>\n",
       "      <td>164635.854</td>\n",
       "    </tr>\n",
       "    <tr>\n",
       "      <th>41</th>\n",
       "      <td>Teacher</td>\n",
       "      <td>Standard</td>\n",
       "      <td>184213.915</td>\n",
       "    </tr>\n",
       "    <tr>\n",
       "      <th>42</th>\n",
       "      <td>Writer</td>\n",
       "      <td>Good</td>\n",
       "      <td>173053.007</td>\n",
       "    </tr>\n",
       "    <tr>\n",
       "      <th>43</th>\n",
       "      <td>Writer</td>\n",
       "      <td>Poor</td>\n",
       "      <td>138889.466</td>\n",
       "    </tr>\n",
       "    <tr>\n",
       "      <th>44</th>\n",
       "      <td>Writer</td>\n",
       "      <td>Standard</td>\n",
       "      <td>185776.438</td>\n",
       "    </tr>\n",
       "  </tbody>\n",
       "</table>\n",
       "</div>"
      ],
      "text/plain": [
       "       Occupation Credit_Score  Annual_Income\n",
       "0      Accountant         Good     117132.975\n",
       "1      Accountant         Poor     189195.324\n",
       "2      Accountant     Standard     228440.397\n",
       "3       Architect         Good     194009.630\n",
       "4       Architect         Poor     146224.873\n",
       "5       Architect     Standard     165472.711\n",
       "6       Developer         Good     201040.389\n",
       "7       Developer         Poor     175191.112\n",
       "8       Developer     Standard     152617.870\n",
       "9          Doctor         Good     165268.558\n",
       "10         Doctor         Poor     107278.239\n",
       "11         Doctor     Standard     234345.074\n",
       "12       Engineer         Good     233899.364\n",
       "13       Engineer         Poor     166201.290\n",
       "14       Engineer     Standard     166847.591\n",
       "15   Entrepreneur         Good     199188.888\n",
       "16   Entrepreneur         Poor     127381.688\n",
       "17   Entrepreneur     Standard     199734.865\n",
       "18     Journalist         Good     203873.290\n",
       "19     Journalist         Poor     112511.002\n",
       "20     Journalist     Standard     183395.497\n",
       "21         Lawyer         Good     171587.459\n",
       "22         Lawyer         Poor     192076.002\n",
       "23         Lawyer     Standard     199109.037\n",
       "24        Manager         Good     127509.735\n",
       "25        Manager         Poor     218147.029\n",
       "26        Manager     Standard     149275.611\n",
       "27       Mechanic         Good     245714.675\n",
       "28       Mechanic         Poor     108341.706\n",
       "29       Mechanic     Standard     180030.080\n",
       "30  Media_Manager         Good     144619.680\n",
       "31  Media_Manager         Poor     152759.572\n",
       "32  Media_Manager     Standard     221344.145\n",
       "33       Musician         Good     224056.932\n",
       "34       Musician         Poor     170718.297\n",
       "35       Musician     Standard     178619.673\n",
       "36      Scientist         Good     267268.018\n",
       "37      Scientist         Poor     153308.952\n",
       "38      Scientist     Standard     145389.554\n",
       "39        Teacher         Good     106957.302\n",
       "40        Teacher         Poor     164635.854\n",
       "41        Teacher     Standard     184213.915\n",
       "42         Writer         Good     173053.007\n",
       "43         Writer         Poor     138889.466\n",
       "44         Writer     Standard     185776.438"
      ]
     },
     "execution_count": 194,
     "metadata": {},
     "output_type": "execute_result"
    }
   ],
   "source": [
    "oci"
   ]
  },
  {
   "cell_type": "markdown",
   "id": "1d7574cb",
   "metadata": {},
   "source": [
    "# Manager with highest average salary have a poorer credit score than managers with lesser salary. "
   ]
  },
  {
   "cell_type": "code",
   "execution_count": 195,
   "id": "e14b8735",
   "metadata": {},
   "outputs": [
    {
     "data": {
      "text/html": [
       "<div>\n",
       "<style scoped>\n",
       "    .dataframe tbody tr th:only-of-type {\n",
       "        vertical-align: middle;\n",
       "    }\n",
       "\n",
       "    .dataframe tbody tr th {\n",
       "        vertical-align: top;\n",
       "    }\n",
       "\n",
       "    .dataframe thead th {\n",
       "        text-align: right;\n",
       "    }\n",
       "</style>\n",
       "<table border=\"1\" class=\"dataframe\">\n",
       "  <thead>\n",
       "    <tr style=\"text-align: right;\">\n",
       "      <th></th>\n",
       "      <th>Occupation</th>\n",
       "      <th>Credit_Score</th>\n",
       "      <th>Annual_Income</th>\n",
       "    </tr>\n",
       "  </thead>\n",
       "  <tbody>\n",
       "    <tr>\n",
       "      <th>25</th>\n",
       "      <td>Manager</td>\n",
       "      <td>Poor</td>\n",
       "      <td>218147.029</td>\n",
       "    </tr>\n",
       "    <tr>\n",
       "      <th>26</th>\n",
       "      <td>Manager</td>\n",
       "      <td>Standard</td>\n",
       "      <td>149275.611</td>\n",
       "    </tr>\n",
       "    <tr>\n",
       "      <th>24</th>\n",
       "      <td>Manager</td>\n",
       "      <td>Good</td>\n",
       "      <td>127509.735</td>\n",
       "    </tr>\n",
       "  </tbody>\n",
       "</table>\n",
       "</div>"
      ],
      "text/plain": [
       "   Occupation Credit_Score  Annual_Income\n",
       "25    Manager         Poor     218147.029\n",
       "26    Manager     Standard     149275.611\n",
       "24    Manager         Good     127509.735"
      ]
     },
     "execution_count": 195,
     "metadata": {},
     "output_type": "execute_result"
    }
   ],
   "source": [
    "oci[oci.Occupation == 'Manager'].sort_values(by = 'Annual_Income',ascending = False)[0:3]"
   ]
  },
  {
   "cell_type": "code",
   "execution_count": 196,
   "id": "0861e43e",
   "metadata": {},
   "outputs": [
    {
     "data": {
      "text/plain": [
       "<seaborn.axisgrid.FacetGrid at 0x21414b59460>"
      ]
     },
     "execution_count": 196,
     "metadata": {},
     "output_type": "execute_result"
    },
    {
     "data": {
      "image/png": "[encoded data removed]",
      "text/plain": [
       "<Figure size 1161.5x360 with 1 Axes>"
      ]
     },
     "metadata": {
      "needs_background": "light"
     },
     "output_type": "display_data"
    }
   ],
   "source": [
    "sns.catplot(y='Annual_Income', x='Occupation',hue='Credit_Score', data=df_graph, kind='bar',aspect=3)"
   ]
  },
  {
   "cell_type": "markdown",
   "id": "d5e3f1a1",
   "metadata": {},
   "source": [
    "#### Dropping all the unique row id columns"
   ]
  },
  {
   "cell_type": "code",
   "execution_count": 197,
   "id": "c364deb7",
   "metadata": {},
   "outputs": [],
   "source": [
    "df_clean = df_clean.drop(columns = ['ID','Customer_ID','SSN_y'],axis = 1)"
   ]
  },
  {
   "cell_type": "markdown",
   "id": "97576e70",
   "metadata": {},
   "source": [
    "#### Few columns are string so converting all of them to float"
   ]
  },
  {
   "cell_type": "code",
   "execution_count": 198,
   "id": "0298a7f4",
   "metadata": {},
   "outputs": [],
   "source": [
    "df_clean = df_clean.astype(float)"
   ]
  },
  {
   "cell_type": "markdown",
   "id": "a30a4bcd",
   "metadata": {},
   "source": [
    "#### Checking correlation to drop the highly correlated columns before tarinning decision tree"
   ]
  },
  {
   "cell_type": "code",
   "execution_count": 199,
   "id": "34639e46",
   "metadata": {},
   "outputs": [
    {
     "data": {
      "text/plain": [
       "Monthly_Inhand_Salary  Monthly_Balance        0.676\n",
       "Credit_History_Age     Credit_Mix             0.634\n",
       "Outstanding_Debt       Interest_Rate          0.629\n",
       "Delay_from_due_date    Interest_Rate          0.589\n",
       "Interest_Rate          Num_Bank_Accounts      0.585\n",
       "Delay_from_due_date    Outstanding_Debt       0.572\n",
       "                       Num_Bank_Accounts      0.560\n",
       "Payment_of_Min_Amount  Interest_Rate          0.546\n",
       "Outstanding_Debt       Num_Bank_Accounts      0.507\n",
       "Payment_of_Min_Amount  Num_Bank_Accounts      0.506\n",
       "Interest_Rate          Num_Credit_Card        0.499\n",
       "Credit_Score           Credit_Mix             0.499\n",
       "Outstanding_Debt       Num_Credit_Card        0.491\n",
       "Delay_from_due_date    Num_Credit_Card        0.480\n",
       "Outstanding_Debt       Changed_Credit_Limit   0.457\n",
       "dtype: float64"
      ]
     },
     "execution_count": 199,
     "metadata": {},
     "output_type": "execute_result"
    }
   ],
   "source": [
    "corr = df_clean.corr()\n",
    "corr[corr<1].stack().nlargest(30)[::2]"
   ]
  },
  {
   "cell_type": "markdown",
   "id": "89c71bc9",
   "metadata": {},
   "source": [
    "# 5. Machine Learning"
   ]
  },
  {
   "cell_type": "markdown",
   "id": "7077dd80",
   "metadata": {},
   "source": [
    "## 5.1 Decision Tree"
   ]
  },
  {
   "cell_type": "markdown",
   "id": "8e47b385",
   "metadata": {},
   "source": [
    "#### We are droping columns that are redundant or highly correlated with other columns"
   ]
  },
  {
   "cell_type": "code",
   "execution_count": 200,
   "id": "08410ed1",
   "metadata": {},
   "outputs": [],
   "source": [
    "X = df_clean.drop(columns=['Credit_Score','Credit_Mix','Monthly_Inhand_Salary','Changed_Credit_Limit','Num_Credit_Inquiries'])"
   ]
  },
  {
   "cell_type": "code",
   "execution_count": 201,
   "id": "85c92401",
   "metadata": {},
   "outputs": [],
   "source": [
    "Y = df_clean.Credit_Score"
   ]
  },
  {
   "cell_type": "markdown",
   "id": "15183bb1",
   "metadata": {},
   "source": [
    "#### Splitting the dataset for trainning and testing"
   ]
  },
  {
   "cell_type": "code",
   "execution_count": 202,
   "id": "4f2bde78",
   "metadata": {},
   "outputs": [],
   "source": [
    "from sklearn.model_selection import train_test_split"
   ]
  },
  {
   "cell_type": "code",
   "execution_count": 203,
   "id": "e4f02085",
   "metadata": {},
   "outputs": [],
   "source": [
    "# Create training and testing sets\n",
    "X_train, X_test, Y_train, Y_test = train_test_split(X, Y, test_size = 0.3, random_state = 0)"
   ]
  },
  {
   "cell_type": "markdown",
   "id": "9d2113ee",
   "metadata": {},
   "source": [
    "#### Trainning the model"
   ]
  },
  {
   "cell_type": "code",
   "execution_count": 204,
   "id": "da093771",
   "metadata": {},
   "outputs": [],
   "source": [
    "dt = tree.DecisionTreeClassifier(max_depth=4)"
   ]
  },
  {
   "cell_type": "code",
   "execution_count": 205,
   "id": "f3eb9261",
   "metadata": {},
   "outputs": [
    {
     "data": {
      "text/plain": [
       "DecisionTreeClassifier(max_depth=4)"
      ]
     },
     "execution_count": 205,
     "metadata": {},
     "output_type": "execute_result"
    }
   ],
   "source": [
    "#Fitting the decision tree\n",
    "dt.fit(X_train,Y_train)"
   ]
  },
  {
   "cell_type": "code",
   "execution_count": 206,
   "id": "d7deb882",
   "metadata": {},
   "outputs": [
    {
     "data": {
      "image/png": "[encoded data removed]",
      "text/plain": [
       "<IPython.core.display.Image object>"
      ]
     },
     "execution_count": 206,
     "metadata": {},
     "output_type": "execute_result"
    }
   ],
   "source": [
    "#plotting the tree\n",
    "dt_feature_names = list(X.columns)\n",
    "dt_target_names = [str(s) for s in Y.unique()]\n",
    "tree.export_graphviz(dt, out_file='tree.dot', feature_names=dt_feature_names, class_names=dt_target_names, filled=True)  \n",
    "graph = pydotplus.graph_from_dot_file('tree.dot')\n",
    "Image(graph.create_png())"
   ]
  },
  {
   "cell_type": "markdown",
   "id": "5e0a3ec0",
   "metadata": {},
   "source": [
    "Class 0: <b> Poor </b> Credit Score\n",
    "\n",
    "Class 1:  <b>Standard </b> Credit Score\n",
    "\n",
    "Class 2:  <b>Good </b> Credit Score"
   ]
  },
  {
   "cell_type": "markdown",
   "id": "aafe82a3",
   "metadata": {},
   "source": [
    "# Finding 2"
   ]
  },
  {
   "cell_type": "code",
   "execution_count": 207,
   "id": "4e2af486",
   "metadata": {},
   "outputs": [],
   "source": [
    "df_graph.Outstanding_Debt = df_graph.Outstanding_Debt.astype(float)"
   ]
  },
  {
   "cell_type": "code",
   "execution_count": 208,
   "id": "b5095552",
   "metadata": {},
   "outputs": [],
   "source": [
    "df_graph['discretized_debt_EW']=pd.cut(df_graph.Outstanding_Debt, bins=[0, 1500, 2735, 4990])"
   ]
  },
  {
   "cell_type": "code",
   "execution_count": 209,
   "id": "c4fa9e4b",
   "metadata": {},
   "outputs": [],
   "source": [
    "df_graph['IR_Range']=df_graph.apply(lambda x: 1 if x.Interest_Rate>24.5 else 0, axis = 1)"
   ]
  },
  {
   "cell_type": "markdown",
   "id": "d90e962b",
   "metadata": {},
   "source": [
    "IR_Range 0: Interest Rate less that 24.5\n",
    "\n",
    "IR_Range 1: Interest Rate greater that 24.5"
   ]
  },
  {
   "cell_type": "code",
   "execution_count": 210,
   "id": "c0011b09",
   "metadata": {},
   "outputs": [
    {
     "data": {
      "text/plain": [
       "<seaborn.axisgrid.FacetGrid at 0x214162f95e0>"
      ]
     },
     "execution_count": 210,
     "metadata": {},
     "output_type": "execute_result"
    },
    {
     "data": {
      "image/png": "[encoded data removed]",
      "text/plain": [
       "<Figure size 801.5x360 with 2 Axes>"
      ]
     },
     "metadata": {
      "needs_background": "light"
     },
     "output_type": "display_data"
    }
   ],
   "source": [
    "sns.factorplot(x='discretized_debt_EW',y='Num_of_Delayed_Payment', hue='Credit_Score', col = 'IR_Range', data=df_graph, kind='bar',palette='Set2')"
   ]
  },
  {
   "cell_type": "markdown",
   "id": "66337c95",
   "metadata": {},
   "source": [
    "# Higher the Outstanding Debt and Number of delayed payments with Lower Interest Rate, higher the probability of getting good credit score"
   ]
  },
  {
   "cell_type": "code",
   "execution_count": 211,
   "id": "f9b783ff",
   "metadata": {
    "scrolled": true
   },
   "outputs": [
    {
     "data": {
      "text/plain": [
       "array([0., 1., 1., ..., 1., 0., 0.])"
      ]
     },
     "execution_count": 211,
     "metadata": {},
     "output_type": "execute_result"
    }
   ],
   "source": [
    "#predicting\n",
    "dt.predict(X_test)"
   ]
  },
  {
   "cell_type": "code",
   "execution_count": 212,
   "id": "7cb80161",
   "metadata": {},
   "outputs": [
    {
     "data": {
      "text/plain": [
       "0.6583"
      ]
     },
     "execution_count": 212,
     "metadata": {},
     "output_type": "execute_result"
    }
   ],
   "source": [
    "#prediction accuracy\n",
    "(dt.predict(X_test) == Y_test).mean()"
   ]
  },
  {
   "cell_type": "code",
   "execution_count": 213,
   "id": "11e5487f",
   "metadata": {},
   "outputs": [],
   "source": [
    "y_pred = dt.predict(X_test)"
   ]
  },
  {
   "cell_type": "markdown",
   "id": "f586d9ff",
   "metadata": {},
   "source": [
    "#### Predicting Probabilities"
   ]
  },
  {
   "cell_type": "code",
   "execution_count": 214,
   "id": "d5d3073f",
   "metadata": {},
   "outputs": [],
   "source": [
    "y_pred_proba = dt.predict_proba(X_test)"
   ]
  },
  {
   "cell_type": "markdown",
   "id": "55b47f4a",
   "metadata": {},
   "source": [
    "#### Confusion Matric "
   ]
  },
  {
   "cell_type": "code",
   "execution_count": 215,
   "id": "bf69312d",
   "metadata": {},
   "outputs": [
    {
     "data": {
      "text/plain": [
       "array([[ 5387,  3416,     0],\n",
       "       [ 2245, 13350,   284],\n",
       "       [   70,  4236,  1012]], dtype=int64)"
      ]
     },
     "execution_count": 215,
     "metadata": {},
     "output_type": "execute_result"
    }
   ],
   "source": [
    "# Confusion matrix\n",
    "from sklearn.metrics import confusion_matrix\n",
    "import sklearn.metrics as met\n",
    "confusion_matrix(Y_test, y_pred)"
   ]
  },
  {
   "cell_type": "markdown",
   "id": "897dfc61",
   "metadata": {},
   "source": [
    "#### Accuracy"
   ]
  },
  {
   "cell_type": "code",
   "execution_count": 216,
   "id": "cf08f4de",
   "metadata": {},
   "outputs": [
    {
     "data": {
      "text/plain": [
       "0.6583"
      ]
     },
     "execution_count": 216,
     "metadata": {},
     "output_type": "execute_result"
    }
   ],
   "source": [
    "# Accuracy\n",
    "(y_pred == Y_test).mean()"
   ]
  },
  {
   "cell_type": "markdown",
   "id": "ba065ba9",
   "metadata": {},
   "source": [
    "#### Classification Report"
   ]
  },
  {
   "cell_type": "code",
   "execution_count": 217,
   "id": "f0430122",
   "metadata": {},
   "outputs": [
    {
     "data": {
      "text/plain": [
       "{'0.0': {'precision': 0.6994287198130356,\n",
       "  'recall': 0.6119504714301942,\n",
       "  'f1-score': 0.6527718873068766,\n",
       "  'support': 8803},\n",
       " '1.0': {'precision': 0.6356537472621655,\n",
       "  'recall': 0.8407330436425468,\n",
       "  'f1-score': 0.7239500013557116,\n",
       "  'support': 15879},\n",
       " '2.0': {'precision': 0.7808641975308642,\n",
       "  'recall': 0.19029710417450169,\n",
       "  'f1-score': 0.3060175385545812,\n",
       "  'support': 5318},\n",
       " 'accuracy': 0.6583,\n",
       " 'macro avg': {'precision': 0.7053155548686885,\n",
       "  'recall': 0.5476602064157475,\n",
       "  'f1-score': 0.5609131424057231,\n",
       "  'support': 30000},\n",
       " 'weighted avg': {'precision': 0.6801084225253071,\n",
       "  'recall': 0.6583,\n",
       "  'f1-score': 0.6289784755174348,\n",
       "  'support': 30000}}"
      ]
     },
     "execution_count": 217,
     "metadata": {},
     "output_type": "execute_result"
    }
   ],
   "source": [
    "met.classification_report(Y_test,y_pred,output_dict=True)"
   ]
  },
  {
   "cell_type": "markdown",
   "id": "d2f93c2b",
   "metadata": {},
   "source": [
    "#### Auc Score"
   ]
  },
  {
   "cell_type": "code",
   "execution_count": 218,
   "id": "d64ad885",
   "metadata": {},
   "outputs": [
    {
     "data": {
      "text/plain": [
       "0.805447133466795"
      ]
     },
     "execution_count": 218,
     "metadata": {},
     "output_type": "execute_result"
    }
   ],
   "source": [
    "#AUC Score\n",
    "met.roc_auc_score(Y_test,y_pred_proba,multi_class='ovr')"
   ]
  },
  {
   "cell_type": "markdown",
   "id": "b941f801",
   "metadata": {},
   "source": [
    "#### The AUC Score for Decision Tree is 80%"
   ]
  },
  {
   "cell_type": "markdown",
   "id": "6087aba6",
   "metadata": {},
   "source": [
    "## 5.2 Random Forest"
   ]
  },
  {
   "cell_type": "code",
   "execution_count": 219,
   "id": "14b4ae30",
   "metadata": {},
   "outputs": [],
   "source": [
    "#importing packages\n",
    "from sklearn.ensemble import RandomForestClassifier"
   ]
  },
  {
   "cell_type": "code",
   "execution_count": 220,
   "id": "0acbf004",
   "metadata": {},
   "outputs": [],
   "source": [
    "cl = RandomForestClassifier(random_state = 0)"
   ]
  },
  {
   "cell_type": "markdown",
   "id": "b58eef47",
   "metadata": {},
   "source": [
    "#### Trainning the model"
   ]
  },
  {
   "cell_type": "code",
   "execution_count": 221,
   "id": "f328593d",
   "metadata": {},
   "outputs": [
    {
     "data": {
      "text/plain": [
       "RandomForestClassifier(random_state=0)"
      ]
     },
     "execution_count": 221,
     "metadata": {},
     "output_type": "execute_result"
    }
   ],
   "source": [
    "cl.fit(X_train, Y_train)"
   ]
  },
  {
   "cell_type": "markdown",
   "id": "4b10c131",
   "metadata": {},
   "source": [
    "#### Prediction"
   ]
  },
  {
   "cell_type": "code",
   "execution_count": 222,
   "id": "2b52426d",
   "metadata": {},
   "outputs": [
    {
     "data": {
      "text/plain": [
       "array([0., 1., 1., ..., 2., 0., 1.])"
      ]
     },
     "execution_count": 222,
     "metadata": {},
     "output_type": "execute_result"
    }
   ],
   "source": [
    "cl.predict(X_test)"
   ]
  },
  {
   "cell_type": "code",
   "execution_count": 223,
   "id": "3e8d6392",
   "metadata": {},
   "outputs": [
    {
     "data": {
      "text/plain": [
       "0.8171"
      ]
     },
     "execution_count": 223,
     "metadata": {},
     "output_type": "execute_result"
    }
   ],
   "source": [
    "#Accuracy\n",
    "(cl.predict(X_test) == Y_test).mean()"
   ]
  },
  {
   "cell_type": "code",
   "execution_count": 224,
   "id": "b8fd1ad4",
   "metadata": {},
   "outputs": [
    {
     "data": {
      "text/plain": [
       "array([0., 1., 1., 0., 1., 1., 2., 1., 1., 1., 1., 1., 2., 2., 1., 1., 1.,\n",
       "       2., 2., 1.])"
      ]
     },
     "execution_count": 224,
     "metadata": {},
     "output_type": "execute_result"
    }
   ],
   "source": [
    "y_pred = cl.predict(X_test)\n",
    "y_pred[:20]"
   ]
  },
  {
   "cell_type": "markdown",
   "id": "b32fc449",
   "metadata": {},
   "source": [
    "#### Predicting Probabilities"
   ]
  },
  {
   "cell_type": "code",
   "execution_count": 225,
   "id": "7d2f4df4",
   "metadata": {},
   "outputs": [
    {
     "data": {
      "text/plain": [
       "array([0.33, 0.65, 0.51, ..., 0.21, 0.26, 0.78])"
      ]
     },
     "execution_count": 225,
     "metadata": {},
     "output_type": "execute_result"
    }
   ],
   "source": [
    "cl.predict_proba(X_test)[:, 1]"
   ]
  },
  {
   "cell_type": "code",
   "execution_count": 226,
   "id": "7156f2e1",
   "metadata": {},
   "outputs": [],
   "source": [
    "y_pred_proba = cl.predict_proba(X_test)"
   ]
  },
  {
   "cell_type": "markdown",
   "id": "cb1b268d",
   "metadata": {},
   "source": [
    "#### Confusion Matrix"
   ]
  },
  {
   "cell_type": "code",
   "execution_count": 227,
   "id": "b36bac4e",
   "metadata": {},
   "outputs": [
    {
     "data": {
      "text/plain": [
       "array([[ 7396,  1388,    19],\n",
       "       [ 1774, 13107,   998],\n",
       "       [   18,  1290,  4010]], dtype=int64)"
      ]
     },
     "execution_count": 227,
     "metadata": {},
     "output_type": "execute_result"
    }
   ],
   "source": [
    "# Confusion matrix\n",
    "from sklearn.metrics import confusion_matrix\n",
    "confusion_matrix(Y_test, y_pred)"
   ]
  },
  {
   "cell_type": "markdown",
   "id": "a7536547",
   "metadata": {},
   "source": [
    "#### Accuracy"
   ]
  },
  {
   "cell_type": "code",
   "execution_count": 228,
   "id": "4553af6a",
   "metadata": {},
   "outputs": [
    {
     "data": {
      "text/plain": [
       "0.8171"
      ]
     },
     "execution_count": 228,
     "metadata": {},
     "output_type": "execute_result"
    }
   ],
   "source": [
    "# Accuracy\n",
    "(y_pred == Y_test).mean()"
   ]
  },
  {
   "cell_type": "markdown",
   "id": "57a752aa",
   "metadata": {},
   "source": [
    "#### Random Forest gives us 81.7% accuracy which is better than the decision tree."
   ]
  },
  {
   "cell_type": "markdown",
   "id": "d25b494f",
   "metadata": {},
   "source": [
    "#### Classification Report"
   ]
  },
  {
   "cell_type": "code",
   "execution_count": 229,
   "id": "a74734ba",
   "metadata": {},
   "outputs": [
    {
     "data": {
      "text/plain": [
       "{'0.0': {'precision': 0.804962995211145,\n",
       "  'recall': 0.8401681245030104,\n",
       "  'f1-score': 0.8221888722138848,\n",
       "  'support': 8803},\n",
       " '1.0': {'precision': 0.830345264491606,\n",
       "  'recall': 0.8254298129605139,\n",
       "  'f1-score': 0.8278802425467408,\n",
       "  'support': 15879},\n",
       " '2.0': {'precision': 0.7976924607121544,\n",
       "  'recall': 0.7540428732606242,\n",
       "  'f1-score': 0.7752537457709038,\n",
       "  'support': 5318},\n",
       " 'accuracy': 0.8171,\n",
       " 'macro avg': {'precision': 0.8110002401383017,\n",
       "  'recall': 0.8065469369080495,\n",
       "  'f1-score': 0.8084409535105098,\n",
       "  'support': 30000},\n",
       " 'weighted avg': {'precision': 0.8171090069257719,\n",
       "  'recall': 0.8171,\n",
       "  'f1-score': 0.8168812811169396,\n",
       "  'support': 30000}}"
      ]
     },
     "execution_count": 229,
     "metadata": {},
     "output_type": "execute_result"
    }
   ],
   "source": [
    "met.classification_report(Y_test,y_pred,output_dict=True)"
   ]
  },
  {
   "cell_type": "markdown",
   "id": "dac6121f",
   "metadata": {},
   "source": [
    "#### Roc Score"
   ]
  },
  {
   "cell_type": "code",
   "execution_count": 230,
   "id": "ec3053e4",
   "metadata": {
    "scrolled": true
   },
   "outputs": [
    {
     "data": {
      "text/plain": [
       "0.9305905016465686"
      ]
     },
     "execution_count": 230,
     "metadata": {},
     "output_type": "execute_result"
    }
   ],
   "source": [
    "met.roc_auc_score(Y_test,y_pred_proba,multi_class='ovr')"
   ]
  },
  {
   "cell_type": "markdown",
   "id": "20bfad15",
   "metadata": {},
   "source": [
    "#### The ROC Score for Random Forest is 93%"
   ]
  },
  {
   "cell_type": "markdown",
   "id": "d7d91790",
   "metadata": {},
   "source": [
    "## 5.3 Clustering with K-means"
   ]
  },
  {
   "cell_type": "code",
   "execution_count": 231,
   "id": "cf7226d6",
   "metadata": {},
   "outputs": [],
   "source": [
    "#Importing Packages\n",
    "from sklearn.cluster import KMeans"
   ]
  },
  {
   "cell_type": "code",
   "execution_count": 232,
   "id": "ba846118",
   "metadata": {},
   "outputs": [],
   "source": [
    "#Training Model\n",
    "clu = KMeans(n_clusters=3, random_state=0)"
   ]
  },
  {
   "cell_type": "code",
   "execution_count": 233,
   "id": "cd5510f4",
   "metadata": {},
   "outputs": [
    {
     "data": {
      "text/plain": [
       "Index(['Month', 'Age', 'Annual_Income', 'Monthly_Inhand_Salary',\n",
       "       'Delay_from_due_date', 'Outstanding_Debt', 'Credit_Utilization_Ratio',\n",
       "       'Credit_History_Age', 'Payment_of_Min_Amount', 'Total_EMI_per_month',\n",
       "       'Amount_invested_monthly', 'Monthly_Balance', 'Credit_Score',\n",
       "       'Occupation', 'Credit_Mix', 'Changed_Credit_Limit', 'Interest_Rate',\n",
       "       'Num_Bank_Accounts', 'Num_Credit_Card', 'Num_Credit_Inquiries',\n",
       "       'Num_of_Delayed_Payment', 'Auto Loan', 'Credit-Builder Loan',\n",
       "       'Not Specified', 'Personal Loan', 'Payday Loan', 'Mortgage Loan',\n",
       "       'Home Equity Loan', 'Debt Consolidation Loan', 'Student Loan',\n",
       "       'Payment_Behaviour_Spent', 'Payment_Behaviour_Valuepayments'],\n",
       "      dtype='object')"
      ]
     },
     "execution_count": 233,
     "metadata": {},
     "output_type": "execute_result"
    }
   ],
   "source": [
    "df_clean.columns"
   ]
  },
  {
   "cell_type": "code",
   "execution_count": 234,
   "id": "ea801b4e",
   "metadata": {},
   "outputs": [],
   "source": [
    "df_clus = df_clean.drop(columns=['Changed_Credit_Limit','Credit_Mix','Annual_Income'])"
   ]
  },
  {
   "cell_type": "code",
   "execution_count": 235,
   "id": "11475407",
   "metadata": {},
   "outputs": [
    {
     "data": {
      "text/plain": [
       "KMeans(n_clusters=3, random_state=0)"
      ]
     },
     "execution_count": 235,
     "metadata": {},
     "output_type": "execute_result"
    }
   ],
   "source": [
    "#Fitting the model\n",
    "clu.fit(df_clus)"
   ]
  },
  {
   "cell_type": "code",
   "execution_count": 236,
   "id": "8c65b37c",
   "metadata": {},
   "outputs": [
    {
     "data": {
      "text/plain": [
       "array([0, 0, 0, ..., 0, 0, 0])"
      ]
     },
     "execution_count": 236,
     "metadata": {},
     "output_type": "execute_result"
    }
   ],
   "source": [
    "clu.labels_"
   ]
  },
  {
   "cell_type": "code",
   "execution_count": 237,
   "id": "e0ef7056",
   "metadata": {},
   "outputs": [],
   "source": [
    "df_clus['cluster']=clu.labels_"
   ]
  },
  {
   "cell_type": "code",
   "execution_count": 238,
   "id": "27781ef1",
   "metadata": {
    "scrolled": true
   },
   "outputs": [
    {
     "data": {
      "text/html": [
       "<div>\n",
       "<style scoped>\n",
       "    .dataframe tbody tr th:only-of-type {\n",
       "        vertical-align: middle;\n",
       "    }\n",
       "\n",
       "    .dataframe tbody tr th {\n",
       "        vertical-align: top;\n",
       "    }\n",
       "\n",
       "    .dataframe thead th {\n",
       "        text-align: right;\n",
       "    }\n",
       "</style>\n",
       "<table border=\"1\" class=\"dataframe\">\n",
       "  <thead>\n",
       "    <tr style=\"text-align: right;\">\n",
       "      <th></th>\n",
       "      <th>Month</th>\n",
       "      <th>Age</th>\n",
       "      <th>Monthly_Inhand_Salary</th>\n",
       "      <th>Delay_from_due_date</th>\n",
       "      <th>Outstanding_Debt</th>\n",
       "      <th>Credit_Utilization_Ratio</th>\n",
       "      <th>Credit_History_Age</th>\n",
       "      <th>Payment_of_Min_Amount</th>\n",
       "      <th>Total_EMI_per_month</th>\n",
       "      <th>Amount_invested_monthly</th>\n",
       "      <th>Monthly_Balance</th>\n",
       "      <th>Credit_Score</th>\n",
       "      <th>Occupation</th>\n",
       "      <th>Interest_Rate</th>\n",
       "      <th>Num_Bank_Accounts</th>\n",
       "      <th>Num_Credit_Card</th>\n",
       "      <th>Num_Credit_Inquiries</th>\n",
       "      <th>Num_of_Delayed_Payment</th>\n",
       "      <th>Auto Loan</th>\n",
       "      <th>Credit-Builder Loan</th>\n",
       "      <th>Not Specified</th>\n",
       "      <th>Personal Loan</th>\n",
       "      <th>Payday Loan</th>\n",
       "      <th>Mortgage Loan</th>\n",
       "      <th>Home Equity Loan</th>\n",
       "      <th>Debt Consolidation Loan</th>\n",
       "      <th>Student Loan</th>\n",
       "      <th>Payment_Behaviour_Spent</th>\n",
       "      <th>Payment_Behaviour_Valuepayments</th>\n",
       "    </tr>\n",
       "    <tr>\n",
       "      <th>cluster</th>\n",
       "      <th></th>\n",
       "      <th></th>\n",
       "      <th></th>\n",
       "      <th></th>\n",
       "      <th></th>\n",
       "      <th></th>\n",
       "      <th></th>\n",
       "      <th></th>\n",
       "      <th></th>\n",
       "      <th></th>\n",
       "      <th></th>\n",
       "      <th></th>\n",
       "      <th></th>\n",
       "      <th></th>\n",
       "      <th></th>\n",
       "      <th></th>\n",
       "      <th></th>\n",
       "      <th></th>\n",
       "      <th></th>\n",
       "      <th></th>\n",
       "      <th></th>\n",
       "      <th></th>\n",
       "      <th></th>\n",
       "      <th></th>\n",
       "      <th></th>\n",
       "      <th></th>\n",
       "      <th></th>\n",
       "      <th></th>\n",
       "      <th></th>\n",
       "    </tr>\n",
       "  </thead>\n",
       "  <tbody>\n",
       "    <tr>\n",
       "      <th>0</th>\n",
       "      <td>4.503</td>\n",
       "      <td>32.756</td>\n",
       "      <td>2477.336</td>\n",
       "      <td>23.137</td>\n",
       "      <td>1613.081</td>\n",
       "      <td>31.802</td>\n",
       "      <td>206.096</td>\n",
       "      <td>0.591</td>\n",
       "      <td>225.495</td>\n",
       "      <td>547.813</td>\n",
       "      <td>314.383</td>\n",
       "      <td>0.808</td>\n",
       "      <td>7.962</td>\n",
       "      <td>15.993</td>\n",
       "      <td>5.757</td>\n",
       "      <td>5.793</td>\n",
       "      <td>11.777</td>\n",
       "      <td>14.393</td>\n",
       "      <td>0.418</td>\n",
       "      <td>0.450</td>\n",
       "      <td>0.431</td>\n",
       "      <td>0.429</td>\n",
       "      <td>0.445</td>\n",
       "      <td>0.426</td>\n",
       "      <td>0.429</td>\n",
       "      <td>0.430</td>\n",
       "      <td>0.426</td>\n",
       "      <td>1.410</td>\n",
       "      <td>0.000</td>\n",
       "    </tr>\n",
       "    <tr>\n",
       "      <th>1</th>\n",
       "      <td>4.493</td>\n",
       "      <td>33.499</td>\n",
       "      <td>4222.198</td>\n",
       "      <td>20.638</td>\n",
       "      <td>1369.804</td>\n",
       "      <td>32.347</td>\n",
       "      <td>226.141</td>\n",
       "      <td>0.514</td>\n",
       "      <td>54793.100</td>\n",
       "      <td>612.292</td>\n",
       "      <td>399.787</td>\n",
       "      <td>0.903</td>\n",
       "      <td>7.994</td>\n",
       "      <td>14.190</td>\n",
       "      <td>5.234</td>\n",
       "      <td>5.417</td>\n",
       "      <td>10.779</td>\n",
       "      <td>13.180</td>\n",
       "      <td>0.380</td>\n",
       "      <td>0.375</td>\n",
       "      <td>0.398</td>\n",
       "      <td>0.373</td>\n",
       "      <td>0.387</td>\n",
       "      <td>0.357</td>\n",
       "      <td>0.377</td>\n",
       "      <td>0.376</td>\n",
       "      <td>0.379</td>\n",
       "      <td>1.483</td>\n",
       "      <td>0.000</td>\n",
       "    </tr>\n",
       "    <tr>\n",
       "      <th>2</th>\n",
       "      <td>4.492</td>\n",
       "      <td>34.644</td>\n",
       "      <td>8427.146</td>\n",
       "      <td>16.022</td>\n",
       "      <td>971.625</td>\n",
       "      <td>33.468</td>\n",
       "      <td>258.302</td>\n",
       "      <td>0.357</td>\n",
       "      <td>341.235</td>\n",
       "      <td>862.930</td>\n",
       "      <td>595.650</td>\n",
       "      <td>1.085</td>\n",
       "      <td>7.928</td>\n",
       "      <td>10.970</td>\n",
       "      <td>4.420</td>\n",
       "      <td>4.902</td>\n",
       "      <td>15.876</td>\n",
       "      <td>11.077</td>\n",
       "      <td>0.285</td>\n",
       "      <td>0.295</td>\n",
       "      <td>0.311</td>\n",
       "      <td>0.291</td>\n",
       "      <td>0.312</td>\n",
       "      <td>0.301</td>\n",
       "      <td>0.298</td>\n",
       "      <td>0.284</td>\n",
       "      <td>0.301</td>\n",
       "      <td>1.621</td>\n",
       "      <td>0.000</td>\n",
       "    </tr>\n",
       "  </tbody>\n",
       "</table>\n",
       "</div>"
      ],
      "text/plain": [
       "         Month    Age  Monthly_Inhand_Salary  Delay_from_due_date  \\\n",
       "cluster                                                             \n",
       "0        4.503 32.756               2477.336               23.137   \n",
       "1        4.493 33.499               4222.198               20.638   \n",
       "2        4.492 34.644               8427.146               16.022   \n",
       "\n",
       "         Outstanding_Debt  Credit_Utilization_Ratio  Credit_History_Age  \\\n",
       "cluster                                                                   \n",
       "0                1613.081                    31.802             206.096   \n",
       "1                1369.804                    32.347             226.141   \n",
       "2                 971.625                    33.468             258.302   \n",
       "\n",
       "         Payment_of_Min_Amount  Total_EMI_per_month  Amount_invested_monthly  \\\n",
       "cluster                                                                        \n",
       "0                        0.591              225.495                  547.813   \n",
       "1                        0.514            54793.100                  612.292   \n",
       "2                        0.357              341.235                  862.930   \n",
       "\n",
       "         Monthly_Balance  Credit_Score  Occupation  Interest_Rate  \\\n",
       "cluster                                                             \n",
       "0                314.383         0.808       7.962         15.993   \n",
       "1                399.787         0.903       7.994         14.190   \n",
       "2                595.650         1.085       7.928         10.970   \n",
       "\n",
       "         Num_Bank_Accounts  Num_Credit_Card  Num_Credit_Inquiries  \\\n",
       "cluster                                                             \n",
       "0                    5.757            5.793                11.777   \n",
       "1                    5.234            5.417                10.779   \n",
       "2                    4.420            4.902                15.876   \n",
       "\n",
       "         Num_of_Delayed_Payment  Auto Loan  Credit-Builder Loan  \\\n",
       "cluster                                                           \n",
       "0                        14.393      0.418                0.450   \n",
       "1                        13.180      0.380                0.375   \n",
       "2                        11.077      0.285                0.295   \n",
       "\n",
       "         Not Specified  Personal Loan  Payday Loan  Mortgage Loan  \\\n",
       "cluster                                                             \n",
       "0                0.431          0.429        0.445          0.426   \n",
       "1                0.398          0.373        0.387          0.357   \n",
       "2                0.311          0.291        0.312          0.301   \n",
       "\n",
       "         Home Equity Loan  Debt Consolidation Loan  Student Loan  \\\n",
       "cluster                                                            \n",
       "0                   0.429                    0.430         0.426   \n",
       "1                   0.377                    0.376         0.379   \n",
       "2                   0.298                    0.284         0.301   \n",
       "\n",
       "         Payment_Behaviour_Spent  Payment_Behaviour_Valuepayments  \n",
       "cluster                                                            \n",
       "0                          1.410                            0.000  \n",
       "1                          1.483                            0.000  \n",
       "2                          1.621                            0.000  "
      ]
     },
     "execution_count": 238,
     "metadata": {},
     "output_type": "execute_result"
    }
   ],
   "source": [
    "df_clus.groupby('cluster').mean()"
   ]
  },
  {
   "cell_type": "markdown",
   "id": "8fdd2845",
   "metadata": {},
   "source": [
    "# Finding 3"
   ]
  },
  {
   "cell_type": "code",
   "execution_count": 239,
   "id": "de2a2fe0",
   "metadata": {},
   "outputs": [],
   "source": [
    "df_clean['discretized_AI_EW']=pd.cut(df_graph.Amount_invested_monthly, bins=[0, 548,611,862,10000])"
   ]
  },
  {
   "cell_type": "code",
   "execution_count": 240,
   "id": "3941d351",
   "metadata": {},
   "outputs": [
    {
     "data": {
      "text/plain": [
       "<seaborn.axisgrid.FacetGrid at 0x21414534790>"
      ]
     },
     "execution_count": 240,
     "metadata": {},
     "output_type": "execute_result"
    },
    {
     "data": {
      "image/png": "[encoded data removed]",
      "text/plain": [
       "<Figure size 1573.12x360 with 1 Axes>"
      ]
     },
     "metadata": {
      "needs_background": "light"
     },
     "output_type": "display_data"
    }
   ],
   "source": [
    "sns.catplot(y='Monthly_Balance', data=df_clean,x='discretized_AI_EW',hue='Payment_of_Min_Amount',aspect=4, kind='bar')"
   ]
  },
  {
   "cell_type": "markdown",
   "id": "05097243",
   "metadata": {},
   "source": [
    "# People with higher Monthly Balance are interested in Investing More Rather than Paying their Minimum Credit Amount"
   ]
  },
  {
   "cell_type": "markdown",
   "id": "4c822e26",
   "metadata": {},
   "source": [
    "# Finding 4"
   ]
  },
  {
   "cell_type": "code",
   "execution_count": 241,
   "id": "56381b45",
   "metadata": {},
   "outputs": [
    {
     "data": {
      "text/plain": [
       "<seaborn.axisgrid.FacetGrid at 0x2141452bfd0>"
      ]
     },
     "execution_count": 241,
     "metadata": {},
     "output_type": "execute_result"
    },
    {
     "data": {
      "image/png": "[encoded data removed]",
      "text/plain": [
       "<Figure size 1521.5x360 with 1 Axes>"
      ]
     },
     "metadata": {
      "needs_background": "light"
     },
     "output_type": "display_data"
    }
   ],
   "source": [
    "sns.catplot(x='Interest_Rate', data=df_graph,y='Num_Credit_Card',hue = 'Credit_Score',aspect=4, kind='point')"
   ]
  },
  {
   "cell_type": "markdown",
   "id": "3c20d180",
   "metadata": {},
   "source": [
    "# There is more chance of you having a good credit score if you have Higher Number of credit card at Same or Higher Interest Rate"
   ]
  },
  {
   "cell_type": "markdown",
   "id": "be767bc7",
   "metadata": {},
   "source": [
    "# 6. Interesting Findings "
   ]
  },
  {
   "cell_type": "markdown",
   "id": "5e099b05",
   "metadata": {},
   "source": [
    "<div class=\"alert alert-block alert-success\"> \n",
    "\n",
    "<b>Finding 1:</b> Well paid Managers are not good at managing their money! \n",
    "Managers with higher average salary have poorer credit scores  than managers with lower average salary.\n",
    "\n",
    "    \n",
    "<b>Finding 2:</b> People are more interested in investing than paying their monthly balance even when it affects their Credit Score.\n",
    "\n",
    "    \n",
    "<b>Finding 3:</b> The higher the outstanding debt and higher the number of delayed payment, the higher is the credit score on the condition that you have a lower interest rate.\n",
    "\n",
    "    \n",
    "<b>Finding 4:</b> There is more chance of you having a good credit score if you have higher number of credit cards at Same or Higher Interest Rate. \n",
    " </div>"
   ]
  },
  {
   "cell_type": "markdown",
   "id": "72eb96b7",
   "metadata": {},
   "source": [
    "# 7. Conclusions"
   ]
  },
  {
   "cell_type": "markdown",
   "id": "8db3b6ee",
   "metadata": {},
   "source": [
    "<div class=\"alert alert-block alert-info\"> \n",
    "    \n",
    "* To Maintain a good credit score, make your payments on time. \n",
    "\n",
    "\n",
    "* Longer Credit History leads to better Credit Score. So start <b>EARLY!</b>\n",
    "\n",
    "\n",
    "* Try to make credit card payments in full. Paying just the minimum due amount will not have a good impact on your credit score.\n",
    "\n",
    "</div>"
   ]
  }
 ],
 "metadata": {
  "kernelspec": {
   "display_name": "Python 3 (ipykernel)",
   "language": "python",
   "name": "python3"
  },
  "language_info": {
   "codemirror_mode": {
    "name": "ipython",
    "version": 3
   },
   "file_extension": ".py",
   "mimetype": "text/x-python",
   "name": "python",
   "nbconvert_exporter": "python",
   "pygments_lexer": "ipython3",
   "version": "3.9.12"
  }
 },
 "nbformat": 4,
 "nbformat_minor": 5
}
